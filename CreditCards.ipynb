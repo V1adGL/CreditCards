{
 "cells": [
  {
   "cell_type": "code",
   "execution_count": 1,
   "id": "dbd7fefe",
   "metadata": {},
   "outputs": [],
   "source": [
    "import pandas as pd\n",
    "import seaborn as sns\n",
    "import matplotlib.pyplot as plt\n",
    "from sklearn.model_selection import train_test_split\n"
   ]
  },
  {
   "cell_type": "markdown",
   "id": "13f7647e",
   "metadata": {},
   "source": [
    "# Прочитаем файл и выведем основную информацию по нему"
   ]
  },
  {
   "cell_type": "code",
   "execution_count": 2,
   "id": "58252fe8",
   "metadata": {},
   "outputs": [
    {
     "data": {
      "text/html": [
       "<div>\n",
       "<style scoped>\n",
       "    .dataframe tbody tr th:only-of-type {\n",
       "        vertical-align: middle;\n",
       "    }\n",
       "\n",
       "    .dataframe tbody tr th {\n",
       "        vertical-align: top;\n",
       "    }\n",
       "\n",
       "    .dataframe thead th {\n",
       "        text-align: right;\n",
       "    }\n",
       "</style>\n",
       "<table border=\"1\" class=\"dataframe\">\n",
       "  <thead>\n",
       "    <tr style=\"text-align: right;\">\n",
       "      <th></th>\n",
       "      <th>Time</th>\n",
       "      <th>V1</th>\n",
       "      <th>V2</th>\n",
       "      <th>V3</th>\n",
       "      <th>V4</th>\n",
       "      <th>V5</th>\n",
       "      <th>V6</th>\n",
       "      <th>V7</th>\n",
       "      <th>V8</th>\n",
       "      <th>V9</th>\n",
       "      <th>...</th>\n",
       "      <th>V21</th>\n",
       "      <th>V22</th>\n",
       "      <th>V23</th>\n",
       "      <th>V24</th>\n",
       "      <th>V25</th>\n",
       "      <th>V26</th>\n",
       "      <th>V27</th>\n",
       "      <th>V28</th>\n",
       "      <th>Amount</th>\n",
       "      <th>Class</th>\n",
       "    </tr>\n",
       "  </thead>\n",
       "  <tbody>\n",
       "    <tr>\n",
       "      <th>0</th>\n",
       "      <td>0.0</td>\n",
       "      <td>-1.359807</td>\n",
       "      <td>-0.072781</td>\n",
       "      <td>2.536347</td>\n",
       "      <td>1.378155</td>\n",
       "      <td>-0.338321</td>\n",
       "      <td>0.462388</td>\n",
       "      <td>0.239599</td>\n",
       "      <td>0.098698</td>\n",
       "      <td>0.363787</td>\n",
       "      <td>...</td>\n",
       "      <td>-0.018307</td>\n",
       "      <td>0.277838</td>\n",
       "      <td>-0.110474</td>\n",
       "      <td>0.066928</td>\n",
       "      <td>0.128539</td>\n",
       "      <td>-0.189115</td>\n",
       "      <td>0.133558</td>\n",
       "      <td>-0.021053</td>\n",
       "      <td>149.62</td>\n",
       "      <td>0</td>\n",
       "    </tr>\n",
       "    <tr>\n",
       "      <th>1</th>\n",
       "      <td>0.0</td>\n",
       "      <td>1.191857</td>\n",
       "      <td>0.266151</td>\n",
       "      <td>0.166480</td>\n",
       "      <td>0.448154</td>\n",
       "      <td>0.060018</td>\n",
       "      <td>-0.082361</td>\n",
       "      <td>-0.078803</td>\n",
       "      <td>0.085102</td>\n",
       "      <td>-0.255425</td>\n",
       "      <td>...</td>\n",
       "      <td>-0.225775</td>\n",
       "      <td>-0.638672</td>\n",
       "      <td>0.101288</td>\n",
       "      <td>-0.339846</td>\n",
       "      <td>0.167170</td>\n",
       "      <td>0.125895</td>\n",
       "      <td>-0.008983</td>\n",
       "      <td>0.014724</td>\n",
       "      <td>2.69</td>\n",
       "      <td>0</td>\n",
       "    </tr>\n",
       "    <tr>\n",
       "      <th>2</th>\n",
       "      <td>1.0</td>\n",
       "      <td>-1.358354</td>\n",
       "      <td>-1.340163</td>\n",
       "      <td>1.773209</td>\n",
       "      <td>0.379780</td>\n",
       "      <td>-0.503198</td>\n",
       "      <td>1.800499</td>\n",
       "      <td>0.791461</td>\n",
       "      <td>0.247676</td>\n",
       "      <td>-1.514654</td>\n",
       "      <td>...</td>\n",
       "      <td>0.247998</td>\n",
       "      <td>0.771679</td>\n",
       "      <td>0.909412</td>\n",
       "      <td>-0.689281</td>\n",
       "      <td>-0.327642</td>\n",
       "      <td>-0.139097</td>\n",
       "      <td>-0.055353</td>\n",
       "      <td>-0.059752</td>\n",
       "      <td>378.66</td>\n",
       "      <td>0</td>\n",
       "    </tr>\n",
       "    <tr>\n",
       "      <th>3</th>\n",
       "      <td>1.0</td>\n",
       "      <td>-0.966272</td>\n",
       "      <td>-0.185226</td>\n",
       "      <td>1.792993</td>\n",
       "      <td>-0.863291</td>\n",
       "      <td>-0.010309</td>\n",
       "      <td>1.247203</td>\n",
       "      <td>0.237609</td>\n",
       "      <td>0.377436</td>\n",
       "      <td>-1.387024</td>\n",
       "      <td>...</td>\n",
       "      <td>-0.108300</td>\n",
       "      <td>0.005274</td>\n",
       "      <td>-0.190321</td>\n",
       "      <td>-1.175575</td>\n",
       "      <td>0.647376</td>\n",
       "      <td>-0.221929</td>\n",
       "      <td>0.062723</td>\n",
       "      <td>0.061458</td>\n",
       "      <td>123.50</td>\n",
       "      <td>0</td>\n",
       "    </tr>\n",
       "    <tr>\n",
       "      <th>4</th>\n",
       "      <td>2.0</td>\n",
       "      <td>-1.158233</td>\n",
       "      <td>0.877737</td>\n",
       "      <td>1.548718</td>\n",
       "      <td>0.403034</td>\n",
       "      <td>-0.407193</td>\n",
       "      <td>0.095921</td>\n",
       "      <td>0.592941</td>\n",
       "      <td>-0.270533</td>\n",
       "      <td>0.817739</td>\n",
       "      <td>...</td>\n",
       "      <td>-0.009431</td>\n",
       "      <td>0.798278</td>\n",
       "      <td>-0.137458</td>\n",
       "      <td>0.141267</td>\n",
       "      <td>-0.206010</td>\n",
       "      <td>0.502292</td>\n",
       "      <td>0.219422</td>\n",
       "      <td>0.215153</td>\n",
       "      <td>69.99</td>\n",
       "      <td>0</td>\n",
       "    </tr>\n",
       "  </tbody>\n",
       "</table>\n",
       "<p>5 rows × 31 columns</p>\n",
       "</div>"
      ],
      "text/plain": [
       "   Time        V1        V2        V3        V4        V5        V6        V7  \\\n",
       "0   0.0 -1.359807 -0.072781  2.536347  1.378155 -0.338321  0.462388  0.239599   \n",
       "1   0.0  1.191857  0.266151  0.166480  0.448154  0.060018 -0.082361 -0.078803   \n",
       "2   1.0 -1.358354 -1.340163  1.773209  0.379780 -0.503198  1.800499  0.791461   \n",
       "3   1.0 -0.966272 -0.185226  1.792993 -0.863291 -0.010309  1.247203  0.237609   \n",
       "4   2.0 -1.158233  0.877737  1.548718  0.403034 -0.407193  0.095921  0.592941   \n",
       "\n",
       "         V8        V9  ...       V21       V22       V23       V24       V25  \\\n",
       "0  0.098698  0.363787  ... -0.018307  0.277838 -0.110474  0.066928  0.128539   \n",
       "1  0.085102 -0.255425  ... -0.225775 -0.638672  0.101288 -0.339846  0.167170   \n",
       "2  0.247676 -1.514654  ...  0.247998  0.771679  0.909412 -0.689281 -0.327642   \n",
       "3  0.377436 -1.387024  ... -0.108300  0.005274 -0.190321 -1.175575  0.647376   \n",
       "4 -0.270533  0.817739  ... -0.009431  0.798278 -0.137458  0.141267 -0.206010   \n",
       "\n",
       "        V26       V27       V28  Amount  Class  \n",
       "0 -0.189115  0.133558 -0.021053  149.62      0  \n",
       "1  0.125895 -0.008983  0.014724    2.69      0  \n",
       "2 -0.139097 -0.055353 -0.059752  378.66      0  \n",
       "3 -0.221929  0.062723  0.061458  123.50      0  \n",
       "4  0.502292  0.219422  0.215153   69.99      0  \n",
       "\n",
       "[5 rows x 31 columns]"
      ]
     },
     "execution_count": 2,
     "metadata": {},
     "output_type": "execute_result"
    }
   ],
   "source": [
    "df=pd.read_csv('creditcard.csv')\n",
    "df.head()"
   ]
  },
  {
   "cell_type": "code",
   "execution_count": 3,
   "id": "742b799b",
   "metadata": {},
   "outputs": [
    {
     "data": {
      "text/html": [
       "<div>\n",
       "<style scoped>\n",
       "    .dataframe tbody tr th:only-of-type {\n",
       "        vertical-align: middle;\n",
       "    }\n",
       "\n",
       "    .dataframe tbody tr th {\n",
       "        vertical-align: top;\n",
       "    }\n",
       "\n",
       "    .dataframe thead th {\n",
       "        text-align: right;\n",
       "    }\n",
       "</style>\n",
       "<table border=\"1\" class=\"dataframe\">\n",
       "  <thead>\n",
       "    <tr style=\"text-align: right;\">\n",
       "      <th></th>\n",
       "      <th>Time</th>\n",
       "      <th>V1</th>\n",
       "      <th>V2</th>\n",
       "      <th>V3</th>\n",
       "      <th>V4</th>\n",
       "      <th>V5</th>\n",
       "      <th>V6</th>\n",
       "      <th>V7</th>\n",
       "      <th>V8</th>\n",
       "      <th>V9</th>\n",
       "      <th>...</th>\n",
       "      <th>V21</th>\n",
       "      <th>V22</th>\n",
       "      <th>V23</th>\n",
       "      <th>V24</th>\n",
       "      <th>V25</th>\n",
       "      <th>V26</th>\n",
       "      <th>V27</th>\n",
       "      <th>V28</th>\n",
       "      <th>Amount</th>\n",
       "      <th>Class</th>\n",
       "    </tr>\n",
       "  </thead>\n",
       "  <tbody>\n",
       "    <tr>\n",
       "      <th>count</th>\n",
       "      <td>284807.000000</td>\n",
       "      <td>2.848070e+05</td>\n",
       "      <td>2.848070e+05</td>\n",
       "      <td>2.848070e+05</td>\n",
       "      <td>2.848070e+05</td>\n",
       "      <td>2.848070e+05</td>\n",
       "      <td>2.848070e+05</td>\n",
       "      <td>2.848070e+05</td>\n",
       "      <td>2.848070e+05</td>\n",
       "      <td>2.848070e+05</td>\n",
       "      <td>...</td>\n",
       "      <td>2.848070e+05</td>\n",
       "      <td>2.848070e+05</td>\n",
       "      <td>2.848070e+05</td>\n",
       "      <td>2.848070e+05</td>\n",
       "      <td>2.848070e+05</td>\n",
       "      <td>2.848070e+05</td>\n",
       "      <td>2.848070e+05</td>\n",
       "      <td>2.848070e+05</td>\n",
       "      <td>284807.000000</td>\n",
       "      <td>284807.000000</td>\n",
       "    </tr>\n",
       "    <tr>\n",
       "      <th>mean</th>\n",
       "      <td>94813.859575</td>\n",
       "      <td>3.918649e-15</td>\n",
       "      <td>5.682686e-16</td>\n",
       "      <td>-8.761736e-15</td>\n",
       "      <td>2.811118e-15</td>\n",
       "      <td>-1.552103e-15</td>\n",
       "      <td>2.040130e-15</td>\n",
       "      <td>-1.698953e-15</td>\n",
       "      <td>-1.893285e-16</td>\n",
       "      <td>-3.147640e-15</td>\n",
       "      <td>...</td>\n",
       "      <td>1.473120e-16</td>\n",
       "      <td>8.042109e-16</td>\n",
       "      <td>5.282512e-16</td>\n",
       "      <td>4.456271e-15</td>\n",
       "      <td>1.426896e-15</td>\n",
       "      <td>1.701640e-15</td>\n",
       "      <td>-3.662252e-16</td>\n",
       "      <td>-1.217809e-16</td>\n",
       "      <td>88.349619</td>\n",
       "      <td>0.001727</td>\n",
       "    </tr>\n",
       "    <tr>\n",
       "      <th>std</th>\n",
       "      <td>47488.145955</td>\n",
       "      <td>1.958696e+00</td>\n",
       "      <td>1.651309e+00</td>\n",
       "      <td>1.516255e+00</td>\n",
       "      <td>1.415869e+00</td>\n",
       "      <td>1.380247e+00</td>\n",
       "      <td>1.332271e+00</td>\n",
       "      <td>1.237094e+00</td>\n",
       "      <td>1.194353e+00</td>\n",
       "      <td>1.098632e+00</td>\n",
       "      <td>...</td>\n",
       "      <td>7.345240e-01</td>\n",
       "      <td>7.257016e-01</td>\n",
       "      <td>6.244603e-01</td>\n",
       "      <td>6.056471e-01</td>\n",
       "      <td>5.212781e-01</td>\n",
       "      <td>4.822270e-01</td>\n",
       "      <td>4.036325e-01</td>\n",
       "      <td>3.300833e-01</td>\n",
       "      <td>250.120109</td>\n",
       "      <td>0.041527</td>\n",
       "    </tr>\n",
       "    <tr>\n",
       "      <th>min</th>\n",
       "      <td>0.000000</td>\n",
       "      <td>-5.640751e+01</td>\n",
       "      <td>-7.271573e+01</td>\n",
       "      <td>-4.832559e+01</td>\n",
       "      <td>-5.683171e+00</td>\n",
       "      <td>-1.137433e+02</td>\n",
       "      <td>-2.616051e+01</td>\n",
       "      <td>-4.355724e+01</td>\n",
       "      <td>-7.321672e+01</td>\n",
       "      <td>-1.343407e+01</td>\n",
       "      <td>...</td>\n",
       "      <td>-3.483038e+01</td>\n",
       "      <td>-1.093314e+01</td>\n",
       "      <td>-4.480774e+01</td>\n",
       "      <td>-2.836627e+00</td>\n",
       "      <td>-1.029540e+01</td>\n",
       "      <td>-2.604551e+00</td>\n",
       "      <td>-2.256568e+01</td>\n",
       "      <td>-1.543008e+01</td>\n",
       "      <td>0.000000</td>\n",
       "      <td>0.000000</td>\n",
       "    </tr>\n",
       "    <tr>\n",
       "      <th>25%</th>\n",
       "      <td>54201.500000</td>\n",
       "      <td>-9.203734e-01</td>\n",
       "      <td>-5.985499e-01</td>\n",
       "      <td>-8.903648e-01</td>\n",
       "      <td>-8.486401e-01</td>\n",
       "      <td>-6.915971e-01</td>\n",
       "      <td>-7.682956e-01</td>\n",
       "      <td>-5.540759e-01</td>\n",
       "      <td>-2.086297e-01</td>\n",
       "      <td>-6.430976e-01</td>\n",
       "      <td>...</td>\n",
       "      <td>-2.283949e-01</td>\n",
       "      <td>-5.423504e-01</td>\n",
       "      <td>-1.618463e-01</td>\n",
       "      <td>-3.545861e-01</td>\n",
       "      <td>-3.171451e-01</td>\n",
       "      <td>-3.269839e-01</td>\n",
       "      <td>-7.083953e-02</td>\n",
       "      <td>-5.295979e-02</td>\n",
       "      <td>5.600000</td>\n",
       "      <td>0.000000</td>\n",
       "    </tr>\n",
       "    <tr>\n",
       "      <th>50%</th>\n",
       "      <td>84692.000000</td>\n",
       "      <td>1.810880e-02</td>\n",
       "      <td>6.548556e-02</td>\n",
       "      <td>1.798463e-01</td>\n",
       "      <td>-1.984653e-02</td>\n",
       "      <td>-5.433583e-02</td>\n",
       "      <td>-2.741871e-01</td>\n",
       "      <td>4.010308e-02</td>\n",
       "      <td>2.235804e-02</td>\n",
       "      <td>-5.142873e-02</td>\n",
       "      <td>...</td>\n",
       "      <td>-2.945017e-02</td>\n",
       "      <td>6.781943e-03</td>\n",
       "      <td>-1.119293e-02</td>\n",
       "      <td>4.097606e-02</td>\n",
       "      <td>1.659350e-02</td>\n",
       "      <td>-5.213911e-02</td>\n",
       "      <td>1.342146e-03</td>\n",
       "      <td>1.124383e-02</td>\n",
       "      <td>22.000000</td>\n",
       "      <td>0.000000</td>\n",
       "    </tr>\n",
       "    <tr>\n",
       "      <th>75%</th>\n",
       "      <td>139320.500000</td>\n",
       "      <td>1.315642e+00</td>\n",
       "      <td>8.037239e-01</td>\n",
       "      <td>1.027196e+00</td>\n",
       "      <td>7.433413e-01</td>\n",
       "      <td>6.119264e-01</td>\n",
       "      <td>3.985649e-01</td>\n",
       "      <td>5.704361e-01</td>\n",
       "      <td>3.273459e-01</td>\n",
       "      <td>5.971390e-01</td>\n",
       "      <td>...</td>\n",
       "      <td>1.863772e-01</td>\n",
       "      <td>5.285536e-01</td>\n",
       "      <td>1.476421e-01</td>\n",
       "      <td>4.395266e-01</td>\n",
       "      <td>3.507156e-01</td>\n",
       "      <td>2.409522e-01</td>\n",
       "      <td>9.104512e-02</td>\n",
       "      <td>7.827995e-02</td>\n",
       "      <td>77.165000</td>\n",
       "      <td>0.000000</td>\n",
       "    </tr>\n",
       "    <tr>\n",
       "      <th>max</th>\n",
       "      <td>172792.000000</td>\n",
       "      <td>2.454930e+00</td>\n",
       "      <td>2.205773e+01</td>\n",
       "      <td>9.382558e+00</td>\n",
       "      <td>1.687534e+01</td>\n",
       "      <td>3.480167e+01</td>\n",
       "      <td>7.330163e+01</td>\n",
       "      <td>1.205895e+02</td>\n",
       "      <td>2.000721e+01</td>\n",
       "      <td>1.559499e+01</td>\n",
       "      <td>...</td>\n",
       "      <td>2.720284e+01</td>\n",
       "      <td>1.050309e+01</td>\n",
       "      <td>2.252841e+01</td>\n",
       "      <td>4.584549e+00</td>\n",
       "      <td>7.519589e+00</td>\n",
       "      <td>3.517346e+00</td>\n",
       "      <td>3.161220e+01</td>\n",
       "      <td>3.384781e+01</td>\n",
       "      <td>25691.160000</td>\n",
       "      <td>1.000000</td>\n",
       "    </tr>\n",
       "  </tbody>\n",
       "</table>\n",
       "<p>8 rows × 31 columns</p>\n",
       "</div>"
      ],
      "text/plain": [
       "                Time            V1            V2            V3            V4  \\\n",
       "count  284807.000000  2.848070e+05  2.848070e+05  2.848070e+05  2.848070e+05   \n",
       "mean    94813.859575  3.918649e-15  5.682686e-16 -8.761736e-15  2.811118e-15   \n",
       "std     47488.145955  1.958696e+00  1.651309e+00  1.516255e+00  1.415869e+00   \n",
       "min         0.000000 -5.640751e+01 -7.271573e+01 -4.832559e+01 -5.683171e+00   \n",
       "25%     54201.500000 -9.203734e-01 -5.985499e-01 -8.903648e-01 -8.486401e-01   \n",
       "50%     84692.000000  1.810880e-02  6.548556e-02  1.798463e-01 -1.984653e-02   \n",
       "75%    139320.500000  1.315642e+00  8.037239e-01  1.027196e+00  7.433413e-01   \n",
       "max    172792.000000  2.454930e+00  2.205773e+01  9.382558e+00  1.687534e+01   \n",
       "\n",
       "                 V5            V6            V7            V8            V9  \\\n",
       "count  2.848070e+05  2.848070e+05  2.848070e+05  2.848070e+05  2.848070e+05   \n",
       "mean  -1.552103e-15  2.040130e-15 -1.698953e-15 -1.893285e-16 -3.147640e-15   \n",
       "std    1.380247e+00  1.332271e+00  1.237094e+00  1.194353e+00  1.098632e+00   \n",
       "min   -1.137433e+02 -2.616051e+01 -4.355724e+01 -7.321672e+01 -1.343407e+01   \n",
       "25%   -6.915971e-01 -7.682956e-01 -5.540759e-01 -2.086297e-01 -6.430976e-01   \n",
       "50%   -5.433583e-02 -2.741871e-01  4.010308e-02  2.235804e-02 -5.142873e-02   \n",
       "75%    6.119264e-01  3.985649e-01  5.704361e-01  3.273459e-01  5.971390e-01   \n",
       "max    3.480167e+01  7.330163e+01  1.205895e+02  2.000721e+01  1.559499e+01   \n",
       "\n",
       "       ...           V21           V22           V23           V24  \\\n",
       "count  ...  2.848070e+05  2.848070e+05  2.848070e+05  2.848070e+05   \n",
       "mean   ...  1.473120e-16  8.042109e-16  5.282512e-16  4.456271e-15   \n",
       "std    ...  7.345240e-01  7.257016e-01  6.244603e-01  6.056471e-01   \n",
       "min    ... -3.483038e+01 -1.093314e+01 -4.480774e+01 -2.836627e+00   \n",
       "25%    ... -2.283949e-01 -5.423504e-01 -1.618463e-01 -3.545861e-01   \n",
       "50%    ... -2.945017e-02  6.781943e-03 -1.119293e-02  4.097606e-02   \n",
       "75%    ...  1.863772e-01  5.285536e-01  1.476421e-01  4.395266e-01   \n",
       "max    ...  2.720284e+01  1.050309e+01  2.252841e+01  4.584549e+00   \n",
       "\n",
       "                V25           V26           V27           V28         Amount  \\\n",
       "count  2.848070e+05  2.848070e+05  2.848070e+05  2.848070e+05  284807.000000   \n",
       "mean   1.426896e-15  1.701640e-15 -3.662252e-16 -1.217809e-16      88.349619   \n",
       "std    5.212781e-01  4.822270e-01  4.036325e-01  3.300833e-01     250.120109   \n",
       "min   -1.029540e+01 -2.604551e+00 -2.256568e+01 -1.543008e+01       0.000000   \n",
       "25%   -3.171451e-01 -3.269839e-01 -7.083953e-02 -5.295979e-02       5.600000   \n",
       "50%    1.659350e-02 -5.213911e-02  1.342146e-03  1.124383e-02      22.000000   \n",
       "75%    3.507156e-01  2.409522e-01  9.104512e-02  7.827995e-02      77.165000   \n",
       "max    7.519589e+00  3.517346e+00  3.161220e+01  3.384781e+01   25691.160000   \n",
       "\n",
       "               Class  \n",
       "count  284807.000000  \n",
       "mean        0.001727  \n",
       "std         0.041527  \n",
       "min         0.000000  \n",
       "25%         0.000000  \n",
       "50%         0.000000  \n",
       "75%         0.000000  \n",
       "max         1.000000  \n",
       "\n",
       "[8 rows x 31 columns]"
      ]
     },
     "metadata": {},
     "output_type": "display_data"
    },
    {
     "name": "stdout",
     "output_type": "stream",
     "text": [
      "<class 'pandas.core.frame.DataFrame'>\n",
      "RangeIndex: 284807 entries, 0 to 284806\n",
      "Data columns (total 31 columns):\n",
      " #   Column  Non-Null Count   Dtype  \n",
      "---  ------  --------------   -----  \n",
      " 0   Time    284807 non-null  float64\n",
      " 1   V1      284807 non-null  float64\n",
      " 2   V2      284807 non-null  float64\n",
      " 3   V3      284807 non-null  float64\n",
      " 4   V4      284807 non-null  float64\n",
      " 5   V5      284807 non-null  float64\n",
      " 6   V6      284807 non-null  float64\n",
      " 7   V7      284807 non-null  float64\n",
      " 8   V8      284807 non-null  float64\n",
      " 9   V9      284807 non-null  float64\n",
      " 10  V10     284807 non-null  float64\n",
      " 11  V11     284807 non-null  float64\n",
      " 12  V12     284807 non-null  float64\n",
      " 13  V13     284807 non-null  float64\n",
      " 14  V14     284807 non-null  float64\n",
      " 15  V15     284807 non-null  float64\n",
      " 16  V16     284807 non-null  float64\n",
      " 17  V17     284807 non-null  float64\n",
      " 18  V18     284807 non-null  float64\n",
      " 19  V19     284807 non-null  float64\n",
      " 20  V20     284807 non-null  float64\n",
      " 21  V21     284807 non-null  float64\n",
      " 22  V22     284807 non-null  float64\n",
      " 23  V23     284807 non-null  float64\n",
      " 24  V24     284807 non-null  float64\n",
      " 25  V25     284807 non-null  float64\n",
      " 26  V26     284807 non-null  float64\n",
      " 27  V27     284807 non-null  float64\n",
      " 28  V28     284807 non-null  float64\n",
      " 29  Amount  284807 non-null  float64\n",
      " 30  Class   284807 non-null  int64  \n",
      "dtypes: float64(30), int64(1)\n",
      "memory usage: 67.4 MB\n"
     ]
    }
   ],
   "source": [
    "display(df.describe())\n",
    "df.info()"
   ]
  },
  {
   "cell_type": "markdown",
   "id": "5a1eb5e6",
   "metadata": {},
   "source": [
    "# Проверка на наличие пропусков, дубликатов \n"
   ]
  },
  {
   "cell_type": "code",
   "execution_count": 4,
   "id": "bd49be6c",
   "metadata": {
    "scrolled": true
   },
   "outputs": [
    {
     "data": {
      "text/plain": [
       "Time      0\n",
       "V1        0\n",
       "V2        0\n",
       "V3        0\n",
       "V4        0\n",
       "V5        0\n",
       "V6        0\n",
       "V7        0\n",
       "V8        0\n",
       "V9        0\n",
       "V10       0\n",
       "V11       0\n",
       "V12       0\n",
       "V13       0\n",
       "V14       0\n",
       "V15       0\n",
       "V16       0\n",
       "V17       0\n",
       "V18       0\n",
       "V19       0\n",
       "V20       0\n",
       "V21       0\n",
       "V22       0\n",
       "V23       0\n",
       "V24       0\n",
       "V25       0\n",
       "V26       0\n",
       "V27       0\n",
       "V28       0\n",
       "Amount    0\n",
       "Class     0\n",
       "dtype: int64"
      ]
     },
     "execution_count": 4,
     "metadata": {},
     "output_type": "execute_result"
    }
   ],
   "source": [
    "df.isnull().sum()"
   ]
  },
  {
   "cell_type": "markdown",
   "id": "d25840c2",
   "metadata": {},
   "source": [
    "### Пропусков нет"
   ]
  },
  {
   "cell_type": "code",
   "execution_count": 5,
   "id": "4195e158",
   "metadata": {},
   "outputs": [
    {
     "data": {
      "text/plain": [
       "True"
      ]
     },
     "execution_count": 5,
     "metadata": {},
     "output_type": "execute_result"
    }
   ],
   "source": [
    "df.duplicated().any()\n"
   ]
  },
  {
   "cell_type": "markdown",
   "id": "86005bb9",
   "metadata": {},
   "source": [
    "### Дубликаты есть -> удаляем"
   ]
  },
  {
   "cell_type": "code",
   "execution_count": 6,
   "id": "cfb9b0d1",
   "metadata": {},
   "outputs": [
    {
     "data": {
      "text/plain": [
       "False"
      ]
     },
     "execution_count": 6,
     "metadata": {},
     "output_type": "execute_result"
    }
   ],
   "source": [
    "df=df.drop_duplicates()\n",
    "df.duplicated().any() "
   ]
  },
  {
   "cell_type": "markdown",
   "id": "cc2bcac7",
   "metadata": {},
   "source": [
    "## Проверка на сбалансированность\n",
    "Данные можно назвать сбалансированными, если количество выборок примерно совпадает."
   ]
  },
  {
   "cell_type": "code",
   "execution_count": 7,
   "id": "e9c75db7",
   "metadata": {},
   "outputs": [
    {
     "data": {
      "image/png": "[encoded data removed]",
      "text/plain": [
       "<Figure size 360x360 with 1 Axes>"
      ]
     },
     "metadata": {
      "needs_background": "light"
     },
     "output_type": "display_data"
    }
   ],
   "source": [
    "plt.figure(figsize=(5,5))\n",
    "ax = sns.countplot(x = df['Class'], data = df, palette=\"pastel\")\n",
    "for i in ax.containers:\n",
    "    ax.bar_label(i,)"
   ]
  },
  {
   "cell_type": "markdown",
   "id": "cbdee0f3",
   "metadata": {},
   "source": [
    "Имеется два варианты: обыкновенная транзацкия (принимает значение 0) и мошенническая транзакция (принимает значение 1). Видно, что преобладают данные класса 0 - обычные транзакции. Следовательно, данные несбалансированные."
   ]
  },
  {
   "cell_type": "code",
   "execution_count": 8,
   "id": "e74c7683",
   "metadata": {},
   "outputs": [
    {
     "data": {
      "image/png": "[encoded data removed]",
      "text/plain": [
       "<Figure size 864x720 with 2 Axes>"
      ]
     },
     "metadata": {
      "needs_background": "light"
     },
     "output_type": "display_data"
    }
   ],
   "source": [
    "plt.figure(figsize = (12,10))\n",
    "plt.title('Credit Card Transactions features correlation plot')\n",
    "corr = df.corr()\n",
    "sns.heatmap(corr,xticklabels=corr.columns,yticklabels=corr.columns,linewidths=.4 , fmt='.1g')\n",
    "plt.show()"
   ]
  },
  {
   "cell_type": "markdown",
   "id": "ced3ccb2",
   "metadata": {},
   "source": [
    "На тепловой карте видно, что показатели V1-V28 никак особо не коррелируют. Исключением являются столбцы Amount и Class"
   ]
  },
  {
   "cell_type": "markdown",
   "id": "dc16e5f1",
   "metadata": {},
   "source": [
    "\n",
    "\n",
    "# Разделим исходные данные на test/train группы"
   ]
  },
  {
   "cell_type": "code",
   "execution_count": 9,
   "id": "0154b2ae",
   "metadata": {},
   "outputs": [],
   "source": [
    "X_train, X_test, y_train, y_test = train_test_split (df.drop('Class', axis=1), df['Class'] , test_size=0.2, random_state=42)"
   ]
  },
  {
   "cell_type": "markdown",
   "id": "63a9b365",
   "metadata": {},
   "source": [
    "# Работа с несбалансированными данными\n",
    "\n",
    "## 1 Сравним статистики подвыборок"
   ]
  },
  {
   "cell_type": "code",
   "execution_count": 10,
   "id": "65c2508a",
   "metadata": {},
   "outputs": [
    {
     "data": {
      "text/html": [
       "<div>\n",
       "<style scoped>\n",
       "    .dataframe tbody tr th:only-of-type {\n",
       "        vertical-align: middle;\n",
       "    }\n",
       "\n",
       "    .dataframe tbody tr th {\n",
       "        vertical-align: top;\n",
       "    }\n",
       "\n",
       "    .dataframe thead th {\n",
       "        text-align: right;\n",
       "    }\n",
       "</style>\n",
       "<table border=\"1\" class=\"dataframe\">\n",
       "  <thead>\n",
       "    <tr style=\"text-align: right;\">\n",
       "      <th></th>\n",
       "      <th>Time</th>\n",
       "      <th>V1</th>\n",
       "      <th>V2</th>\n",
       "      <th>V3</th>\n",
       "      <th>V4</th>\n",
       "      <th>V5</th>\n",
       "      <th>V6</th>\n",
       "      <th>V7</th>\n",
       "      <th>V8</th>\n",
       "      <th>V9</th>\n",
       "      <th>...</th>\n",
       "      <th>V20</th>\n",
       "      <th>V21</th>\n",
       "      <th>V22</th>\n",
       "      <th>V23</th>\n",
       "      <th>V24</th>\n",
       "      <th>V25</th>\n",
       "      <th>V26</th>\n",
       "      <th>V27</th>\n",
       "      <th>V28</th>\n",
       "      <th>Amount</th>\n",
       "    </tr>\n",
       "  </thead>\n",
       "  <tbody>\n",
       "    <tr>\n",
       "      <th>count</th>\n",
       "      <td>226980.000000</td>\n",
       "      <td>226980.000000</td>\n",
       "      <td>226980.000000</td>\n",
       "      <td>226980.000000</td>\n",
       "      <td>226980.000000</td>\n",
       "      <td>226980.000000</td>\n",
       "      <td>226980.000000</td>\n",
       "      <td>226980.000000</td>\n",
       "      <td>226980.000000</td>\n",
       "      <td>226980.000000</td>\n",
       "      <td>...</td>\n",
       "      <td>226980.000000</td>\n",
       "      <td>226980.000000</td>\n",
       "      <td>226980.000000</td>\n",
       "      <td>226980.000000</td>\n",
       "      <td>226980.000000</td>\n",
       "      <td>226980.000000</td>\n",
       "      <td>226980.000000</td>\n",
       "      <td>226980.000000</td>\n",
       "      <td>226980.000000</td>\n",
       "      <td>226980.000000</td>\n",
       "    </tr>\n",
       "    <tr>\n",
       "      <th>mean</th>\n",
       "      <td>94784.824844</td>\n",
       "      <td>0.004318</td>\n",
       "      <td>-0.002854</td>\n",
       "      <td>0.001375</td>\n",
       "      <td>-0.002222</td>\n",
       "      <td>0.002471</td>\n",
       "      <td>-0.001759</td>\n",
       "      <td>0.001506</td>\n",
       "      <td>0.000444</td>\n",
       "      <td>-0.001922</td>\n",
       "      <td>...</td>\n",
       "      <td>0.000378</td>\n",
       "      <td>-0.000333</td>\n",
       "      <td>-0.001297</td>\n",
       "      <td>0.000156</td>\n",
       "      <td>0.000080</td>\n",
       "      <td>0.000601</td>\n",
       "      <td>0.000566</td>\n",
       "      <td>0.001978</td>\n",
       "      <td>0.000719</td>\n",
       "      <td>88.504929</td>\n",
       "    </tr>\n",
       "    <tr>\n",
       "      <th>std</th>\n",
       "      <td>47495.137144</td>\n",
       "      <td>1.948313</td>\n",
       "      <td>1.649149</td>\n",
       "      <td>1.512782</td>\n",
       "      <td>1.415649</td>\n",
       "      <td>1.388556</td>\n",
       "      <td>1.335118</td>\n",
       "      <td>1.240837</td>\n",
       "      <td>1.179931</td>\n",
       "      <td>1.095950</td>\n",
       "      <td>...</td>\n",
       "      <td>0.768462</td>\n",
       "      <td>0.722405</td>\n",
       "      <td>0.724749</td>\n",
       "      <td>0.628932</td>\n",
       "      <td>0.604963</td>\n",
       "      <td>0.521937</td>\n",
       "      <td>0.483391</td>\n",
       "      <td>0.396996</td>\n",
       "      <td>0.327816</td>\n",
       "      <td>252.411543</td>\n",
       "    </tr>\n",
       "    <tr>\n",
       "      <th>min</th>\n",
       "      <td>0.000000</td>\n",
       "      <td>-56.407510</td>\n",
       "      <td>-72.715728</td>\n",
       "      <td>-48.325589</td>\n",
       "      <td>-5.683171</td>\n",
       "      <td>-113.743307</td>\n",
       "      <td>-26.160506</td>\n",
       "      <td>-43.557242</td>\n",
       "      <td>-73.216718</td>\n",
       "      <td>-13.434066</td>\n",
       "      <td>...</td>\n",
       "      <td>-54.497720</td>\n",
       "      <td>-34.830382</td>\n",
       "      <td>-10.933144</td>\n",
       "      <td>-44.807735</td>\n",
       "      <td>-2.836627</td>\n",
       "      <td>-10.295397</td>\n",
       "      <td>-2.604551</td>\n",
       "      <td>-22.565679</td>\n",
       "      <td>-15.430084</td>\n",
       "      <td>0.000000</td>\n",
       "    </tr>\n",
       "    <tr>\n",
       "      <th>25%</th>\n",
       "      <td>54168.000000</td>\n",
       "      <td>-0.917838</td>\n",
       "      <td>-0.599484</td>\n",
       "      <td>-0.889918</td>\n",
       "      <td>-0.849764</td>\n",
       "      <td>-0.688236</td>\n",
       "      <td>-0.769480</td>\n",
       "      <td>-0.551961</td>\n",
       "      <td>-0.208703</td>\n",
       "      <td>-0.644291</td>\n",
       "      <td>...</td>\n",
       "      <td>-0.211497</td>\n",
       "      <td>-0.228571</td>\n",
       "      <td>-0.543165</td>\n",
       "      <td>-0.161774</td>\n",
       "      <td>-0.353833</td>\n",
       "      <td>-0.317411</td>\n",
       "      <td>-0.327384</td>\n",
       "      <td>-0.070644</td>\n",
       "      <td>-0.052843</td>\n",
       "      <td>5.600000</td>\n",
       "    </tr>\n",
       "    <tr>\n",
       "      <th>50%</th>\n",
       "      <td>84659.500000</td>\n",
       "      <td>0.020075</td>\n",
       "      <td>0.064758</td>\n",
       "      <td>0.181658</td>\n",
       "      <td>-0.022311</td>\n",
       "      <td>-0.052946</td>\n",
       "      <td>-0.276387</td>\n",
       "      <td>0.039933</td>\n",
       "      <td>0.022225</td>\n",
       "      <td>-0.052643</td>\n",
       "      <td>...</td>\n",
       "      <td>-0.062343</td>\n",
       "      <td>-0.029433</td>\n",
       "      <td>0.005883</td>\n",
       "      <td>-0.011224</td>\n",
       "      <td>0.040876</td>\n",
       "      <td>0.018097</td>\n",
       "      <td>-0.051652</td>\n",
       "      <td>0.001416</td>\n",
       "      <td>0.011282</td>\n",
       "      <td>22.000000</td>\n",
       "    </tr>\n",
       "    <tr>\n",
       "      <th>75%</th>\n",
       "      <td>139280.250000</td>\n",
       "      <td>1.315499</td>\n",
       "      <td>0.800914</td>\n",
       "      <td>1.025809</td>\n",
       "      <td>0.741202</td>\n",
       "      <td>0.615075</td>\n",
       "      <td>0.395555</td>\n",
       "      <td>0.570292</td>\n",
       "      <td>0.326579</td>\n",
       "      <td>0.595683</td>\n",
       "      <td>...</td>\n",
       "      <td>0.133300</td>\n",
       "      <td>0.185553</td>\n",
       "      <td>0.526754</td>\n",
       "      <td>0.147413</td>\n",
       "      <td>0.438874</td>\n",
       "      <td>0.351714</td>\n",
       "      <td>0.241420</td>\n",
       "      <td>0.091126</td>\n",
       "      <td>0.078354</td>\n",
       "      <td>77.340000</td>\n",
       "    </tr>\n",
       "    <tr>\n",
       "      <th>max</th>\n",
       "      <td>172792.000000</td>\n",
       "      <td>2.454930</td>\n",
       "      <td>22.057729</td>\n",
       "      <td>9.382558</td>\n",
       "      <td>16.875344</td>\n",
       "      <td>34.801666</td>\n",
       "      <td>73.301626</td>\n",
       "      <td>120.589494</td>\n",
       "      <td>19.587773</td>\n",
       "      <td>15.594995</td>\n",
       "      <td>...</td>\n",
       "      <td>39.420904</td>\n",
       "      <td>22.614889</td>\n",
       "      <td>10.503090</td>\n",
       "      <td>22.528412</td>\n",
       "      <td>4.584549</td>\n",
       "      <td>7.519589</td>\n",
       "      <td>3.517346</td>\n",
       "      <td>31.612198</td>\n",
       "      <td>33.847808</td>\n",
       "      <td>25691.160000</td>\n",
       "    </tr>\n",
       "  </tbody>\n",
       "</table>\n",
       "<p>8 rows × 30 columns</p>\n",
       "</div>"
      ],
      "text/plain": [
       "                Time             V1             V2             V3  \\\n",
       "count  226980.000000  226980.000000  226980.000000  226980.000000   \n",
       "mean    94784.824844       0.004318      -0.002854       0.001375   \n",
       "std     47495.137144       1.948313       1.649149       1.512782   \n",
       "min         0.000000     -56.407510     -72.715728     -48.325589   \n",
       "25%     54168.000000      -0.917838      -0.599484      -0.889918   \n",
       "50%     84659.500000       0.020075       0.064758       0.181658   \n",
       "75%    139280.250000       1.315499       0.800914       1.025809   \n",
       "max    172792.000000       2.454930      22.057729       9.382558   \n",
       "\n",
       "                  V4             V5             V6             V7  \\\n",
       "count  226980.000000  226980.000000  226980.000000  226980.000000   \n",
       "mean       -0.002222       0.002471      -0.001759       0.001506   \n",
       "std         1.415649       1.388556       1.335118       1.240837   \n",
       "min        -5.683171    -113.743307     -26.160506     -43.557242   \n",
       "25%        -0.849764      -0.688236      -0.769480      -0.551961   \n",
       "50%        -0.022311      -0.052946      -0.276387       0.039933   \n",
       "75%         0.741202       0.615075       0.395555       0.570292   \n",
       "max        16.875344      34.801666      73.301626     120.589494   \n",
       "\n",
       "                  V8             V9  ...            V20            V21  \\\n",
       "count  226980.000000  226980.000000  ...  226980.000000  226980.000000   \n",
       "mean        0.000444      -0.001922  ...       0.000378      -0.000333   \n",
       "std         1.179931       1.095950  ...       0.768462       0.722405   \n",
       "min       -73.216718     -13.434066  ...     -54.497720     -34.830382   \n",
       "25%        -0.208703      -0.644291  ...      -0.211497      -0.228571   \n",
       "50%         0.022225      -0.052643  ...      -0.062343      -0.029433   \n",
       "75%         0.326579       0.595683  ...       0.133300       0.185553   \n",
       "max        19.587773      15.594995  ...      39.420904      22.614889   \n",
       "\n",
       "                 V22            V23            V24            V25  \\\n",
       "count  226980.000000  226980.000000  226980.000000  226980.000000   \n",
       "mean       -0.001297       0.000156       0.000080       0.000601   \n",
       "std         0.724749       0.628932       0.604963       0.521937   \n",
       "min       -10.933144     -44.807735      -2.836627     -10.295397   \n",
       "25%        -0.543165      -0.161774      -0.353833      -0.317411   \n",
       "50%         0.005883      -0.011224       0.040876       0.018097   \n",
       "75%         0.526754       0.147413       0.438874       0.351714   \n",
       "max        10.503090      22.528412       4.584549       7.519589   \n",
       "\n",
       "                 V26            V27            V28         Amount  \n",
       "count  226980.000000  226980.000000  226980.000000  226980.000000  \n",
       "mean        0.000566       0.001978       0.000719      88.504929  \n",
       "std         0.483391       0.396996       0.327816     252.411543  \n",
       "min        -2.604551     -22.565679     -15.430084       0.000000  \n",
       "25%        -0.327384      -0.070644      -0.052843       5.600000  \n",
       "50%        -0.051652       0.001416       0.011282      22.000000  \n",
       "75%         0.241420       0.091126       0.078354      77.340000  \n",
       "max         3.517346      31.612198      33.847808   25691.160000  \n",
       "\n",
       "[8 rows x 30 columns]"
      ]
     },
     "execution_count": 10,
     "metadata": {},
     "output_type": "execute_result"
    }
   ],
   "source": [
    "X_train.describe()"
   ]
  },
  {
   "cell_type": "code",
   "execution_count": 11,
   "id": "86a68853",
   "metadata": {},
   "outputs": [
    {
     "data": {
      "text/html": [
       "<div>\n",
       "<style scoped>\n",
       "    .dataframe tbody tr th:only-of-type {\n",
       "        vertical-align: middle;\n",
       "    }\n",
       "\n",
       "    .dataframe tbody tr th {\n",
       "        vertical-align: top;\n",
       "    }\n",
       "\n",
       "    .dataframe thead th {\n",
       "        text-align: right;\n",
       "    }\n",
       "</style>\n",
       "<table border=\"1\" class=\"dataframe\">\n",
       "  <thead>\n",
       "    <tr style=\"text-align: right;\">\n",
       "      <th></th>\n",
       "      <th>Time</th>\n",
       "      <th>V1</th>\n",
       "      <th>V2</th>\n",
       "      <th>V3</th>\n",
       "      <th>V4</th>\n",
       "      <th>V5</th>\n",
       "      <th>V6</th>\n",
       "      <th>V7</th>\n",
       "      <th>V8</th>\n",
       "      <th>V9</th>\n",
       "      <th>...</th>\n",
       "      <th>V20</th>\n",
       "      <th>V21</th>\n",
       "      <th>V22</th>\n",
       "      <th>V23</th>\n",
       "      <th>V24</th>\n",
       "      <th>V25</th>\n",
       "      <th>V26</th>\n",
       "      <th>V27</th>\n",
       "      <th>V28</th>\n",
       "      <th>Amount</th>\n",
       "    </tr>\n",
       "  </thead>\n",
       "  <tbody>\n",
       "    <tr>\n",
       "      <th>count</th>\n",
       "      <td>56746.000000</td>\n",
       "      <td>56746.000000</td>\n",
       "      <td>56746.000000</td>\n",
       "      <td>56746.000000</td>\n",
       "      <td>56746.000000</td>\n",
       "      <td>56746.000000</td>\n",
       "      <td>56746.000000</td>\n",
       "      <td>56746.000000</td>\n",
       "      <td>56746.000000</td>\n",
       "      <td>56746.000000</td>\n",
       "      <td>...</td>\n",
       "      <td>56746.000000</td>\n",
       "      <td>56746.000000</td>\n",
       "      <td>56746.000000</td>\n",
       "      <td>56746.000000</td>\n",
       "      <td>56746.000000</td>\n",
       "      <td>56746.000000</td>\n",
       "      <td>56746.000000</td>\n",
       "      <td>56746.000000</td>\n",
       "      <td>56746.000000</td>\n",
       "      <td>56746.000000</td>\n",
       "    </tr>\n",
       "    <tr>\n",
       "      <th>mean</th>\n",
       "      <td>94916.086773</td>\n",
       "      <td>0.012313</td>\n",
       "      <td>-0.009258</td>\n",
       "      <td>0.002564</td>\n",
       "      <td>-0.005944</td>\n",
       "      <td>-0.000746</td>\n",
       "      <td>0.001340</td>\n",
       "      <td>0.002981</td>\n",
       "      <td>-0.006047</td>\n",
       "      <td>-0.000293</td>\n",
       "      <td>...</td>\n",
       "      <td>-0.000577</td>\n",
       "      <td>-0.000520</td>\n",
       "      <td>0.005114</td>\n",
       "      <td>0.000367</td>\n",
       "      <td>0.000750</td>\n",
       "      <td>-0.003564</td>\n",
       "      <td>-0.001515</td>\n",
       "      <td>0.000903</td>\n",
       "      <td>-0.000139</td>\n",
       "      <td>88.343723</td>\n",
       "    </tr>\n",
       "    <tr>\n",
       "      <th>std</th>\n",
       "      <td>47424.922811</td>\n",
       "      <td>1.946881</td>\n",
       "      <td>1.636887</td>\n",
       "      <td>1.492180</td>\n",
       "      <td>1.408316</td>\n",
       "      <td>1.329826</td>\n",
       "      <td>1.319112</td>\n",
       "      <td>1.173503</td>\n",
       "      <td>1.175538</td>\n",
       "      <td>1.093670</td>\n",
       "      <td>...</td>\n",
       "      <td>0.776050</td>\n",
       "      <td>0.729903</td>\n",
       "      <td>0.723738</td>\n",
       "      <td>0.602336</td>\n",
       "      <td>0.608279</td>\n",
       "      <td>0.518334</td>\n",
       "      <td>0.476665</td>\n",
       "      <td>0.390699</td>\n",
       "      <td>0.328870</td>\n",
       "      <td>242.186176</td>\n",
       "    </tr>\n",
       "    <tr>\n",
       "      <th>min</th>\n",
       "      <td>4.000000</td>\n",
       "      <td>-40.470142</td>\n",
       "      <td>-42.172688</td>\n",
       "      <td>-31.103685</td>\n",
       "      <td>-5.600607</td>\n",
       "      <td>-25.791132</td>\n",
       "      <td>-20.367836</td>\n",
       "      <td>-21.922811</td>\n",
       "      <td>-50.420090</td>\n",
       "      <td>-6.912076</td>\n",
       "      <td>...</td>\n",
       "      <td>-21.387122</td>\n",
       "      <td>-22.889347</td>\n",
       "      <td>-8.887017</td>\n",
       "      <td>-22.575000</td>\n",
       "      <td>-2.822684</td>\n",
       "      <td>-4.781606</td>\n",
       "      <td>-1.773575</td>\n",
       "      <td>-8.839766</td>\n",
       "      <td>-8.464609</td>\n",
       "      <td>0.000000</td>\n",
       "    </tr>\n",
       "    <tr>\n",
       "      <th>25%</th>\n",
       "      <td>54320.250000</td>\n",
       "      <td>-0.908962</td>\n",
       "      <td>-0.603852</td>\n",
       "      <td>-0.887955</td>\n",
       "      <td>-0.851132</td>\n",
       "      <td>-0.696158</td>\n",
       "      <td>-0.767616</td>\n",
       "      <td>-0.554126</td>\n",
       "      <td>-0.209278</td>\n",
       "      <td>-0.643979</td>\n",
       "      <td>...</td>\n",
       "      <td>-0.211339</td>\n",
       "      <td>-0.227043</td>\n",
       "      <td>-0.540690</td>\n",
       "      <td>-0.161326</td>\n",
       "      <td>-0.356714</td>\n",
       "      <td>-0.317702</td>\n",
       "      <td>-0.324430</td>\n",
       "      <td>-0.070592</td>\n",
       "      <td>-0.052743</td>\n",
       "      <td>5.630000</td>\n",
       "    </tr>\n",
       "    <tr>\n",
       "      <th>50%</th>\n",
       "      <td>84856.000000</td>\n",
       "      <td>0.021525</td>\n",
       "      <td>0.059928</td>\n",
       "      <td>0.173975</td>\n",
       "      <td>-0.021964</td>\n",
       "      <td>-0.056065</td>\n",
       "      <td>-0.270871</td>\n",
       "      <td>0.043727</td>\n",
       "      <td>0.020641</td>\n",
       "      <td>-0.051905</td>\n",
       "      <td>...</td>\n",
       "      <td>-0.062393</td>\n",
       "      <td>-0.029527</td>\n",
       "      <td>0.009561</td>\n",
       "      <td>-0.010851</td>\n",
       "      <td>0.041461</td>\n",
       "      <td>0.009981</td>\n",
       "      <td>-0.054103</td>\n",
       "      <td>0.001778</td>\n",
       "      <td>0.011314</td>\n",
       "      <td>22.000000</td>\n",
       "    </tr>\n",
       "    <tr>\n",
       "      <th>75%</th>\n",
       "      <td>139383.000000</td>\n",
       "      <td>1.318048</td>\n",
       "      <td>0.796954</td>\n",
       "      <td>1.031859</td>\n",
       "      <td>0.733680</td>\n",
       "      <td>0.601452</td>\n",
       "      <td>0.399627</td>\n",
       "      <td>0.571267</td>\n",
       "      <td>0.322375</td>\n",
       "      <td>0.596890</td>\n",
       "      <td>...</td>\n",
       "      <td>0.133028</td>\n",
       "      <td>0.188953</td>\n",
       "      <td>0.534261</td>\n",
       "      <td>0.149069</td>\n",
       "      <td>0.443143</td>\n",
       "      <td>0.346665</td>\n",
       "      <td>0.235793</td>\n",
       "      <td>0.091456</td>\n",
       "      <td>0.077813</td>\n",
       "      <td>78.000000</td>\n",
       "    </tr>\n",
       "    <tr>\n",
       "      <th>max</th>\n",
       "      <td>172782.000000</td>\n",
       "      <td>2.430507</td>\n",
       "      <td>16.713389</td>\n",
       "      <td>4.040465</td>\n",
       "      <td>13.143668</td>\n",
       "      <td>29.162172</td>\n",
       "      <td>16.493227</td>\n",
       "      <td>25.235195</td>\n",
       "      <td>20.007208</td>\n",
       "      <td>9.234623</td>\n",
       "      <td>...</td>\n",
       "      <td>26.237391</td>\n",
       "      <td>27.202839</td>\n",
       "      <td>7.248763</td>\n",
       "      <td>18.364472</td>\n",
       "      <td>4.022866</td>\n",
       "      <td>5.473885</td>\n",
       "      <td>3.067907</td>\n",
       "      <td>9.200883</td>\n",
       "      <td>16.129609</td>\n",
       "      <td>12910.930000</td>\n",
       "    </tr>\n",
       "  </tbody>\n",
       "</table>\n",
       "<p>8 rows × 30 columns</p>\n",
       "</div>"
      ],
      "text/plain": [
       "                Time            V1            V2            V3            V4  \\\n",
       "count   56746.000000  56746.000000  56746.000000  56746.000000  56746.000000   \n",
       "mean    94916.086773      0.012313     -0.009258      0.002564     -0.005944   \n",
       "std     47424.922811      1.946881      1.636887      1.492180      1.408316   \n",
       "min         4.000000    -40.470142    -42.172688    -31.103685     -5.600607   \n",
       "25%     54320.250000     -0.908962     -0.603852     -0.887955     -0.851132   \n",
       "50%     84856.000000      0.021525      0.059928      0.173975     -0.021964   \n",
       "75%    139383.000000      1.318048      0.796954      1.031859      0.733680   \n",
       "max    172782.000000      2.430507     16.713389      4.040465     13.143668   \n",
       "\n",
       "                 V5            V6            V7            V8            V9  \\\n",
       "count  56746.000000  56746.000000  56746.000000  56746.000000  56746.000000   \n",
       "mean      -0.000746      0.001340      0.002981     -0.006047     -0.000293   \n",
       "std        1.329826      1.319112      1.173503      1.175538      1.093670   \n",
       "min      -25.791132    -20.367836    -21.922811    -50.420090     -6.912076   \n",
       "25%       -0.696158     -0.767616     -0.554126     -0.209278     -0.643979   \n",
       "50%       -0.056065     -0.270871      0.043727      0.020641     -0.051905   \n",
       "75%        0.601452      0.399627      0.571267      0.322375      0.596890   \n",
       "max       29.162172     16.493227     25.235195     20.007208      9.234623   \n",
       "\n",
       "       ...           V20           V21           V22           V23  \\\n",
       "count  ...  56746.000000  56746.000000  56746.000000  56746.000000   \n",
       "mean   ...     -0.000577     -0.000520      0.005114      0.000367   \n",
       "std    ...      0.776050      0.729903      0.723738      0.602336   \n",
       "min    ...    -21.387122    -22.889347     -8.887017    -22.575000   \n",
       "25%    ...     -0.211339     -0.227043     -0.540690     -0.161326   \n",
       "50%    ...     -0.062393     -0.029527      0.009561     -0.010851   \n",
       "75%    ...      0.133028      0.188953      0.534261      0.149069   \n",
       "max    ...     26.237391     27.202839      7.248763     18.364472   \n",
       "\n",
       "                V24           V25           V26           V27           V28  \\\n",
       "count  56746.000000  56746.000000  56746.000000  56746.000000  56746.000000   \n",
       "mean       0.000750     -0.003564     -0.001515      0.000903     -0.000139   \n",
       "std        0.608279      0.518334      0.476665      0.390699      0.328870   \n",
       "min       -2.822684     -4.781606     -1.773575     -8.839766     -8.464609   \n",
       "25%       -0.356714     -0.317702     -0.324430     -0.070592     -0.052743   \n",
       "50%        0.041461      0.009981     -0.054103      0.001778      0.011314   \n",
       "75%        0.443143      0.346665      0.235793      0.091456      0.077813   \n",
       "max        4.022866      5.473885      3.067907      9.200883     16.129609   \n",
       "\n",
       "             Amount  \n",
       "count  56746.000000  \n",
       "mean      88.343723  \n",
       "std      242.186176  \n",
       "min        0.000000  \n",
       "25%        5.630000  \n",
       "50%       22.000000  \n",
       "75%       78.000000  \n",
       "max    12910.930000  \n",
       "\n",
       "[8 rows x 30 columns]"
      ]
     },
     "execution_count": 11,
     "metadata": {},
     "output_type": "execute_result"
    }
   ],
   "source": [
    "X_test.describe()"
   ]
  },
  {
   "cell_type": "code",
   "execution_count": 12,
   "id": "b1d0aa72",
   "metadata": {},
   "outputs": [
    {
     "data": {
      "text/plain": [
       "count    226980.000000\n",
       "mean          0.001687\n",
       "std           0.041043\n",
       "min           0.000000\n",
       "25%           0.000000\n",
       "50%           0.000000\n",
       "75%           0.000000\n",
       "max           1.000000\n",
       "Name: Class, dtype: float64"
      ]
     },
     "execution_count": 12,
     "metadata": {},
     "output_type": "execute_result"
    }
   ],
   "source": [
    "y_train.describe()"
   ]
  },
  {
   "cell_type": "code",
   "execution_count": 13,
   "id": "7e9639b9",
   "metadata": {},
   "outputs": [
    {
     "data": {
      "text/plain": [
       "count    56746.000000\n",
       "mean         0.001586\n",
       "std          0.039794\n",
       "min          0.000000\n",
       "25%          0.000000\n",
       "50%          0.000000\n",
       "75%          0.000000\n",
       "max          1.000000\n",
       "Name: Class, dtype: float64"
      ]
     },
     "execution_count": 13,
     "metadata": {},
     "output_type": "execute_result"
    }
   ],
   "source": [
    "y_test.describe()"
   ]
  },
  {
   "cell_type": "markdown",
   "id": "e08041bf",
   "metadata": {},
   "source": [
    "В целом, параметры для генеральной и тестовой выборок похожи."
   ]
  },
  {
   "cell_type": "markdown",
   "id": "5deb2bc3",
   "metadata": {},
   "source": [
    "## 2 Методы классификации \n",
    "\n",
    "\n",
    "### 2.1 Применение метода - дерево решений"
   ]
  },
  {
   "cell_type": "code",
   "execution_count": 14,
   "id": "4fc5fc2c",
   "metadata": {},
   "outputs": [
    {
     "name": "stdout",
     "output_type": "stream",
     "text": [
      "[[56624    32]\n",
      " [   22    68]]\n",
      "              precision    recall  f1-score   support\n",
      "\n",
      "           0       1.00      1.00      1.00     56656\n",
      "           1       0.68      0.76      0.72        90\n",
      "\n",
      "    accuracy                           1.00     56746\n",
      "   macro avg       0.84      0.88      0.86     56746\n",
      "weighted avg       1.00      1.00      1.00     56746\n",
      "\n"
     ]
    }
   ],
   "source": [
    "from sklearn.tree import DecisionTreeClassifier\n",
    "from sklearn.metrics import classification_report, confusion_matrix\n",
    "\n",
    "classifier_DTC = DecisionTreeClassifier()\n",
    "classifier_DTC.fit(X_train, y_train)\n",
    "\n",
    "y_pred_DTC=classifier_DTC.predict(X_test)\n",
    "\n",
    "\n",
    "print(confusion_matrix(y_test, y_pred_DTC))\n",
    "print(classification_report(y_test, y_pred_DTC))\n",
    "\n"
   ]
  },
  {
   "cell_type": "code",
   "execution_count": 15,
   "id": "3077c9ed",
   "metadata": {},
   "outputs": [
    {
     "data": {
      "text/plain": [
       "<AxesSubplot:>"
      ]
     },
     "execution_count": 15,
     "metadata": {},
     "output_type": "execute_result"
    },
    {
     "data": {
      "image/png": "[encoded data removed]",
      "text/plain": [
       "<Figure size 432x288 with 2 Axes>"
      ]
     },
     "metadata": {
      "needs_background": "light"
     },
     "output_type": "display_data"
    }
   ],
   "source": [
    "classes_names = ['Обычные','Мошенники']\n",
    "cm = pd.DataFrame(confusion_matrix(y_test, y_pred_DTC), \n",
    "                  columns=classes_names, index = classes_names)\n",
    "                  \n",
    "sns.heatmap(cm, annot=True, fmt='d')"
   ]
  },
  {
   "cell_type": "markdown",
   "id": "5f03e3a1",
   "metadata": {},
   "source": [
    "### 2.2 KNN-метод ближайших соседей"
   ]
  },
  {
   "cell_type": "code",
   "execution_count": 16,
   "id": "5d29e804",
   "metadata": {},
   "outputs": [
    {
     "name": "stdout",
     "output_type": "stream",
     "text": [
      "[[56656     0]\n",
      " [   84     6]]\n",
      "              precision    recall  f1-score   support\n",
      "\n",
      "           0       1.00      1.00      1.00     56656\n",
      "           1       1.00      0.07      0.12        90\n",
      "\n",
      "    accuracy                           1.00     56746\n",
      "   macro avg       1.00      0.53      0.56     56746\n",
      "weighted avg       1.00      1.00      1.00     56746\n",
      "\n"
     ]
    }
   ],
   "source": [
    "from sklearn.neighbors import KNeighborsClassifier\n",
    "\n",
    "classifier_KNN= KNeighborsClassifier(n_neighbors=3)\n",
    "classifier_KNN.fit(X_train, y_train)\n",
    "\n",
    "y_pred_KNN=classifier_KNN.predict(X_test)\n",
    "\n",
    "print(confusion_matrix(y_test, y_pred_KNN))\n",
    "print(classification_report(y_test, y_pred_KNN))"
   ]
  },
  {
   "cell_type": "code",
   "execution_count": 17,
   "id": "840761e3",
   "metadata": {},
   "outputs": [
    {
     "data": {
      "text/plain": [
       "<AxesSubplot:>"
      ]
     },
     "execution_count": 17,
     "metadata": {},
     "output_type": "execute_result"
    },
    {
     "data": {
      "image/png": "[encoded data removed]",
      "text/plain": [
       "<Figure size 432x288 with 2 Axes>"
      ]
     },
     "metadata": {
      "needs_background": "light"
     },
     "output_type": "display_data"
    }
   ],
   "source": [
    "classes_names = ['Обычные','Мошенники']\n",
    "cm = pd.DataFrame(confusion_matrix(y_test, y_pred_KNN), \n",
    "                  columns=classes_names, index = classes_names)\n",
    "                  \n",
    "sns.heatmap(cm, annot=True, fmt='d')"
   ]
  },
  {
   "cell_type": "markdown",
   "id": "fac0a2bf",
   "metadata": {},
   "source": [
    "### 2.3 SVM- метод опорных векторов"
   ]
  },
  {
   "cell_type": "code",
   "execution_count": 18,
   "id": "2cb49055",
   "metadata": {},
   "outputs": [
    {
     "name": "stdout",
     "output_type": "stream",
     "text": [
      "[[56641    15]\n",
      " [   70    20]]\n",
      "              precision    recall  f1-score   support\n",
      "\n",
      "           0       1.00      1.00      1.00     56656\n",
      "           1       0.57      0.22      0.32        90\n",
      "\n",
      "    accuracy                           1.00     56746\n",
      "   macro avg       0.79      0.61      0.66     56746\n",
      "weighted avg       1.00      1.00      1.00     56746\n",
      "\n"
     ]
    }
   ],
   "source": [
    "from sklearn import svm\n",
    "\n",
    "C=1\n",
    "classifier_SVM=svm.SVC(kernel='linear',C=C).fit(X_train,y_train)\n",
    "\n",
    "y_pred_SVM=classifier_SVM.predict(X_test)\n",
    "\n",
    "print(confusion_matrix(y_test, y_pred_SVM))\n",
    "print(classification_report(y_test, y_pred_SVM))"
   ]
  },
  {
   "cell_type": "code",
   "execution_count": 19,
   "id": "abcb9c0a",
   "metadata": {},
   "outputs": [
    {
     "data": {
      "text/plain": [
       "<AxesSubplot:>"
      ]
     },
     "execution_count": 19,
     "metadata": {},
     "output_type": "execute_result"
    },
    {
     "data": {
      "image/png": "[encoded data removed]",
      "text/plain": [
       "<Figure size 432x288 with 2 Axes>"
      ]
     },
     "metadata": {
      "needs_background": "light"
     },
     "output_type": "display_data"
    }
   ],
   "source": [
    "classes_names = ['Обычные','Мошенники']\n",
    "cm = pd.DataFrame(confusion_matrix(y_test, y_pred_SVM), \n",
    "                  columns=classes_names, index = classes_names)\n",
    "                  \n",
    "sns.heatmap(cm, annot=True, fmt='d')"
   ]
  },
  {
   "cell_type": "markdown",
   "id": "3b847642",
   "metadata": {},
   "source": [
    "По итогу исследований на несбалансированных данных можно сказать, что лучший результат был достигнут Методом Деревьев: 66 правильно определенных мошеннических транзакций."
   ]
  },
  {
   "cell_type": "markdown",
   "id": "2f36645c",
   "metadata": {},
   "source": [
    "# Работа со сбалансированными данными\n",
    "\n",
    "## 1. Балансировка\n",
    "\n",
    "### 1.1 Random Oversampling"
   ]
  },
  {
   "cell_type": "code",
   "execution_count": 20,
   "id": "aee06ce4",
   "metadata": {},
   "outputs": [
    {
     "name": "stdout",
     "output_type": "stream",
     "text": [
      "Обычные транзакции: 50.00%\n",
      "Мошеннические транзакции: 50.00%\n",
      "\n",
      "Число обычных: 226597\n",
      "Число мошеннических: 226597\n"
     ]
    }
   ],
   "source": [
    "from imblearn.over_sampling import RandomOverSampler\n",
    "\n",
    "ros=RandomOverSampler(random_state=42)\n",
    "X_over, y_over = ros.fit_resample(X_train, y_train)\n",
    "\n",
    "zeros_count = (y_over == 0).sum()\n",
    "ones_count = (y_over == 1).sum()\n",
    "total_count = len(y_over)\n",
    "\n",
    "zeros_percentage = (zeros_count / total_count) * 100\n",
    "ones_percentage = (ones_count / total_count) * 100\n",
    "\n",
    "print(f\"Обычные транзакции: {zeros_percentage:.2f}%\")\n",
    "print(f\"Мошеннические транзакции: {ones_percentage:.2f}%\\n\")\n",
    "print(\"Число обычных:\", zeros_count)\n",
    "print(\"Число мошеннических:\", ones_count)\n",
    "\n"
   ]
  },
  {
   "cell_type": "markdown",
   "id": "f00a5ff3",
   "metadata": {},
   "source": [
    "### Сразу применим методы классификации\n"
   ]
  },
  {
   "cell_type": "code",
   "execution_count": 21,
   "id": "ca164026",
   "metadata": {},
   "outputs": [],
   "source": [
    "# X=X_over\n",
    "# y=y_over\n",
    "\n",
    "# X_train_over, X_test_over, y_train_over, y_test_over = train_test_split(X, y, test_size=0.2, random_state=42)"
   ]
  },
  {
   "cell_type": "markdown",
   "id": "2b586a15",
   "metadata": {},
   "source": [
    "- ###  Метод деревьев"
   ]
  },
  {
   "cell_type": "code",
   "execution_count": 22,
   "id": "20674727",
   "metadata": {},
   "outputs": [
    {
     "name": "stdout",
     "output_type": "stream",
     "text": [
      "[[56627    29]\n",
      " [   34    56]]\n",
      "              precision    recall  f1-score   support\n",
      "\n",
      "           0       1.00      1.00      1.00     56656\n",
      "           1       0.66      0.62      0.64        90\n",
      "\n",
      "    accuracy                           1.00     56746\n",
      "   macro avg       0.83      0.81      0.82     56746\n",
      "weighted avg       1.00      1.00      1.00     56746\n",
      "\n"
     ]
    }
   ],
   "source": [
    "classifier_DTC_over = DecisionTreeClassifier()\n",
    "classifier_DTC_over.fit(X_over, y_over)\n",
    "\n",
    "y_pred_DTC_over=classifier_DTC_over.predict(X_test)\n",
    "\n",
    "\n",
    "print(confusion_matrix(y_test, y_pred_DTC_over))\n",
    "print(classification_report(y_test, y_pred_DTC_over))\n"
   ]
  },
  {
   "cell_type": "code",
   "execution_count": 23,
   "id": "a9ef5f61",
   "metadata": {},
   "outputs": [
    {
     "data": {
      "text/plain": [
       "<AxesSubplot:>"
      ]
     },
     "execution_count": 23,
     "metadata": {},
     "output_type": "execute_result"
    },
    {
     "data": {
      "image/png": "[encoded data removed]",
      "text/plain": [
       "<Figure size 432x288 with 2 Axes>"
      ]
     },
     "metadata": {
      "needs_background": "light"
     },
     "output_type": "display_data"
    }
   ],
   "source": [
    "classes_names = ['Обычные','Мошенники']\n",
    "cm = pd.DataFrame(confusion_matrix(y_test, y_pred_DTC_over), \n",
    "                  columns=classes_names, index = classes_names)\n",
    "                  \n",
    "sns.heatmap(cm, annot=True, fmt='d')"
   ]
  },
  {
   "cell_type": "markdown",
   "id": "824beb89",
   "metadata": {},
   "source": [
    "- ### Метод KNN"
   ]
  },
  {
   "cell_type": "code",
   "execution_count": 24,
   "id": "21545e72",
   "metadata": {},
   "outputs": [
    {
     "name": "stdout",
     "output_type": "stream",
     "text": [
      "[[56617    39]\n",
      " [   75    15]]\n",
      "              precision    recall  f1-score   support\n",
      "\n",
      "           0       1.00      1.00      1.00     56656\n",
      "           1       0.28      0.17      0.21        90\n",
      "\n",
      "    accuracy                           1.00     56746\n",
      "   macro avg       0.64      0.58      0.60     56746\n",
      "weighted avg       1.00      1.00      1.00     56746\n",
      "\n"
     ]
    }
   ],
   "source": [
    "classifier_KNN_over = KNeighborsClassifier(n_neighbors=3)\n",
    "classifier_KNN_over.fit(X_over, y_over)\n",
    "\n",
    "y_pred_KNN_over=classifier_KNN_over.predict(X_test)\n",
    "\n",
    "\n",
    "print(confusion_matrix(y_test, y_pred_KNN_over))\n",
    "print(classification_report(y_test, y_pred_KNN_over))\n"
   ]
  },
  {
   "cell_type": "code",
   "execution_count": 25,
   "id": "73562222",
   "metadata": {},
   "outputs": [
    {
     "data": {
      "text/plain": [
       "<AxesSubplot:>"
      ]
     },
     "execution_count": 25,
     "metadata": {},
     "output_type": "execute_result"
    },
    {
     "data": {
      "image/png": "[encoded data removed]",
      "text/plain": [
       "<Figure size 432x288 with 2 Axes>"
      ]
     },
     "metadata": {
      "needs_background": "light"
     },
     "output_type": "display_data"
    }
   ],
   "source": [
    "classes_names = ['Обычные','Мошенники']\n",
    "cm = pd.DataFrame(confusion_matrix(y_test, y_pred_KNN_over), \n",
    "                  columns=classes_names, index = classes_names)\n",
    "                  \n",
    "sns.heatmap(cm, annot=True, fmt='d')"
   ]
  },
  {
   "cell_type": "markdown",
   "id": "01c6998f",
   "metadata": {},
   "source": [
    "- ### Метод SVM"
   ]
  },
  {
   "cell_type": "code",
   "execution_count": 26,
   "id": "918b49f7",
   "metadata": {},
   "outputs": [],
   "source": [
    "# C=1\n",
    "# classifier_SVM_=svm.SVC(kernel='linear',C=C).fit(X_train_over,y_train_over)\n",
    "\n",
    "# y_pred_SVM_over=classifier_SVM.predict(X_test_over)\n",
    "\n",
    "# print(confusion_matrix(y_test_over, y_pred_SVM_over))\n",
    "# print(classification_report(y_test_over, y_pred_SVM_over))"
   ]
  },
  {
   "cell_type": "code",
   "execution_count": 27,
   "id": "f9b5a1a1",
   "metadata": {},
   "outputs": [],
   "source": [
    "# classes_names = ['Обычные','Мошенники']\n",
    "# cm = pd.DataFrame(confusion_matrix(y_test_over, y_pred_SVM_over), \n",
    "#                   columns=classes_names, index = classes_names)\n",
    "                  \n",
    "# sns.heatmap(cm, annot=True, fmt='d')"
   ]
  },
  {
   "cell_type": "markdown",
   "id": "b2acd846",
   "metadata": {},
   "source": [
    "Ну что тут сказать. При over-сэмплинге появляется огромное количество данных для обработки, а этот метод и так не быстрый. В общем за час с лишним он так и не посчитался. Я его на ночь оставлю и, если что добавлю прогруженный вариант на гит."
   ]
  },
  {
   "cell_type": "markdown",
   "id": "e428a8bd",
   "metadata": {},
   "source": [
    "### 1.2 Random Undersampling"
   ]
  },
  {
   "cell_type": "code",
   "execution_count": 28,
   "id": "09edccd9",
   "metadata": {},
   "outputs": [
    {
     "name": "stdout",
     "output_type": "stream",
     "text": [
      "Обычные транзакции: 50.00%\n",
      "Мошеннические транзакции: 50.00%\n",
      "\n",
      "Число обычных: 383\n",
      "Число мошеннических: 383\n"
     ]
    }
   ],
   "source": [
    "from imblearn.under_sampling import RandomUnderSampler\n",
    "\n",
    "rus = RandomUnderSampler(sampling_strategy='auto')\n",
    "X_under, y_under = rus.fit_resample(X_train, y_train)\n",
    "\n",
    "zeros_count = (y_under == 0).sum()\n",
    "ones_count = (y_under == 1).sum()\n",
    "total_count = len(y_under)\n",
    "\n",
    "zeros_percentage = (zeros_count / total_count) * 100\n",
    "ones_percentage = (ones_count / total_count) * 100\n",
    "\n",
    "print(f\"Обычные транзакции: {zeros_percentage:.2f}%\")\n",
    "print(f\"Мошеннические транзакции: {ones_percentage:.2f}%\\n\")\n",
    "print(\"Число обычных:\", zeros_count)\n",
    "print(\"Число мошеннических:\", ones_count)"
   ]
  },
  {
   "cell_type": "code",
   "execution_count": 29,
   "id": "1715e327",
   "metadata": {},
   "outputs": [],
   "source": [
    "# X_u=X_under\n",
    "# y_u=y_under\n",
    "\n",
    "# X_train_under, X_test_under, y_train_under, y_test_under = train_test_split(X_u, y_u, test_size=0.2, random_state=42)\n"
   ]
  },
  {
   "cell_type": "markdown",
   "id": "8d926cea",
   "metadata": {},
   "source": [
    "- ### Метод деревьев"
   ]
  },
  {
   "cell_type": "code",
   "execution_count": 30,
   "id": "60a5e3a1",
   "metadata": {},
   "outputs": [
    {
     "name": "stdout",
     "output_type": "stream",
     "text": [
      "[[51643  5013]\n",
      " [   11    79]]\n",
      "              precision    recall  f1-score   support\n",
      "\n",
      "           0       1.00      0.91      0.95     56656\n",
      "           1       0.02      0.88      0.03        90\n",
      "\n",
      "    accuracy                           0.91     56746\n",
      "   macro avg       0.51      0.89      0.49     56746\n",
      "weighted avg       1.00      0.91      0.95     56746\n",
      "\n"
     ]
    }
   ],
   "source": [
    "classifier_DTC_under = DecisionTreeClassifier()\n",
    "classifier_DTC_under.fit(X_under, y_under)\n",
    "\n",
    "y_pred_DTC_under=classifier_DTC_under.predict(X_test)\n",
    "\n",
    "\n",
    "print(confusion_matrix(y_test, y_pred_DTC_under))\n",
    "print(classification_report(y_test, y_pred_DTC_under))"
   ]
  },
  {
   "cell_type": "code",
   "execution_count": 31,
   "id": "012ecacd",
   "metadata": {},
   "outputs": [
    {
     "data": {
      "text/plain": [
       "<AxesSubplot:>"
      ]
     },
     "execution_count": 31,
     "metadata": {},
     "output_type": "execute_result"
    },
    {
     "data": {
      "image/png": "[encoded data removed]",
      "text/plain": [
       "<Figure size 432x288 with 2 Axes>"
      ]
     },
     "metadata": {
      "needs_background": "light"
     },
     "output_type": "display_data"
    }
   ],
   "source": [
    "classes_names = ['Обычные','Мошенники']\n",
    "cm = pd.DataFrame(confusion_matrix(y_test, y_pred_DTC_under), \n",
    "                  columns=classes_names, index = classes_names)\n",
    "                  \n",
    "sns.heatmap(cm, annot=True, fmt='d')"
   ]
  },
  {
   "cell_type": "markdown",
   "id": "bedde9fb",
   "metadata": {},
   "source": [
    "- ### KNN"
   ]
  },
  {
   "cell_type": "code",
   "execution_count": 52,
   "id": "6f137f53",
   "metadata": {},
   "outputs": [
    {
     "name": "stdout",
     "output_type": "stream",
     "text": [
      "[[46827  9829]\n",
      " [   49    41]]\n",
      "              precision    recall  f1-score   support\n",
      "\n",
      "           0       1.00      0.83      0.90     56656\n",
      "           1       0.00      0.46      0.01        90\n",
      "\n",
      "    accuracy                           0.83     56746\n",
      "   macro avg       0.50      0.64      0.46     56746\n",
      "weighted avg       1.00      0.83      0.90     56746\n",
      "\n"
     ]
    }
   ],
   "source": [
    "classifier_KNN_under = KNeighborsClassifier(n_neighbors=2)\n",
    "classifier_KNN_under.fit(X_under, y_under)\n",
    "\n",
    "y_pred_KNN_under=classifier_KNN_under.predict(X_test)\n",
    "\n",
    "\n",
    "print(confusion_matrix(y_test, y_pred_KNN_under))\n",
    "print(classification_report(y_test, y_pred_KNN_under))"
   ]
  },
  {
   "cell_type": "code",
   "execution_count": 53,
   "id": "23fbfa9d",
   "metadata": {},
   "outputs": [
    {
     "data": {
      "text/plain": [
       "<AxesSubplot:>"
      ]
     },
     "execution_count": 53,
     "metadata": {},
     "output_type": "execute_result"
    },
    {
     "data": {
      "image/png": "[encoded data removed]",
      "text/plain": [
       "<Figure size 432x288 with 2 Axes>"
      ]
     },
     "metadata": {
      "needs_background": "light"
     },
     "output_type": "display_data"
    }
   ],
   "source": [
    "classes_names = ['Обычные','Мошенники']\n",
    "cm = pd.DataFrame(confusion_matrix(y_test, y_pred_KNN_under), \n",
    "                  columns=classes_names, index = classes_names)\n",
    "                  \n",
    "sns.heatmap(cm, annot=True, fmt='d')"
   ]
  },
  {
   "cell_type": "markdown",
   "id": "7e3ed7d0",
   "metadata": {},
   "source": [
    "- ### SVM"
   ]
  },
  {
   "cell_type": "code",
   "execution_count": 34,
   "id": "ab433763",
   "metadata": {},
   "outputs": [
    {
     "name": "stdout",
     "output_type": "stream",
     "text": [
      "[[56360   296]\n",
      " [   22    68]]\n",
      "              precision    recall  f1-score   support\n",
      "\n",
      "           0       1.00      0.99      1.00     56656\n",
      "           1       0.19      0.76      0.30        90\n",
      "\n",
      "    accuracy                           0.99     56746\n",
      "   macro avg       0.59      0.88      0.65     56746\n",
      "weighted avg       1.00      0.99      1.00     56746\n",
      "\n"
     ]
    }
   ],
   "source": [
    "from sklearn import svm\n",
    "C=1\n",
    "classifier_SVM_under=svm.SVC(kernel='linear',C=C).fit(X_under,y_under)\n",
    "\n",
    "y_pred_SVM_under=classifier_SVM_under.predict(X_test)\n",
    "\n",
    "print(confusion_matrix(y_test, y_pred_SVM_under))\n",
    "print(classification_report(y_test, y_pred_SVM_under))"
   ]
  },
  {
   "cell_type": "code",
   "execution_count": 35,
   "id": "6bd41a86",
   "metadata": {},
   "outputs": [
    {
     "data": {
      "text/plain": [
       "<AxesSubplot:>"
      ]
     },
     "execution_count": 35,
     "metadata": {},
     "output_type": "execute_result"
    },
    {
     "data": {
      "image/png": "[encoded data removed]",
      "text/plain": [
       "<Figure size 432x288 with 2 Axes>"
      ]
     },
     "metadata": {
      "needs_background": "light"
     },
     "output_type": "display_data"
    }
   ],
   "source": [
    "classes_names = ['Обычные','Мошенники']\n",
    "cm = pd.DataFrame(confusion_matrix(y_test, y_pred_SVM_under), \n",
    "                  columns=classes_names, index = classes_names)\n",
    "                  \n",
    "sns.heatmap(cm, annot=True, fmt='d')"
   ]
  },
  {
   "cell_type": "markdown",
   "id": "3b0697d5",
   "metadata": {},
   "source": [
    "# Подведение итогов:\n",
    "- Были применены методы классификации: DecisionTreeClassifier, KNN, SVM. \n",
    "- Сначала методы были реализованы на несбалансированных данных. Точность в данном случае не высокая, что вполне ожидаемо. Лучше всего себя проявил метод DecisionTreeClassifier.\n",
    "- Далее была проведена балансировка данных двумя способами: RandomOverSampler и RandomUnderSampler. Методы остались те же, что и в первом случае с несбалансированными данными. Точность повысилась при обоих способах сэмплирования, но более хороший результат показали методы с over-сэмплированием. \n",
    "- Отдельно стоит отметить, что DecisionTreeClassifier выдавал более высокую точность во всех случаях, по сравнению с другими методами, при этом работал он быстрее, чем KNN и, особенно, SVM."
   ]
  },
  {
   "cell_type": "markdown",
   "id": "9235ea4c",
   "metadata": {},
   "source": [
    "## Доработки"
   ]
  },
  {
   "cell_type": "markdown",
   "id": "a0196fc8",
   "metadata": {},
   "source": [
    "### Сравнение статистик сэмплированных и не сэмплированных данных\n"
   ]
  },
  {
   "cell_type": "code",
   "execution_count": 67,
   "id": "eca89a28",
   "metadata": {},
   "outputs": [
    {
     "data": {
      "text/html": [
       "<div>\n",
       "<style scoped>\n",
       "    .dataframe tbody tr th:only-of-type {\n",
       "        vertical-align: middle;\n",
       "    }\n",
       "\n",
       "    .dataframe tbody tr th {\n",
       "        vertical-align: top;\n",
       "    }\n",
       "\n",
       "    .dataframe thead th {\n",
       "        text-align: right;\n",
       "    }\n",
       "</style>\n",
       "<table border=\"1\" class=\"dataframe\">\n",
       "  <thead>\n",
       "    <tr style=\"text-align: right;\">\n",
       "      <th></th>\n",
       "      <th>Time</th>\n",
       "      <th>V1</th>\n",
       "      <th>V2</th>\n",
       "      <th>V3</th>\n",
       "      <th>V4</th>\n",
       "      <th>V5</th>\n",
       "      <th>V6</th>\n",
       "      <th>V7</th>\n",
       "      <th>V8</th>\n",
       "      <th>V9</th>\n",
       "      <th>...</th>\n",
       "      <th>V20</th>\n",
       "      <th>V21</th>\n",
       "      <th>V22</th>\n",
       "      <th>V23</th>\n",
       "      <th>V24</th>\n",
       "      <th>V25</th>\n",
       "      <th>V26</th>\n",
       "      <th>V27</th>\n",
       "      <th>V28</th>\n",
       "      <th>Amount</th>\n",
       "    </tr>\n",
       "  </thead>\n",
       "  <tbody>\n",
       "    <tr>\n",
       "      <th>count</th>\n",
       "      <td>-226214.000000</td>\n",
       "      <td>-226214.000000</td>\n",
       "      <td>-226214.000000</td>\n",
       "      <td>-226214.000000</td>\n",
       "      <td>-226214.000000</td>\n",
       "      <td>-226214.000000</td>\n",
       "      <td>-226214.000000</td>\n",
       "      <td>-226214.000000</td>\n",
       "      <td>-226214.000000</td>\n",
       "      <td>-226214.000000</td>\n",
       "      <td>...</td>\n",
       "      <td>-226214.000000</td>\n",
       "      <td>-226214.000000</td>\n",
       "      <td>-226214.000000</td>\n",
       "      <td>-226214.000000</td>\n",
       "      <td>-226214.000000</td>\n",
       "      <td>-226214.000000</td>\n",
       "      <td>-226214.000000</td>\n",
       "      <td>-226214.000000</td>\n",
       "      <td>-226214.000000</td>\n",
       "      <td>-226214.000000</td>\n",
       "    </tr>\n",
       "    <tr>\n",
       "      <th>mean</th>\n",
       "      <td>7412.593036</td>\n",
       "      <td>2.304463</td>\n",
       "      <td>-1.776699</td>\n",
       "      <td>3.443864</td>\n",
       "      <td>-2.280192</td>\n",
       "      <td>1.532377</td>\n",
       "      <td>0.718400</td>\n",
       "      <td>2.683690</td>\n",
       "      <td>-0.448288</td>\n",
       "      <td>1.296201</td>\n",
       "      <td>...</td>\n",
       "      <td>-0.217838</td>\n",
       "      <td>-0.160368</td>\n",
       "      <td>-0.071683</td>\n",
       "      <td>0.028498</td>\n",
       "      <td>0.051187</td>\n",
       "      <td>-0.014913</td>\n",
       "      <td>-0.026092</td>\n",
       "      <td>-0.080889</td>\n",
       "      <td>-0.032900</td>\n",
       "      <td>-11.605773</td>\n",
       "    </tr>\n",
       "    <tr>\n",
       "      <th>std</th>\n",
       "      <td>-1514.324026</td>\n",
       "      <td>-3.569476</td>\n",
       "      <td>-2.015053</td>\n",
       "      <td>-4.638619</td>\n",
       "      <td>-1.809058</td>\n",
       "      <td>-2.900461</td>\n",
       "      <td>-0.362100</td>\n",
       "      <td>-4.515784</td>\n",
       "      <td>-2.914541</td>\n",
       "      <td>-1.264812</td>\n",
       "      <td>...</td>\n",
       "      <td>-0.341054</td>\n",
       "      <td>-1.221331</td>\n",
       "      <td>-0.248456</td>\n",
       "      <td>-0.373723</td>\n",
       "      <td>0.038174</td>\n",
       "      <td>-0.160647</td>\n",
       "      <td>0.005129</td>\n",
       "      <td>-0.567538</td>\n",
       "      <td>-0.110164</td>\n",
       "      <td>6.215385</td>\n",
       "    </tr>\n",
       "    <tr>\n",
       "      <th>min</th>\n",
       "      <td>0.000000</td>\n",
       "      <td>0.000000</td>\n",
       "      <td>0.000000</td>\n",
       "      <td>0.000000</td>\n",
       "      <td>0.000000</td>\n",
       "      <td>0.000000</td>\n",
       "      <td>0.000000</td>\n",
       "      <td>0.000000</td>\n",
       "      <td>0.000000</td>\n",
       "      <td>0.000000</td>\n",
       "      <td>...</td>\n",
       "      <td>0.000000</td>\n",
       "      <td>0.000000</td>\n",
       "      <td>0.000000</td>\n",
       "      <td>0.000000</td>\n",
       "      <td>0.000000</td>\n",
       "      <td>0.000000</td>\n",
       "      <td>0.000000</td>\n",
       "      <td>0.000000</td>\n",
       "      <td>0.000000</td>\n",
       "      <td>0.000000</td>\n",
       "    </tr>\n",
       "    <tr>\n",
       "      <th>25%</th>\n",
       "      <td>9775.000000</td>\n",
       "      <td>1.822645</td>\n",
       "      <td>-0.462492</td>\n",
       "      <td>4.149187</td>\n",
       "      <td>-0.751186</td>\n",
       "      <td>1.034216</td>\n",
       "      <td>0.805085</td>\n",
       "      <td>2.453992</td>\n",
       "      <td>-0.010223</td>\n",
       "      <td>1.678425</td>\n",
       "      <td>...</td>\n",
       "      <td>-0.020787</td>\n",
       "      <td>-0.053298</td>\n",
       "      <td>-0.011803</td>\n",
       "      <td>0.073322</td>\n",
       "      <td>0.038139</td>\n",
       "      <td>0.007622</td>\n",
       "      <td>-0.030456</td>\n",
       "      <td>-0.007679</td>\n",
       "      <td>0.009356</td>\n",
       "      <td>4.310000</td>\n",
       "    </tr>\n",
       "    <tr>\n",
       "      <th>50%</th>\n",
       "      <td>5570.500000</td>\n",
       "      <td>0.739190</td>\n",
       "      <td>-0.916334</td>\n",
       "      <td>1.571827</td>\n",
       "      <td>-1.357093</td>\n",
       "      <td>0.370052</td>\n",
       "      <td>0.370049</td>\n",
       "      <td>0.689942</td>\n",
       "      <td>-0.125429</td>\n",
       "      <td>0.661874</td>\n",
       "      <td>...</td>\n",
       "      <td>-0.097905</td>\n",
       "      <td>-0.172610</td>\n",
       "      <td>-0.032845</td>\n",
       "      <td>0.022428</td>\n",
       "      <td>0.029869</td>\n",
       "      <td>-0.019943</td>\n",
       "      <td>-0.045485</td>\n",
       "      <td>-0.048224</td>\n",
       "      <td>-0.020456</td>\n",
       "      <td>4.090000</td>\n",
       "    </tr>\n",
       "    <tr>\n",
       "      <th>75%</th>\n",
       "      <td>4511.250000</td>\n",
       "      <td>0.253669</td>\n",
       "      <td>-2.008385</td>\n",
       "      <td>0.679430</td>\n",
       "      <td>-3.562201</td>\n",
       "      <td>0.105090</td>\n",
       "      <td>0.351070</td>\n",
       "      <td>0.313583</td>\n",
       "      <td>-0.526417</td>\n",
       "      <td>0.414696</td>\n",
       "      <td>...</td>\n",
       "      <td>-0.300222</td>\n",
       "      <td>-0.425101</td>\n",
       "      <td>-0.067324</td>\n",
       "      <td>-0.043474</td>\n",
       "      <td>0.062233</td>\n",
       "      <td>-0.040544</td>\n",
       "      <td>-0.090332</td>\n",
       "      <td>-0.364053</td>\n",
       "      <td>-0.132547</td>\n",
       "      <td>-22.650000</td>\n",
       "    </tr>\n",
       "    <tr>\n",
       "      <th>max</th>\n",
       "      <td>0.000000</td>\n",
       "      <td>0.000000</td>\n",
       "      <td>0.000000</td>\n",
       "      <td>0.000000</td>\n",
       "      <td>0.000000</td>\n",
       "      <td>0.000000</td>\n",
       "      <td>0.000000</td>\n",
       "      <td>0.000000</td>\n",
       "      <td>0.000000</td>\n",
       "      <td>0.000000</td>\n",
       "      <td>...</td>\n",
       "      <td>0.000000</td>\n",
       "      <td>0.000000</td>\n",
       "      <td>0.000000</td>\n",
       "      <td>0.000000</td>\n",
       "      <td>0.000000</td>\n",
       "      <td>0.000000</td>\n",
       "      <td>0.000000</td>\n",
       "      <td>0.000000</td>\n",
       "      <td>0.000000</td>\n",
       "      <td>0.000000</td>\n",
       "    </tr>\n",
       "  </tbody>\n",
       "</table>\n",
       "<p>8 rows × 30 columns</p>\n",
       "</div>"
      ],
      "text/plain": [
       "                Time             V1             V2             V3  \\\n",
       "count -226214.000000 -226214.000000 -226214.000000 -226214.000000   \n",
       "mean     7412.593036       2.304463      -1.776699       3.443864   \n",
       "std     -1514.324026      -3.569476      -2.015053      -4.638619   \n",
       "min         0.000000       0.000000       0.000000       0.000000   \n",
       "25%      9775.000000       1.822645      -0.462492       4.149187   \n",
       "50%      5570.500000       0.739190      -0.916334       1.571827   \n",
       "75%      4511.250000       0.253669      -2.008385       0.679430   \n",
       "max         0.000000       0.000000       0.000000       0.000000   \n",
       "\n",
       "                  V4             V5             V6             V7  \\\n",
       "count -226214.000000 -226214.000000 -226214.000000 -226214.000000   \n",
       "mean       -2.280192       1.532377       0.718400       2.683690   \n",
       "std        -1.809058      -2.900461      -0.362100      -4.515784   \n",
       "min         0.000000       0.000000       0.000000       0.000000   \n",
       "25%        -0.751186       1.034216       0.805085       2.453992   \n",
       "50%        -1.357093       0.370052       0.370049       0.689942   \n",
       "75%        -3.562201       0.105090       0.351070       0.313583   \n",
       "max         0.000000       0.000000       0.000000       0.000000   \n",
       "\n",
       "                  V8             V9  ...            V20            V21  \\\n",
       "count -226214.000000 -226214.000000  ... -226214.000000 -226214.000000   \n",
       "mean       -0.448288       1.296201  ...      -0.217838      -0.160368   \n",
       "std        -2.914541      -1.264812  ...      -0.341054      -1.221331   \n",
       "min         0.000000       0.000000  ...       0.000000       0.000000   \n",
       "25%        -0.010223       1.678425  ...      -0.020787      -0.053298   \n",
       "50%        -0.125429       0.661874  ...      -0.097905      -0.172610   \n",
       "75%        -0.526417       0.414696  ...      -0.300222      -0.425101   \n",
       "max         0.000000       0.000000  ...       0.000000       0.000000   \n",
       "\n",
       "                 V22            V23            V24            V25  \\\n",
       "count -226214.000000 -226214.000000 -226214.000000 -226214.000000   \n",
       "mean       -0.071683       0.028498       0.051187      -0.014913   \n",
       "std        -0.248456      -0.373723       0.038174      -0.160647   \n",
       "min         0.000000       0.000000       0.000000       0.000000   \n",
       "25%        -0.011803       0.073322       0.038139       0.007622   \n",
       "50%        -0.032845       0.022428       0.029869      -0.019943   \n",
       "75%        -0.067324      -0.043474       0.062233      -0.040544   \n",
       "max         0.000000       0.000000       0.000000       0.000000   \n",
       "\n",
       "                 V26            V27            V28         Amount  \n",
       "count -226214.000000 -226214.000000 -226214.000000 -226214.000000  \n",
       "mean       -0.026092      -0.080889      -0.032900     -11.605773  \n",
       "std         0.005129      -0.567538      -0.110164       6.215385  \n",
       "min         0.000000       0.000000       0.000000       0.000000  \n",
       "25%        -0.030456      -0.007679       0.009356       4.310000  \n",
       "50%        -0.045485      -0.048224      -0.020456       4.090000  \n",
       "75%        -0.090332      -0.364053      -0.132547     -22.650000  \n",
       "max         0.000000       0.000000       0.000000       0.000000  \n",
       "\n",
       "[8 rows x 30 columns]"
      ]
     },
     "execution_count": 67,
     "metadata": {},
     "output_type": "execute_result"
    }
   ],
   "source": [
    "X_train.describe()-X_over.describe()"
   ]
  },
  {
   "cell_type": "code",
   "execution_count": 68,
   "id": "13bf86b7",
   "metadata": {},
   "outputs": [
    {
     "data": {
      "text/html": [
       "<div>\n",
       "<style scoped>\n",
       "    .dataframe tbody tr th:only-of-type {\n",
       "        vertical-align: middle;\n",
       "    }\n",
       "\n",
       "    .dataframe tbody tr th {\n",
       "        vertical-align: top;\n",
       "    }\n",
       "\n",
       "    .dataframe thead th {\n",
       "        text-align: right;\n",
       "    }\n",
       "</style>\n",
       "<table border=\"1\" class=\"dataframe\">\n",
       "  <thead>\n",
       "    <tr style=\"text-align: right;\">\n",
       "      <th></th>\n",
       "      <th>Time</th>\n",
       "      <th>V1</th>\n",
       "      <th>V2</th>\n",
       "      <th>V3</th>\n",
       "      <th>V4</th>\n",
       "      <th>V5</th>\n",
       "      <th>V6</th>\n",
       "      <th>V7</th>\n",
       "      <th>V8</th>\n",
       "      <th>V9</th>\n",
       "      <th>...</th>\n",
       "      <th>V20</th>\n",
       "      <th>V21</th>\n",
       "      <th>V22</th>\n",
       "      <th>V23</th>\n",
       "      <th>V24</th>\n",
       "      <th>V25</th>\n",
       "      <th>V26</th>\n",
       "      <th>V27</th>\n",
       "      <th>V28</th>\n",
       "      <th>Amount</th>\n",
       "    </tr>\n",
       "  </thead>\n",
       "  <tbody>\n",
       "    <tr>\n",
       "      <th>count</th>\n",
       "      <td>226214.000000</td>\n",
       "      <td>226214.000000</td>\n",
       "      <td>226214.000000</td>\n",
       "      <td>226214.000000</td>\n",
       "      <td>226214.000000</td>\n",
       "      <td>226214.000000</td>\n",
       "      <td>226214.000000</td>\n",
       "      <td>226214.000000</td>\n",
       "      <td>226214.000000</td>\n",
       "      <td>226214.000000</td>\n",
       "      <td>...</td>\n",
       "      <td>226214.000000</td>\n",
       "      <td>226214.000000</td>\n",
       "      <td>226214.000000</td>\n",
       "      <td>226214.000000</td>\n",
       "      <td>226214.000000</td>\n",
       "      <td>226214.000000</td>\n",
       "      <td>226214.000000</td>\n",
       "      <td>226214.000000</td>\n",
       "      <td>226214.000000</td>\n",
       "      <td>226214.000000</td>\n",
       "    </tr>\n",
       "    <tr>\n",
       "      <th>mean</th>\n",
       "      <td>8596.596384</td>\n",
       "      <td>2.239366</td>\n",
       "      <td>-1.767254</td>\n",
       "      <td>3.519181</td>\n",
       "      <td>-2.295115</td>\n",
       "      <td>1.530524</td>\n",
       "      <td>0.748212</td>\n",
       "      <td>2.679589</td>\n",
       "      <td>-0.433436</td>\n",
       "      <td>1.274785</td>\n",
       "      <td>...</td>\n",
       "      <td>-0.226711</td>\n",
       "      <td>-0.177859</td>\n",
       "      <td>-0.076680</td>\n",
       "      <td>0.027081</td>\n",
       "      <td>0.051267</td>\n",
       "      <td>-0.047941</td>\n",
       "      <td>-0.036512</td>\n",
       "      <td>-0.082647</td>\n",
       "      <td>-0.037377</td>\n",
       "      <td>-15.994118</td>\n",
       "    </tr>\n",
       "    <tr>\n",
       "      <th>std</th>\n",
       "      <td>-1457.854149</td>\n",
       "      <td>-3.584111</td>\n",
       "      <td>-2.021020</td>\n",
       "      <td>-4.595280</td>\n",
       "      <td>-1.778634</td>\n",
       "      <td>-2.884090</td>\n",
       "      <td>-0.315999</td>\n",
       "      <td>-4.485769</td>\n",
       "      <td>-2.924590</td>\n",
       "      <td>-1.258701</td>\n",
       "      <td>...</td>\n",
       "      <td>-0.319387</td>\n",
       "      <td>-1.231293</td>\n",
       "      <td>-0.246405</td>\n",
       "      <td>-0.386211</td>\n",
       "      <td>0.042004</td>\n",
       "      <td>-0.153918</td>\n",
       "      <td>-0.001861</td>\n",
       "      <td>-0.556035</td>\n",
       "      <td>-0.078309</td>\n",
       "      <td>-0.226624</td>\n",
       "    </tr>\n",
       "    <tr>\n",
       "      <th>min</th>\n",
       "      <td>-406.000000</td>\n",
       "      <td>-26.531144</td>\n",
       "      <td>-60.960753</td>\n",
       "      <td>-17.766893</td>\n",
       "      <td>-0.846001</td>\n",
       "      <td>-92.077652</td>\n",
       "      <td>-19.754239</td>\n",
       "      <td>0.000000</td>\n",
       "      <td>-32.172458</td>\n",
       "      <td>0.000000</td>\n",
       "      <td>...</td>\n",
       "      <td>-49.092004</td>\n",
       "      <td>-12.032778</td>\n",
       "      <td>-7.503184</td>\n",
       "      <td>-28.826086</td>\n",
       "      <td>-0.808603</td>\n",
       "      <td>-6.758681</td>\n",
       "      <td>-1.346330</td>\n",
       "      <td>-15.302197</td>\n",
       "      <td>-13.560793</td>\n",
       "      <td>0.000000</td>\n",
       "    </tr>\n",
       "    <tr>\n",
       "      <th>25%</th>\n",
       "      <td>11016.750000</td>\n",
       "      <td>1.819895</td>\n",
       "      <td>-0.427730</td>\n",
       "      <td>4.140472</td>\n",
       "      <td>-0.851201</td>\n",
       "      <td>1.009982</td>\n",
       "      <td>0.844962</td>\n",
       "      <td>2.449010</td>\n",
       "      <td>-0.006104</td>\n",
       "      <td>1.643343</td>\n",
       "      <td>...</td>\n",
       "      <td>-0.029470</td>\n",
       "      <td>-0.055205</td>\n",
       "      <td>-0.019638</td>\n",
       "      <td>0.074222</td>\n",
       "      <td>0.026451</td>\n",
       "      <td>-0.028727</td>\n",
       "      <td>-0.028645</td>\n",
       "      <td>-0.011435</td>\n",
       "      <td>0.002599</td>\n",
       "      <td>4.420000</td>\n",
       "    </tr>\n",
       "    <tr>\n",
       "      <th>50%</th>\n",
       "      <td>6430.000000</td>\n",
       "      <td>0.697183</td>\n",
       "      <td>-0.914824</td>\n",
       "      <td>1.663958</td>\n",
       "      <td>-1.313506</td>\n",
       "      <td>0.398570</td>\n",
       "      <td>0.382215</td>\n",
       "      <td>0.678887</td>\n",
       "      <td>-0.115912</td>\n",
       "      <td>0.636359</td>\n",
       "      <td>...</td>\n",
       "      <td>-0.096173</td>\n",
       "      <td>-0.182585</td>\n",
       "      <td>-0.026075</td>\n",
       "      <td>0.020165</td>\n",
       "      <td>0.027162</td>\n",
       "      <td>-0.039160</td>\n",
       "      <td>-0.049980</td>\n",
       "      <td>-0.036240</td>\n",
       "      <td>-0.020289</td>\n",
       "      <td>3.255000</td>\n",
       "    </tr>\n",
       "    <tr>\n",
       "      <th>75%</th>\n",
       "      <td>5904.750000</td>\n",
       "      <td>0.205522</td>\n",
       "      <td>-2.059718</td>\n",
       "      <td>0.841111</td>\n",
       "      <td>-3.490833</td>\n",
       "      <td>0.083088</td>\n",
       "      <td>0.366876</td>\n",
       "      <td>0.306598</td>\n",
       "      <td>-0.424256</td>\n",
       "      <td>0.401382</td>\n",
       "      <td>...</td>\n",
       "      <td>-0.286958</td>\n",
       "      <td>-0.432043</td>\n",
       "      <td>-0.075212</td>\n",
       "      <td>-0.043517</td>\n",
       "      <td>0.057602</td>\n",
       "      <td>-0.061814</td>\n",
       "      <td>-0.092420</td>\n",
       "      <td>-0.372229</td>\n",
       "      <td>-0.142670</td>\n",
       "      <td>-22.650000</td>\n",
       "    </tr>\n",
       "    <tr>\n",
       "      <th>max</th>\n",
       "      <td>1329.000000</td>\n",
       "      <td>0.113159</td>\n",
       "      <td>0.000000</td>\n",
       "      <td>6.328300</td>\n",
       "      <td>4.760672</td>\n",
       "      <td>23.706577</td>\n",
       "      <td>66.827511</td>\n",
       "      <td>115.158223</td>\n",
       "      <td>0.000000</td>\n",
       "      <td>10.963666</td>\n",
       "      <td>...</td>\n",
       "      <td>28.361900</td>\n",
       "      <td>12.167557</td>\n",
       "      <td>2.141105</td>\n",
       "      <td>13.160356</td>\n",
       "      <td>3.460620</td>\n",
       "      <td>5.050466</td>\n",
       "      <td>0.772085</td>\n",
       "      <td>28.743164</td>\n",
       "      <td>32.065231</td>\n",
       "      <td>22022.160000</td>\n",
       "    </tr>\n",
       "  </tbody>\n",
       "</table>\n",
       "<p>8 rows × 30 columns</p>\n",
       "</div>"
      ],
      "text/plain": [
       "                Time             V1             V2             V3  \\\n",
       "count  226214.000000  226214.000000  226214.000000  226214.000000   \n",
       "mean     8596.596384       2.239366      -1.767254       3.519181   \n",
       "std     -1457.854149      -3.584111      -2.021020      -4.595280   \n",
       "min      -406.000000     -26.531144     -60.960753     -17.766893   \n",
       "25%     11016.750000       1.819895      -0.427730       4.140472   \n",
       "50%      6430.000000       0.697183      -0.914824       1.663958   \n",
       "75%      5904.750000       0.205522      -2.059718       0.841111   \n",
       "max      1329.000000       0.113159       0.000000       6.328300   \n",
       "\n",
       "                  V4             V5             V6             V7  \\\n",
       "count  226214.000000  226214.000000  226214.000000  226214.000000   \n",
       "mean       -2.295115       1.530524       0.748212       2.679589   \n",
       "std        -1.778634      -2.884090      -0.315999      -4.485769   \n",
       "min        -0.846001     -92.077652     -19.754239       0.000000   \n",
       "25%        -0.851201       1.009982       0.844962       2.449010   \n",
       "50%        -1.313506       0.398570       0.382215       0.678887   \n",
       "75%        -3.490833       0.083088       0.366876       0.306598   \n",
       "max         4.760672      23.706577      66.827511     115.158223   \n",
       "\n",
       "                  V8             V9  ...            V20            V21  \\\n",
       "count  226214.000000  226214.000000  ...  226214.000000  226214.000000   \n",
       "mean       -0.433436       1.274785  ...      -0.226711      -0.177859   \n",
       "std        -2.924590      -1.258701  ...      -0.319387      -1.231293   \n",
       "min       -32.172458       0.000000  ...     -49.092004     -12.032778   \n",
       "25%        -0.006104       1.643343  ...      -0.029470      -0.055205   \n",
       "50%        -0.115912       0.636359  ...      -0.096173      -0.182585   \n",
       "75%        -0.424256       0.401382  ...      -0.286958      -0.432043   \n",
       "max         0.000000      10.963666  ...      28.361900      12.167557   \n",
       "\n",
       "                 V22            V23            V24            V25  \\\n",
       "count  226214.000000  226214.000000  226214.000000  226214.000000   \n",
       "mean       -0.076680       0.027081       0.051267      -0.047941   \n",
       "std        -0.246405      -0.386211       0.042004      -0.153918   \n",
       "min        -7.503184     -28.826086      -0.808603      -6.758681   \n",
       "25%        -0.019638       0.074222       0.026451      -0.028727   \n",
       "50%        -0.026075       0.020165       0.027162      -0.039160   \n",
       "75%        -0.075212      -0.043517       0.057602      -0.061814   \n",
       "max         2.141105      13.160356       3.460620       5.050466   \n",
       "\n",
       "                 V26            V27            V28         Amount  \n",
       "count  226214.000000  226214.000000  226214.000000  226214.000000  \n",
       "mean       -0.036512      -0.082647      -0.037377     -15.994118  \n",
       "std        -0.001861      -0.556035      -0.078309      -0.226624  \n",
       "min        -1.346330     -15.302197     -13.560793       0.000000  \n",
       "25%        -0.028645      -0.011435       0.002599       4.420000  \n",
       "50%        -0.049980      -0.036240      -0.020289       3.255000  \n",
       "75%        -0.092420      -0.372229      -0.142670     -22.650000  \n",
       "max         0.772085      28.743164      32.065231   22022.160000  \n",
       "\n",
       "[8 rows x 30 columns]"
      ]
     },
     "execution_count": 68,
     "metadata": {},
     "output_type": "execute_result"
    }
   ],
   "source": [
    "X_train.describe()-X_under.describe()"
   ]
  },
  {
   "cell_type": "code",
   "execution_count": 70,
   "id": "d0e5c7a6",
   "metadata": {},
   "outputs": [
    {
     "data": {
      "text/plain": [
       "count   -226214.000000\n",
       "mean         -0.498313\n",
       "std          -0.458957\n",
       "min           0.000000\n",
       "25%           0.000000\n",
       "50%          -0.500000\n",
       "75%          -1.000000\n",
       "max           0.000000\n",
       "Name: Class, dtype: float64"
      ]
     },
     "execution_count": 70,
     "metadata": {},
     "output_type": "execute_result"
    }
   ],
   "source": [
    "y_train.describe()-y_over.describe()"
   ]
  },
  {
   "cell_type": "code",
   "execution_count": 71,
   "id": "4ae95f1a",
   "metadata": {},
   "outputs": [
    {
     "data": {
      "text/plain": [
       "count    226214.000000\n",
       "mean         -0.498313\n",
       "std          -0.459284\n",
       "min           0.000000\n",
       "25%           0.000000\n",
       "50%          -0.500000\n",
       "75%          -1.000000\n",
       "max           0.000000\n",
       "Name: Class, dtype: float64"
      ]
     },
     "execution_count": 71,
     "metadata": {},
     "output_type": "execute_result"
    }
   ],
   "source": [
    "y_train.describe()-y_under.describe()"
   ]
  },
  {
   "cell_type": "markdown",
   "id": "8fccbad7",
   "metadata": {},
   "source": [
    "<h3> Комментарий:</h3> \n",
    "\n",
    "Как видно из сравнения статистик, полученные данные различаются довольно сильно по некоторым из статистических метрик. Возможно данные каким-то образом были искажены, в процессе обработки. Что вероятно объяснит результаты продемонстрированные в таблице ниже."
   ]
  },
  {
   "cell_type": "markdown",
   "id": "d7853cd9",
   "metadata": {},
   "source": [
    "## Таблица результатов моделей"
   ]
  },
  {
   "cell_type": "code",
   "execution_count": 55,
   "id": "76e645fc",
   "metadata": {},
   "outputs": [],
   "source": [
    "from sklearn.metrics import accuracy_score\n",
    "from sklearn.metrics import precision_score\n",
    "from sklearn.metrics import recall_score"
   ]
  },
  {
   "cell_type": "code",
   "execution_count": 62,
   "id": "34faeb9c",
   "metadata": {},
   "outputs": [],
   "source": [
    "accuracy_DTC = accuracy_score(y_test, y_pred_DTC)\n",
    "precision_DTC = precision_score(y_test, y_pred_DTC)\n",
    "recall_DNC = recall_score(y_test, y_pred_DTC)\n",
    "\n",
    "accuracy_KNN = accuracy_score(y_test, y_pred_KNN)\n",
    "precision_KNN = precision_score(y_test, y_pred_KNN)\n",
    "recall_KNN = recall_score(y_test, y_pred_KNN)\n",
    "\n",
    "accuracy_SVM = accuracy_score(y_test, y_pred_SVM)\n",
    "precision_SVM = precision_score(y_test, y_pred_SVM)\n",
    "recall_SVM = recall_score(y_test, y_pred_SVM)\n",
    "\n",
    "############################\n",
    "\n",
    "accuracy_DTC_over = accuracy_score(y_test, y_pred_DTC_over)\n",
    "precision_DTC_over = precision_score(y_test, y_pred_DTC_over)\n",
    "recall_DNC_over = recall_score(y_test, y_pred_DTC_over)\n",
    "\n",
    "accuracy_KNN_over = accuracy_score(y_test, y_pred_KNN_over)\n",
    "precision_KNN_over = precision_score(y_test, y_pred_KNN_over)\n",
    "recall_KNN_over = recall_score(y_test, y_pred_KNN_over)\n",
    "\n",
    "# accuracy_SVM_over = accuracy_score(y_test, y_pred_SVM_over)\n",
    "# precision_SVM_over = precision_score(y_test, y_pred_SVM_over)\n",
    "# recall_SVM_over = recall_score(y_test, y_pred_SVM_over)\n",
    "accuracy_SVM_over = 'Nan'\n",
    "precision_SVM_over = 'Nan'\n",
    "recall_SVM_over = 'Nan'\n",
    "\n",
    "###########################\n",
    "\n",
    "accuracy_DTC_under = accuracy_score(y_test, y_pred_DTC_under)\n",
    "precision_DTC_under = precision_score(y_test, y_pred_DTC_under)\n",
    "recall_DNC_under = recall_score(y_test, y_pred_DTC_under)\n",
    "\n",
    "accuracy_KNN_under = accuracy_score(y_test, y_pred_KNN_under)\n",
    "precision_KNN_under = precision_score(y_test, y_pred_KNN_under)\n",
    "recall_KNN_under = recall_score(y_test, y_pred_KNN_under)\n",
    "\n",
    "accuracy_SVM_under = accuracy_score(y_test, y_pred_SVM_under)\n",
    "precision_SVM_under = precision_score(y_test, y_pred_SVM_under)\n",
    "recall_SVM_under = recall_score(y_test, y_pred_SVM_under)"
   ]
  },
  {
   "cell_type": "code",
   "execution_count": 65,
   "id": "0d1b3dec",
   "metadata": {},
   "outputs": [
    {
     "data": {
      "text/html": [
       "<div>\n",
       "<style scoped>\n",
       "    .dataframe tbody tr th:only-of-type {\n",
       "        vertical-align: middle;\n",
       "    }\n",
       "\n",
       "    .dataframe tbody tr th {\n",
       "        vertical-align: top;\n",
       "    }\n",
       "\n",
       "    .dataframe thead th {\n",
       "        text-align: right;\n",
       "    }\n",
       "</style>\n",
       "<table border=\"1\" class=\"dataframe\">\n",
       "  <thead>\n",
       "    <tr style=\"text-align: right;\">\n",
       "      <th></th>\n",
       "      <th>Accuracy</th>\n",
       "      <th>Precision</th>\n",
       "      <th>Recall</th>\n",
       "    </tr>\n",
       "  </thead>\n",
       "  <tbody>\n",
       "    <tr>\n",
       "      <th>DTC_unsampled</th>\n",
       "      <td>0.999048</td>\n",
       "      <td>0.68</td>\n",
       "      <td>0.755556</td>\n",
       "    </tr>\n",
       "    <tr>\n",
       "      <th>KNN_unsampled</th>\n",
       "      <td>0.99852</td>\n",
       "      <td>1.0</td>\n",
       "      <td>0.066667</td>\n",
       "    </tr>\n",
       "    <tr>\n",
       "      <th>SVM_unsampled</th>\n",
       "      <td>0.998502</td>\n",
       "      <td>0.571429</td>\n",
       "      <td>0.222222</td>\n",
       "    </tr>\n",
       "    <tr>\n",
       "      <th>DTC_oversampled</th>\n",
       "      <td>0.99889</td>\n",
       "      <td>0.658824</td>\n",
       "      <td>0.622222</td>\n",
       "    </tr>\n",
       "    <tr>\n",
       "      <th>KNN_oversampled</th>\n",
       "      <td>0.997991</td>\n",
       "      <td>0.277778</td>\n",
       "      <td>0.166667</td>\n",
       "    </tr>\n",
       "    <tr>\n",
       "      <th>SVM_oversampled</th>\n",
       "      <td>Nan</td>\n",
       "      <td>Nan</td>\n",
       "      <td>Nan</td>\n",
       "    </tr>\n",
       "    <tr>\n",
       "      <th>DTC_undersampled</th>\n",
       "      <td>0.911465</td>\n",
       "      <td>0.015515</td>\n",
       "      <td>0.877778</td>\n",
       "    </tr>\n",
       "    <tr>\n",
       "      <th>KNN_undersampled</th>\n",
       "      <td>0.825926</td>\n",
       "      <td>0.004154</td>\n",
       "      <td>0.455556</td>\n",
       "    </tr>\n",
       "    <tr>\n",
       "      <th>SVM_undersampled</th>\n",
       "      <td>0.994396</td>\n",
       "      <td>0.186813</td>\n",
       "      <td>0.755556</td>\n",
       "    </tr>\n",
       "  </tbody>\n",
       "</table>\n",
       "</div>"
      ],
      "text/plain": [
       "                  Accuracy Precision    Recall\n",
       "DTC_unsampled     0.999048      0.68  0.755556\n",
       "KNN_unsampled      0.99852       1.0  0.066667\n",
       "SVM_unsampled     0.998502  0.571429  0.222222\n",
       "DTC_oversampled    0.99889  0.658824  0.622222\n",
       "KNN_oversampled   0.997991  0.277778  0.166667\n",
       "SVM_oversampled        Nan       Nan       Nan\n",
       "DTC_undersampled  0.911465  0.015515  0.877778\n",
       "KNN_undersampled  0.825926  0.004154  0.455556\n",
       "SVM_undersampled  0.994396  0.186813  0.755556"
      ]
     },
     "execution_count": 65,
     "metadata": {},
     "output_type": "execute_result"
    }
   ],
   "source": [
    "result=[[accuracy_DTC, precision_DTC, recall_DNC],\n",
    "        [accuracy_KNN, precision_KNN, recall_KNN],\n",
    "        [accuracy_SVM, precision_SVM, recall_SVM],\n",
    "        [accuracy_DTC_over, precision_DTC_over, recall_DNC_over],\n",
    "        [accuracy_KNN_over, precision_KNN_over, recall_KNN_over],\n",
    "        [accuracy_SVM_over, precision_SVM_over, recall_SVM_over],\n",
    "        [accuracy_DTC_under, precision_DTC_under, recall_DNC_under],\n",
    "        [accuracy_KNN_under, precision_KNN_under, recall_KNN_under],\n",
    "        [accuracy_SVM_under, precision_SVM_under, recall_SVM_under],]\n",
    "indexes=['DTC_unsampled','KNN_unsampled', 'SVM_unsampled',\n",
    "        'DTC_oversampled','KNN_oversampled', 'SVM_oversampled',\n",
    "        'DTC_undersampled','KNN_undersampled', 'SVM_undersampled',]\n",
    "\n",
    "result_df = pd.DataFrame(result,columns=['Accuracy','Precision','Recall'], index=indexes)\n",
    "result_df"
   ]
  },
  {
   "cell_type": "markdown",
   "id": "54bc57da",
   "metadata": {},
   "source": [
    "<h3> Комментарий:</h3> \n",
    "\n",
    "Результаты изменились, в сравнении с прошлыми, поскольку исправил ошибку в коде при задании параметров для predict.\n",
    "После внесения изменений стало хуже. Чем это объсняется - не знаю, <b>нужно мнение эксперта</b>. Что не изменилось в сравнении с прошлыми результатами - скорость и точность метода DTC в сравнении с KNN и SVM."
   ]
  },
  {
   "cell_type": "markdown",
   "id": "3b758f04",
   "metadata": {},
   "source": [
    "## Прогнозирование генеральной выборки моделью, обученной на сэмплированных данных\n",
    "\n",
    "\n",
    "\n",
    "- <h3>Метод Деревьев</h3>"
   ]
  },
  {
   "cell_type": "code",
   "execution_count": 73,
   "id": "7e368e60",
   "metadata": {},
   "outputs": [
    {
     "name": "stdout",
     "output_type": "stream",
     "text": [
      "[[283224     29]\n",
      " [    32    441]]\n",
      "              precision    recall  f1-score   support\n",
      "\n",
      "           0       1.00      1.00      1.00    283253\n",
      "           1       0.94      0.93      0.94       473\n",
      "\n",
      "    accuracy                           1.00    283726\n",
      "   macro avg       0.97      0.97      0.97    283726\n",
      "weighted avg       1.00      1.00      1.00    283726\n",
      "\n"
     ]
    }
   ],
   "source": [
    "classifier_DTC_over = DecisionTreeClassifier()\n",
    "classifier_DTC_over.fit(X_over, y_over)\n",
    "\n",
    "y_pred_DTC_over=classifier_DTC_over.predict(df.drop('Class', axis=1))\n",
    "\n",
    "\n",
    "print(confusion_matrix(df['Class'], y_pred_DTC_over))\n",
    "print(classification_report(df['Class'], y_pred_DTC_over))"
   ]
  },
  {
   "cell_type": "code",
   "execution_count": 74,
   "id": "0958ac7d",
   "metadata": {},
   "outputs": [
    {
     "data": {
      "text/plain": [
       "<AxesSubplot:>"
      ]
     },
     "execution_count": 74,
     "metadata": {},
     "output_type": "execute_result"
    },
    {
     "data": {
      "image/png": "[encoded data removed]",
      "text/plain": [
       "<Figure size 432x288 with 2 Axes>"
      ]
     },
     "metadata": {
      "needs_background": "light"
     },
     "output_type": "display_data"
    }
   ],
   "source": [
    "classes_names = ['Обычные','Мошенники']\n",
    "cm = pd.DataFrame(confusion_matrix(df['Class'], y_pred_DTC_over), \n",
    "                  columns=classes_names, index = classes_names)\n",
    "                  \n",
    "sns.heatmap(cm, annot=True, fmt='d')"
   ]
  },
  {
   "cell_type": "code",
   "execution_count": 78,
   "id": "110330fe",
   "metadata": {},
   "outputs": [
    {
     "name": "stdout",
     "output_type": "stream",
     "text": [
      "[[283224     29]\n",
      " [    32    441]]\n",
      "              precision    recall  f1-score   support\n",
      "\n",
      "           0       1.00      1.00      1.00    283253\n",
      "           1       0.94      0.93      0.94       473\n",
      "\n",
      "    accuracy                           1.00    283726\n",
      "   macro avg       0.97      0.97      0.97    283726\n",
      "weighted avg       1.00      1.00      1.00    283726\n",
      "\n"
     ]
    }
   ],
   "source": [
    "classifier_DTC_under = DecisionTreeClassifier()\n",
    "classifier_DTC_under.fit(X_under, y_under)\n",
    "\n",
    "y_pred_DTC_under=classifier_DTC_over.predict(df.drop('Class', axis=1))\n",
    "\n",
    "\n",
    "print(confusion_matrix(df['Class'], y_pred_DTC_under))\n",
    "print(classification_report(df['Class'], y_pred_DTC_under))"
   ]
  },
  {
   "cell_type": "code",
   "execution_count": 80,
   "id": "a30338ed",
   "metadata": {},
   "outputs": [
    {
     "data": {
      "text/plain": [
       "<AxesSubplot:>"
      ]
     },
     "execution_count": 80,
     "metadata": {},
     "output_type": "execute_result"
    },
    {
     "data": {
      "image/png": "[encoded data removed]",
      "text/plain": [
       "<Figure size 432x288 with 2 Axes>"
      ]
     },
     "metadata": {
      "needs_background": "light"
     },
     "output_type": "display_data"
    }
   ],
   "source": [
    "classes_names = ['Обычные','Мошенники']\n",
    "cm = pd.DataFrame(confusion_matrix(df['Class'], y_pred_DTC_under), \n",
    "                  columns=classes_names, index = classes_names)\n",
    "                  \n",
    "sns.heatmap(cm, annot=True, fmt='d')"
   ]
  },
  {
   "cell_type": "markdown",
   "id": "2c00cc0a",
   "metadata": {},
   "source": [
    "### Комментарий:\n",
    "    \n",
    "Для обоих способов сэмплирования результаты получились довольно точными, однако такая точность объясняется тем, что данные, содержащиеся в генеральной выборке, содержатся и в обучающей. Поэтому показательным этот случай назвать нельзя."
   ]
  },
  {
   "cell_type": "code",
   "execution_count": null,
   "id": "8c49da37",
   "metadata": {},
   "outputs": [],
   "source": []
  }
 ],
 "metadata": {
  "kernelspec": {
   "display_name": "Python 3 (ipykernel)",
   "language": "python",
   "name": "python3"
  },
  "language_info": {
   "codemirror_mode": {
    "name": "ipython",
    "version": 3
   },
   "file_extension": ".py",
   "mimetype": "text/x-python",
   "name": "python",
   "nbconvert_exporter": "python",
   "pygments_lexer": "ipython3",
   "version": "3.9.12"
  }
 },
 "nbformat": 4,
 "nbformat_minor": 5
}
