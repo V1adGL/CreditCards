{
 "cells": [
  {
   "cell_type": "code",
   "execution_count": 1,
   "id": "dbd7fefe",
   "metadata": {},
   "outputs": [],
   "source": [
    "import pandas as pd\n",
    "import seaborn as sns\n",
    "import matplotlib.pyplot as plt\n",
    "from sklearn.model_selection import train_test_split\n"
   ]
  },
  {
   "cell_type": "markdown",
   "id": "13f7647e",
   "metadata": {},
   "source": [
    "# Прочитаем файл и выведем основную информацию по нему"
   ]
  },
  {
   "cell_type": "code",
   "execution_count": 2,
   "id": "58252fe8",
   "metadata": {},
   "outputs": [
    {
     "data": {
      "text/html": [
       "<div>\n",
       "<style scoped>\n",
       "    .dataframe tbody tr th:only-of-type {\n",
       "        vertical-align: middle;\n",
       "    }\n",
       "\n",
       "    .dataframe tbody tr th {\n",
       "        vertical-align: top;\n",
       "    }\n",
       "\n",
       "    .dataframe thead th {\n",
       "        text-align: right;\n",
       "    }\n",
       "</style>\n",
       "<table border=\"1\" class=\"dataframe\">\n",
       "  <thead>\n",
       "    <tr style=\"text-align: right;\">\n",
       "      <th></th>\n",
       "      <th>Time</th>\n",
       "      <th>V1</th>\n",
       "      <th>V2</th>\n",
       "      <th>V3</th>\n",
       "      <th>V4</th>\n",
       "      <th>V5</th>\n",
       "      <th>V6</th>\n",
       "      <th>V7</th>\n",
       "      <th>V8</th>\n",
       "      <th>V9</th>\n",
       "      <th>...</th>\n",
       "      <th>V21</th>\n",
       "      <th>V22</th>\n",
       "      <th>V23</th>\n",
       "      <th>V24</th>\n",
       "      <th>V25</th>\n",
       "      <th>V26</th>\n",
       "      <th>V27</th>\n",
       "      <th>V28</th>\n",
       "      <th>Amount</th>\n",
       "      <th>Class</th>\n",
       "    </tr>\n",
       "  </thead>\n",
       "  <tbody>\n",
       "    <tr>\n",
       "      <th>0</th>\n",
       "      <td>0.0</td>\n",
       "      <td>-1.359807</td>\n",
       "      <td>-0.072781</td>\n",
       "      <td>2.536347</td>\n",
       "      <td>1.378155</td>\n",
       "      <td>-0.338321</td>\n",
       "      <td>0.462388</td>\n",
       "      <td>0.239599</td>\n",
       "      <td>0.098698</td>\n",
       "      <td>0.363787</td>\n",
       "      <td>...</td>\n",
       "      <td>-0.018307</td>\n",
       "      <td>0.277838</td>\n",
       "      <td>-0.110474</td>\n",
       "      <td>0.066928</td>\n",
       "      <td>0.128539</td>\n",
       "      <td>-0.189115</td>\n",
       "      <td>0.133558</td>\n",
       "      <td>-0.021053</td>\n",
       "      <td>149.62</td>\n",
       "      <td>0</td>\n",
       "    </tr>\n",
       "    <tr>\n",
       "      <th>1</th>\n",
       "      <td>0.0</td>\n",
       "      <td>1.191857</td>\n",
       "      <td>0.266151</td>\n",
       "      <td>0.166480</td>\n",
       "      <td>0.448154</td>\n",
       "      <td>0.060018</td>\n",
       "      <td>-0.082361</td>\n",
       "      <td>-0.078803</td>\n",
       "      <td>0.085102</td>\n",
       "      <td>-0.255425</td>\n",
       "      <td>...</td>\n",
       "      <td>-0.225775</td>\n",
       "      <td>-0.638672</td>\n",
       "      <td>0.101288</td>\n",
       "      <td>-0.339846</td>\n",
       "      <td>0.167170</td>\n",
       "      <td>0.125895</td>\n",
       "      <td>-0.008983</td>\n",
       "      <td>0.014724</td>\n",
       "      <td>2.69</td>\n",
       "      <td>0</td>\n",
       "    </tr>\n",
       "    <tr>\n",
       "      <th>2</th>\n",
       "      <td>1.0</td>\n",
       "      <td>-1.358354</td>\n",
       "      <td>-1.340163</td>\n",
       "      <td>1.773209</td>\n",
       "      <td>0.379780</td>\n",
       "      <td>-0.503198</td>\n",
       "      <td>1.800499</td>\n",
       "      <td>0.791461</td>\n",
       "      <td>0.247676</td>\n",
       "      <td>-1.514654</td>\n",
       "      <td>...</td>\n",
       "      <td>0.247998</td>\n",
       "      <td>0.771679</td>\n",
       "      <td>0.909412</td>\n",
       "      <td>-0.689281</td>\n",
       "      <td>-0.327642</td>\n",
       "      <td>-0.139097</td>\n",
       "      <td>-0.055353</td>\n",
       "      <td>-0.059752</td>\n",
       "      <td>378.66</td>\n",
       "      <td>0</td>\n",
       "    </tr>\n",
       "    <tr>\n",
       "      <th>3</th>\n",
       "      <td>1.0</td>\n",
       "      <td>-0.966272</td>\n",
       "      <td>-0.185226</td>\n",
       "      <td>1.792993</td>\n",
       "      <td>-0.863291</td>\n",
       "      <td>-0.010309</td>\n",
       "      <td>1.247203</td>\n",
       "      <td>0.237609</td>\n",
       "      <td>0.377436</td>\n",
       "      <td>-1.387024</td>\n",
       "      <td>...</td>\n",
       "      <td>-0.108300</td>\n",
       "      <td>0.005274</td>\n",
       "      <td>-0.190321</td>\n",
       "      <td>-1.175575</td>\n",
       "      <td>0.647376</td>\n",
       "      <td>-0.221929</td>\n",
       "      <td>0.062723</td>\n",
       "      <td>0.061458</td>\n",
       "      <td>123.50</td>\n",
       "      <td>0</td>\n",
       "    </tr>\n",
       "    <tr>\n",
       "      <th>4</th>\n",
       "      <td>2.0</td>\n",
       "      <td>-1.158233</td>\n",
       "      <td>0.877737</td>\n",
       "      <td>1.548718</td>\n",
       "      <td>0.403034</td>\n",
       "      <td>-0.407193</td>\n",
       "      <td>0.095921</td>\n",
       "      <td>0.592941</td>\n",
       "      <td>-0.270533</td>\n",
       "      <td>0.817739</td>\n",
       "      <td>...</td>\n",
       "      <td>-0.009431</td>\n",
       "      <td>0.798278</td>\n",
       "      <td>-0.137458</td>\n",
       "      <td>0.141267</td>\n",
       "      <td>-0.206010</td>\n",
       "      <td>0.502292</td>\n",
       "      <td>0.219422</td>\n",
       "      <td>0.215153</td>\n",
       "      <td>69.99</td>\n",
       "      <td>0</td>\n",
       "    </tr>\n",
       "  </tbody>\n",
       "</table>\n",
       "<p>5 rows × 31 columns</p>\n",
       "</div>"
      ],
      "text/plain": [
       "   Time        V1        V2        V3        V4        V5        V6        V7  \\\n",
       "0   0.0 -1.359807 -0.072781  2.536347  1.378155 -0.338321  0.462388  0.239599   \n",
       "1   0.0  1.191857  0.266151  0.166480  0.448154  0.060018 -0.082361 -0.078803   \n",
       "2   1.0 -1.358354 -1.340163  1.773209  0.379780 -0.503198  1.800499  0.791461   \n",
       "3   1.0 -0.966272 -0.185226  1.792993 -0.863291 -0.010309  1.247203  0.237609   \n",
       "4   2.0 -1.158233  0.877737  1.548718  0.403034 -0.407193  0.095921  0.592941   \n",
       "\n",
       "         V8        V9  ...       V21       V22       V23       V24       V25  \\\n",
       "0  0.098698  0.363787  ... -0.018307  0.277838 -0.110474  0.066928  0.128539   \n",
       "1  0.085102 -0.255425  ... -0.225775 -0.638672  0.101288 -0.339846  0.167170   \n",
       "2  0.247676 -1.514654  ...  0.247998  0.771679  0.909412 -0.689281 -0.327642   \n",
       "3  0.377436 -1.387024  ... -0.108300  0.005274 -0.190321 -1.175575  0.647376   \n",
       "4 -0.270533  0.817739  ... -0.009431  0.798278 -0.137458  0.141267 -0.206010   \n",
       "\n",
       "        V26       V27       V28  Amount  Class  \n",
       "0 -0.189115  0.133558 -0.021053  149.62      0  \n",
       "1  0.125895 -0.008983  0.014724    2.69      0  \n",
       "2 -0.139097 -0.055353 -0.059752  378.66      0  \n",
       "3 -0.221929  0.062723  0.061458  123.50      0  \n",
       "4  0.502292  0.219422  0.215153   69.99      0  \n",
       "\n",
       "[5 rows x 31 columns]"
      ]
     },
     "execution_count": 2,
     "metadata": {},
     "output_type": "execute_result"
    }
   ],
   "source": [
    "df=pd.read_csv('creditcard.csv')\n",
    "df.head()"
   ]
  },
  {
   "cell_type": "code",
   "execution_count": 3,
   "id": "742b799b",
   "metadata": {},
   "outputs": [
    {
     "data": {
      "text/html": [
       "<div>\n",
       "<style scoped>\n",
       "    .dataframe tbody tr th:only-of-type {\n",
       "        vertical-align: middle;\n",
       "    }\n",
       "\n",
       "    .dataframe tbody tr th {\n",
       "        vertical-align: top;\n",
       "    }\n",
       "\n",
       "    .dataframe thead th {\n",
       "        text-align: right;\n",
       "    }\n",
       "</style>\n",
       "<table border=\"1\" class=\"dataframe\">\n",
       "  <thead>\n",
       "    <tr style=\"text-align: right;\">\n",
       "      <th></th>\n",
       "      <th>Time</th>\n",
       "      <th>V1</th>\n",
       "      <th>V2</th>\n",
       "      <th>V3</th>\n",
       "      <th>V4</th>\n",
       "      <th>V5</th>\n",
       "      <th>V6</th>\n",
       "      <th>V7</th>\n",
       "      <th>V8</th>\n",
       "      <th>V9</th>\n",
       "      <th>...</th>\n",
       "      <th>V21</th>\n",
       "      <th>V22</th>\n",
       "      <th>V23</th>\n",
       "      <th>V24</th>\n",
       "      <th>V25</th>\n",
       "      <th>V26</th>\n",
       "      <th>V27</th>\n",
       "      <th>V28</th>\n",
       "      <th>Amount</th>\n",
       "      <th>Class</th>\n",
       "    </tr>\n",
       "  </thead>\n",
       "  <tbody>\n",
       "    <tr>\n",
       "      <th>count</th>\n",
       "      <td>284807.000000</td>\n",
       "      <td>2.848070e+05</td>\n",
       "      <td>2.848070e+05</td>\n",
       "      <td>2.848070e+05</td>\n",
       "      <td>2.848070e+05</td>\n",
       "      <td>2.848070e+05</td>\n",
       "      <td>2.848070e+05</td>\n",
       "      <td>2.848070e+05</td>\n",
       "      <td>2.848070e+05</td>\n",
       "      <td>2.848070e+05</td>\n",
       "      <td>...</td>\n",
       "      <td>2.848070e+05</td>\n",
       "      <td>2.848070e+05</td>\n",
       "      <td>2.848070e+05</td>\n",
       "      <td>2.848070e+05</td>\n",
       "      <td>2.848070e+05</td>\n",
       "      <td>2.848070e+05</td>\n",
       "      <td>2.848070e+05</td>\n",
       "      <td>2.848070e+05</td>\n",
       "      <td>284807.000000</td>\n",
       "      <td>284807.000000</td>\n",
       "    </tr>\n",
       "    <tr>\n",
       "      <th>mean</th>\n",
       "      <td>94813.859575</td>\n",
       "      <td>3.918649e-15</td>\n",
       "      <td>5.682686e-16</td>\n",
       "      <td>-8.761736e-15</td>\n",
       "      <td>2.811118e-15</td>\n",
       "      <td>-1.552103e-15</td>\n",
       "      <td>2.040130e-15</td>\n",
       "      <td>-1.698953e-15</td>\n",
       "      <td>-1.893285e-16</td>\n",
       "      <td>-3.147640e-15</td>\n",
       "      <td>...</td>\n",
       "      <td>1.473120e-16</td>\n",
       "      <td>8.042109e-16</td>\n",
       "      <td>5.282512e-16</td>\n",
       "      <td>4.456271e-15</td>\n",
       "      <td>1.426896e-15</td>\n",
       "      <td>1.701640e-15</td>\n",
       "      <td>-3.662252e-16</td>\n",
       "      <td>-1.217809e-16</td>\n",
       "      <td>88.349619</td>\n",
       "      <td>0.001727</td>\n",
       "    </tr>\n",
       "    <tr>\n",
       "      <th>std</th>\n",
       "      <td>47488.145955</td>\n",
       "      <td>1.958696e+00</td>\n",
       "      <td>1.651309e+00</td>\n",
       "      <td>1.516255e+00</td>\n",
       "      <td>1.415869e+00</td>\n",
       "      <td>1.380247e+00</td>\n",
       "      <td>1.332271e+00</td>\n",
       "      <td>1.237094e+00</td>\n",
       "      <td>1.194353e+00</td>\n",
       "      <td>1.098632e+00</td>\n",
       "      <td>...</td>\n",
       "      <td>7.345240e-01</td>\n",
       "      <td>7.257016e-01</td>\n",
       "      <td>6.244603e-01</td>\n",
       "      <td>6.056471e-01</td>\n",
       "      <td>5.212781e-01</td>\n",
       "      <td>4.822270e-01</td>\n",
       "      <td>4.036325e-01</td>\n",
       "      <td>3.300833e-01</td>\n",
       "      <td>250.120109</td>\n",
       "      <td>0.041527</td>\n",
       "    </tr>\n",
       "    <tr>\n",
       "      <th>min</th>\n",
       "      <td>0.000000</td>\n",
       "      <td>-5.640751e+01</td>\n",
       "      <td>-7.271573e+01</td>\n",
       "      <td>-4.832559e+01</td>\n",
       "      <td>-5.683171e+00</td>\n",
       "      <td>-1.137433e+02</td>\n",
       "      <td>-2.616051e+01</td>\n",
       "      <td>-4.355724e+01</td>\n",
       "      <td>-7.321672e+01</td>\n",
       "      <td>-1.343407e+01</td>\n",
       "      <td>...</td>\n",
       "      <td>-3.483038e+01</td>\n",
       "      <td>-1.093314e+01</td>\n",
       "      <td>-4.480774e+01</td>\n",
       "      <td>-2.836627e+00</td>\n",
       "      <td>-1.029540e+01</td>\n",
       "      <td>-2.604551e+00</td>\n",
       "      <td>-2.256568e+01</td>\n",
       "      <td>-1.543008e+01</td>\n",
       "      <td>0.000000</td>\n",
       "      <td>0.000000</td>\n",
       "    </tr>\n",
       "    <tr>\n",
       "      <th>25%</th>\n",
       "      <td>54201.500000</td>\n",
       "      <td>-9.203734e-01</td>\n",
       "      <td>-5.985499e-01</td>\n",
       "      <td>-8.903648e-01</td>\n",
       "      <td>-8.486401e-01</td>\n",
       "      <td>-6.915971e-01</td>\n",
       "      <td>-7.682956e-01</td>\n",
       "      <td>-5.540759e-01</td>\n",
       "      <td>-2.086297e-01</td>\n",
       "      <td>-6.430976e-01</td>\n",
       "      <td>...</td>\n",
       "      <td>-2.283949e-01</td>\n",
       "      <td>-5.423504e-01</td>\n",
       "      <td>-1.618463e-01</td>\n",
       "      <td>-3.545861e-01</td>\n",
       "      <td>-3.171451e-01</td>\n",
       "      <td>-3.269839e-01</td>\n",
       "      <td>-7.083953e-02</td>\n",
       "      <td>-5.295979e-02</td>\n",
       "      <td>5.600000</td>\n",
       "      <td>0.000000</td>\n",
       "    </tr>\n",
       "    <tr>\n",
       "      <th>50%</th>\n",
       "      <td>84692.000000</td>\n",
       "      <td>1.810880e-02</td>\n",
       "      <td>6.548556e-02</td>\n",
       "      <td>1.798463e-01</td>\n",
       "      <td>-1.984653e-02</td>\n",
       "      <td>-5.433583e-02</td>\n",
       "      <td>-2.741871e-01</td>\n",
       "      <td>4.010308e-02</td>\n",
       "      <td>2.235804e-02</td>\n",
       "      <td>-5.142873e-02</td>\n",
       "      <td>...</td>\n",
       "      <td>-2.945017e-02</td>\n",
       "      <td>6.781943e-03</td>\n",
       "      <td>-1.119293e-02</td>\n",
       "      <td>4.097606e-02</td>\n",
       "      <td>1.659350e-02</td>\n",
       "      <td>-5.213911e-02</td>\n",
       "      <td>1.342146e-03</td>\n",
       "      <td>1.124383e-02</td>\n",
       "      <td>22.000000</td>\n",
       "      <td>0.000000</td>\n",
       "    </tr>\n",
       "    <tr>\n",
       "      <th>75%</th>\n",
       "      <td>139320.500000</td>\n",
       "      <td>1.315642e+00</td>\n",
       "      <td>8.037239e-01</td>\n",
       "      <td>1.027196e+00</td>\n",
       "      <td>7.433413e-01</td>\n",
       "      <td>6.119264e-01</td>\n",
       "      <td>3.985649e-01</td>\n",
       "      <td>5.704361e-01</td>\n",
       "      <td>3.273459e-01</td>\n",
       "      <td>5.971390e-01</td>\n",
       "      <td>...</td>\n",
       "      <td>1.863772e-01</td>\n",
       "      <td>5.285536e-01</td>\n",
       "      <td>1.476421e-01</td>\n",
       "      <td>4.395266e-01</td>\n",
       "      <td>3.507156e-01</td>\n",
       "      <td>2.409522e-01</td>\n",
       "      <td>9.104512e-02</td>\n",
       "      <td>7.827995e-02</td>\n",
       "      <td>77.165000</td>\n",
       "      <td>0.000000</td>\n",
       "    </tr>\n",
       "    <tr>\n",
       "      <th>max</th>\n",
       "      <td>172792.000000</td>\n",
       "      <td>2.454930e+00</td>\n",
       "      <td>2.205773e+01</td>\n",
       "      <td>9.382558e+00</td>\n",
       "      <td>1.687534e+01</td>\n",
       "      <td>3.480167e+01</td>\n",
       "      <td>7.330163e+01</td>\n",
       "      <td>1.205895e+02</td>\n",
       "      <td>2.000721e+01</td>\n",
       "      <td>1.559499e+01</td>\n",
       "      <td>...</td>\n",
       "      <td>2.720284e+01</td>\n",
       "      <td>1.050309e+01</td>\n",
       "      <td>2.252841e+01</td>\n",
       "      <td>4.584549e+00</td>\n",
       "      <td>7.519589e+00</td>\n",
       "      <td>3.517346e+00</td>\n",
       "      <td>3.161220e+01</td>\n",
       "      <td>3.384781e+01</td>\n",
       "      <td>25691.160000</td>\n",
       "      <td>1.000000</td>\n",
       "    </tr>\n",
       "  </tbody>\n",
       "</table>\n",
       "<p>8 rows × 31 columns</p>\n",
       "</div>"
      ],
      "text/plain": [
       "                Time            V1            V2            V3            V4  \\\n",
       "count  284807.000000  2.848070e+05  2.848070e+05  2.848070e+05  2.848070e+05   \n",
       "mean    94813.859575  3.918649e-15  5.682686e-16 -8.761736e-15  2.811118e-15   \n",
       "std     47488.145955  1.958696e+00  1.651309e+00  1.516255e+00  1.415869e+00   \n",
       "min         0.000000 -5.640751e+01 -7.271573e+01 -4.832559e+01 -5.683171e+00   \n",
       "25%     54201.500000 -9.203734e-01 -5.985499e-01 -8.903648e-01 -8.486401e-01   \n",
       "50%     84692.000000  1.810880e-02  6.548556e-02  1.798463e-01 -1.984653e-02   \n",
       "75%    139320.500000  1.315642e+00  8.037239e-01  1.027196e+00  7.433413e-01   \n",
       "max    172792.000000  2.454930e+00  2.205773e+01  9.382558e+00  1.687534e+01   \n",
       "\n",
       "                 V5            V6            V7            V8            V9  \\\n",
       "count  2.848070e+05  2.848070e+05  2.848070e+05  2.848070e+05  2.848070e+05   \n",
       "mean  -1.552103e-15  2.040130e-15 -1.698953e-15 -1.893285e-16 -3.147640e-15   \n",
       "std    1.380247e+00  1.332271e+00  1.237094e+00  1.194353e+00  1.098632e+00   \n",
       "min   -1.137433e+02 -2.616051e+01 -4.355724e+01 -7.321672e+01 -1.343407e+01   \n",
       "25%   -6.915971e-01 -7.682956e-01 -5.540759e-01 -2.086297e-01 -6.430976e-01   \n",
       "50%   -5.433583e-02 -2.741871e-01  4.010308e-02  2.235804e-02 -5.142873e-02   \n",
       "75%    6.119264e-01  3.985649e-01  5.704361e-01  3.273459e-01  5.971390e-01   \n",
       "max    3.480167e+01  7.330163e+01  1.205895e+02  2.000721e+01  1.559499e+01   \n",
       "\n",
       "       ...           V21           V22           V23           V24  \\\n",
       "count  ...  2.848070e+05  2.848070e+05  2.848070e+05  2.848070e+05   \n",
       "mean   ...  1.473120e-16  8.042109e-16  5.282512e-16  4.456271e-15   \n",
       "std    ...  7.345240e-01  7.257016e-01  6.244603e-01  6.056471e-01   \n",
       "min    ... -3.483038e+01 -1.093314e+01 -4.480774e+01 -2.836627e+00   \n",
       "25%    ... -2.283949e-01 -5.423504e-01 -1.618463e-01 -3.545861e-01   \n",
       "50%    ... -2.945017e-02  6.781943e-03 -1.119293e-02  4.097606e-02   \n",
       "75%    ...  1.863772e-01  5.285536e-01  1.476421e-01  4.395266e-01   \n",
       "max    ...  2.720284e+01  1.050309e+01  2.252841e+01  4.584549e+00   \n",
       "\n",
       "                V25           V26           V27           V28         Amount  \\\n",
       "count  2.848070e+05  2.848070e+05  2.848070e+05  2.848070e+05  284807.000000   \n",
       "mean   1.426896e-15  1.701640e-15 -3.662252e-16 -1.217809e-16      88.349619   \n",
       "std    5.212781e-01  4.822270e-01  4.036325e-01  3.300833e-01     250.120109   \n",
       "min   -1.029540e+01 -2.604551e+00 -2.256568e+01 -1.543008e+01       0.000000   \n",
       "25%   -3.171451e-01 -3.269839e-01 -7.083953e-02 -5.295979e-02       5.600000   \n",
       "50%    1.659350e-02 -5.213911e-02  1.342146e-03  1.124383e-02      22.000000   \n",
       "75%    3.507156e-01  2.409522e-01  9.104512e-02  7.827995e-02      77.165000   \n",
       "max    7.519589e+00  3.517346e+00  3.161220e+01  3.384781e+01   25691.160000   \n",
       "\n",
       "               Class  \n",
       "count  284807.000000  \n",
       "mean        0.001727  \n",
       "std         0.041527  \n",
       "min         0.000000  \n",
       "25%         0.000000  \n",
       "50%         0.000000  \n",
       "75%         0.000000  \n",
       "max         1.000000  \n",
       "\n",
       "[8 rows x 31 columns]"
      ]
     },
     "metadata": {},
     "output_type": "display_data"
    },
    {
     "name": "stdout",
     "output_type": "stream",
     "text": [
      "<class 'pandas.core.frame.DataFrame'>\n",
      "RangeIndex: 284807 entries, 0 to 284806\n",
      "Data columns (total 31 columns):\n",
      " #   Column  Non-Null Count   Dtype  \n",
      "---  ------  --------------   -----  \n",
      " 0   Time    284807 non-null  float64\n",
      " 1   V1      284807 non-null  float64\n",
      " 2   V2      284807 non-null  float64\n",
      " 3   V3      284807 non-null  float64\n",
      " 4   V4      284807 non-null  float64\n",
      " 5   V5      284807 non-null  float64\n",
      " 6   V6      284807 non-null  float64\n",
      " 7   V7      284807 non-null  float64\n",
      " 8   V8      284807 non-null  float64\n",
      " 9   V9      284807 non-null  float64\n",
      " 10  V10     284807 non-null  float64\n",
      " 11  V11     284807 non-null  float64\n",
      " 12  V12     284807 non-null  float64\n",
      " 13  V13     284807 non-null  float64\n",
      " 14  V14     284807 non-null  float64\n",
      " 15  V15     284807 non-null  float64\n",
      " 16  V16     284807 non-null  float64\n",
      " 17  V17     284807 non-null  float64\n",
      " 18  V18     284807 non-null  float64\n",
      " 19  V19     284807 non-null  float64\n",
      " 20  V20     284807 non-null  float64\n",
      " 21  V21     284807 non-null  float64\n",
      " 22  V22     284807 non-null  float64\n",
      " 23  V23     284807 non-null  float64\n",
      " 24  V24     284807 non-null  float64\n",
      " 25  V25     284807 non-null  float64\n",
      " 26  V26     284807 non-null  float64\n",
      " 27  V27     284807 non-null  float64\n",
      " 28  V28     284807 non-null  float64\n",
      " 29  Amount  284807 non-null  float64\n",
      " 30  Class   284807 non-null  int64  \n",
      "dtypes: float64(30), int64(1)\n",
      "memory usage: 67.4 MB\n"
     ]
    }
   ],
   "source": [
    "display(df.describe())\n",
    "df.info()"
   ]
  },
  {
   "cell_type": "markdown",
   "id": "5a1eb5e6",
   "metadata": {},
   "source": [
    "# Проверка на наличие пропусков, дубликатов \n"
   ]
  },
  {
   "cell_type": "code",
   "execution_count": 4,
   "id": "bd49be6c",
   "metadata": {
    "scrolled": true
   },
   "outputs": [
    {
     "data": {
      "text/plain": [
       "Time      0\n",
       "V1        0\n",
       "V2        0\n",
       "V3        0\n",
       "V4        0\n",
       "V5        0\n",
       "V6        0\n",
       "V7        0\n",
       "V8        0\n",
       "V9        0\n",
       "V10       0\n",
       "V11       0\n",
       "V12       0\n",
       "V13       0\n",
       "V14       0\n",
       "V15       0\n",
       "V16       0\n",
       "V17       0\n",
       "V18       0\n",
       "V19       0\n",
       "V20       0\n",
       "V21       0\n",
       "V22       0\n",
       "V23       0\n",
       "V24       0\n",
       "V25       0\n",
       "V26       0\n",
       "V27       0\n",
       "V28       0\n",
       "Amount    0\n",
       "Class     0\n",
       "dtype: int64"
      ]
     },
     "execution_count": 4,
     "metadata": {},
     "output_type": "execute_result"
    }
   ],
   "source": [
    "df.isnull().sum()"
   ]
  },
  {
   "cell_type": "markdown",
   "id": "d25840c2",
   "metadata": {},
   "source": [
    "### Пропусков нет"
   ]
  },
  {
   "cell_type": "code",
   "execution_count": 5,
   "id": "4195e158",
   "metadata": {},
   "outputs": [
    {
     "data": {
      "text/plain": [
       "True"
      ]
     },
     "execution_count": 5,
     "metadata": {},
     "output_type": "execute_result"
    }
   ],
   "source": [
    "df.duplicated().any()\n"
   ]
  },
  {
   "cell_type": "markdown",
   "id": "86005bb9",
   "metadata": {},
   "source": [
    "### Дубликаты есть -> удаляем"
   ]
  },
  {
   "cell_type": "code",
   "execution_count": 6,
   "id": "cfb9b0d1",
   "metadata": {},
   "outputs": [
    {
     "data": {
      "text/plain": [
       "False"
      ]
     },
     "execution_count": 6,
     "metadata": {},
     "output_type": "execute_result"
    }
   ],
   "source": [
    "df=df.drop_duplicates()\n",
    "df.duplicated().any() "
   ]
  },
  {
   "cell_type": "markdown",
   "id": "cc2bcac7",
   "metadata": {},
   "source": [
    "## Проверка на сбалансированность\n",
    "Данные можно назвать сбалансированными, если количество выборок примерно совпадает."
   ]
  },
  {
   "cell_type": "code",
   "execution_count": 7,
   "id": "e9c75db7",
   "metadata": {},
   "outputs": [
    {
     "data": {
      "image/png": "[encoded data removed]",
      "text/plain": [
       "<Figure size 360x360 with 1 Axes>"
      ]
     },
     "metadata": {
      "needs_background": "light"
     },
     "output_type": "display_data"
    }
   ],
   "source": [
    "plt.figure(figsize=(5,5))\n",
    "ax = sns.countplot(x = df['Class'], data = df, palette=\"pastel\")\n",
    "for i in ax.containers:\n",
    "    ax.bar_label(i,)"
   ]
  },
  {
   "cell_type": "markdown",
   "id": "cbdee0f3",
   "metadata": {},
   "source": [
    "Имеется два варианты: обыкновенная транзацкия (принимает значение 0) и мошенническая транзакция (принимает значение 1). Видно, что преобладают данные класса 0 - обычные транзакции. Следовательно, данные несбалансированные."
   ]
  },
  {
   "cell_type": "code",
   "execution_count": 8,
   "id": "e74c7683",
   "metadata": {},
   "outputs": [
    {
     "data": {
      "image/png": "[encoded data removed]",
      "text/plain": [
       "<Figure size 864x720 with 2 Axes>"
      ]
     },
     "metadata": {
      "needs_background": "light"
     },
     "output_type": "display_data"
    }
   ],
   "source": [
    "plt.figure(figsize = (12,10))\n",
    "plt.title('Credit Card Transactions features correlation plot')\n",
    "corr = df.corr()\n",
    "sns.heatmap(corr,xticklabels=corr.columns,yticklabels=corr.columns,linewidths=.4 , fmt='.1g')\n",
    "plt.show()"
   ]
  },
  {
   "cell_type": "markdown",
   "id": "b9405930",
   "metadata": {},
   "source": [
    "На тепловой карте видно, что показатели V1-V28 никак особо не коррелируют. Исключением являются столбцы Amount и Class"
   ]
  },
  {
   "cell_type": "markdown",
   "id": "50d31b1b",
   "metadata": {},
   "source": [
    "\n",
    "\n",
    "# Разделим исходные данные на test/train группы"
   ]
  },
  {
   "cell_type": "code",
   "execution_count": 9,
   "id": "036b8aed",
   "metadata": {},
   "outputs": [],
   "source": [
    "X_train, X_test, y_train, y_test = train_test_split (df.drop('Class', axis=1), df['Class'] , test_size=0.2, random_state=42)"
   ]
  },
  {
   "cell_type": "markdown",
   "id": "c1631a9a",
   "metadata": {},
   "source": [
    "# Работа с несбалансированными данными\n",
    "\n",
    "## 1 Сравним статистики подвыборок"
   ]
  },
  {
   "cell_type": "code",
   "execution_count": 10,
   "id": "4094ea64",
   "metadata": {},
   "outputs": [
    {
     "data": {
      "text/html": [
       "<div>\n",
       "<style scoped>\n",
       "    .dataframe tbody tr th:only-of-type {\n",
       "        vertical-align: middle;\n",
       "    }\n",
       "\n",
       "    .dataframe tbody tr th {\n",
       "        vertical-align: top;\n",
       "    }\n",
       "\n",
       "    .dataframe thead th {\n",
       "        text-align: right;\n",
       "    }\n",
       "</style>\n",
       "<table border=\"1\" class=\"dataframe\">\n",
       "  <thead>\n",
       "    <tr style=\"text-align: right;\">\n",
       "      <th></th>\n",
       "      <th>Time</th>\n",
       "      <th>V1</th>\n",
       "      <th>V2</th>\n",
       "      <th>V3</th>\n",
       "      <th>V4</th>\n",
       "      <th>V5</th>\n",
       "      <th>V6</th>\n",
       "      <th>V7</th>\n",
       "      <th>V8</th>\n",
       "      <th>V9</th>\n",
       "      <th>...</th>\n",
       "      <th>V20</th>\n",
       "      <th>V21</th>\n",
       "      <th>V22</th>\n",
       "      <th>V23</th>\n",
       "      <th>V24</th>\n",
       "      <th>V25</th>\n",
       "      <th>V26</th>\n",
       "      <th>V27</th>\n",
       "      <th>V28</th>\n",
       "      <th>Amount</th>\n",
       "    </tr>\n",
       "  </thead>\n",
       "  <tbody>\n",
       "    <tr>\n",
       "      <th>count</th>\n",
       "      <td>226980.000000</td>\n",
       "      <td>226980.000000</td>\n",
       "      <td>226980.000000</td>\n",
       "      <td>226980.000000</td>\n",
       "      <td>226980.000000</td>\n",
       "      <td>226980.000000</td>\n",
       "      <td>226980.000000</td>\n",
       "      <td>226980.000000</td>\n",
       "      <td>226980.000000</td>\n",
       "      <td>226980.000000</td>\n",
       "      <td>...</td>\n",
       "      <td>226980.000000</td>\n",
       "      <td>226980.000000</td>\n",
       "      <td>226980.000000</td>\n",
       "      <td>226980.000000</td>\n",
       "      <td>226980.000000</td>\n",
       "      <td>226980.000000</td>\n",
       "      <td>226980.000000</td>\n",
       "      <td>226980.000000</td>\n",
       "      <td>226980.000000</td>\n",
       "      <td>226980.000000</td>\n",
       "    </tr>\n",
       "    <tr>\n",
       "      <th>mean</th>\n",
       "      <td>94784.824844</td>\n",
       "      <td>0.004318</td>\n",
       "      <td>-0.002854</td>\n",
       "      <td>0.001375</td>\n",
       "      <td>-0.002222</td>\n",
       "      <td>0.002471</td>\n",
       "      <td>-0.001759</td>\n",
       "      <td>0.001506</td>\n",
       "      <td>0.000444</td>\n",
       "      <td>-0.001922</td>\n",
       "      <td>...</td>\n",
       "      <td>0.000378</td>\n",
       "      <td>-0.000333</td>\n",
       "      <td>-0.001297</td>\n",
       "      <td>0.000156</td>\n",
       "      <td>0.000080</td>\n",
       "      <td>0.000601</td>\n",
       "      <td>0.000566</td>\n",
       "      <td>0.001978</td>\n",
       "      <td>0.000719</td>\n",
       "      <td>88.504929</td>\n",
       "    </tr>\n",
       "    <tr>\n",
       "      <th>std</th>\n",
       "      <td>47495.137144</td>\n",
       "      <td>1.948313</td>\n",
       "      <td>1.649149</td>\n",
       "      <td>1.512782</td>\n",
       "      <td>1.415649</td>\n",
       "      <td>1.388556</td>\n",
       "      <td>1.335118</td>\n",
       "      <td>1.240837</td>\n",
       "      <td>1.179931</td>\n",
       "      <td>1.095950</td>\n",
       "      <td>...</td>\n",
       "      <td>0.768462</td>\n",
       "      <td>0.722405</td>\n",
       "      <td>0.724749</td>\n",
       "      <td>0.628932</td>\n",
       "      <td>0.604963</td>\n",
       "      <td>0.521937</td>\n",
       "      <td>0.483391</td>\n",
       "      <td>0.396996</td>\n",
       "      <td>0.327816</td>\n",
       "      <td>252.411543</td>\n",
       "    </tr>\n",
       "    <tr>\n",
       "      <th>min</th>\n",
       "      <td>0.000000</td>\n",
       "      <td>-56.407510</td>\n",
       "      <td>-72.715728</td>\n",
       "      <td>-48.325589</td>\n",
       "      <td>-5.683171</td>\n",
       "      <td>-113.743307</td>\n",
       "      <td>-26.160506</td>\n",
       "      <td>-43.557242</td>\n",
       "      <td>-73.216718</td>\n",
       "      <td>-13.434066</td>\n",
       "      <td>...</td>\n",
       "      <td>-54.497720</td>\n",
       "      <td>-34.830382</td>\n",
       "      <td>-10.933144</td>\n",
       "      <td>-44.807735</td>\n",
       "      <td>-2.836627</td>\n",
       "      <td>-10.295397</td>\n",
       "      <td>-2.604551</td>\n",
       "      <td>-22.565679</td>\n",
       "      <td>-15.430084</td>\n",
       "      <td>0.000000</td>\n",
       "    </tr>\n",
       "    <tr>\n",
       "      <th>25%</th>\n",
       "      <td>54168.000000</td>\n",
       "      <td>-0.917838</td>\n",
       "      <td>-0.599484</td>\n",
       "      <td>-0.889918</td>\n",
       "      <td>-0.849764</td>\n",
       "      <td>-0.688236</td>\n",
       "      <td>-0.769480</td>\n",
       "      <td>-0.551961</td>\n",
       "      <td>-0.208703</td>\n",
       "      <td>-0.644291</td>\n",
       "      <td>...</td>\n",
       "      <td>-0.211497</td>\n",
       "      <td>-0.228571</td>\n",
       "      <td>-0.543165</td>\n",
       "      <td>-0.161774</td>\n",
       "      <td>-0.353833</td>\n",
       "      <td>-0.317411</td>\n",
       "      <td>-0.327384</td>\n",
       "      <td>-0.070644</td>\n",
       "      <td>-0.052843</td>\n",
       "      <td>5.600000</td>\n",
       "    </tr>\n",
       "    <tr>\n",
       "      <th>50%</th>\n",
       "      <td>84659.500000</td>\n",
       "      <td>0.020075</td>\n",
       "      <td>0.064758</td>\n",
       "      <td>0.181658</td>\n",
       "      <td>-0.022311</td>\n",
       "      <td>-0.052946</td>\n",
       "      <td>-0.276387</td>\n",
       "      <td>0.039933</td>\n",
       "      <td>0.022225</td>\n",
       "      <td>-0.052643</td>\n",
       "      <td>...</td>\n",
       "      <td>-0.062343</td>\n",
       "      <td>-0.029433</td>\n",
       "      <td>0.005883</td>\n",
       "      <td>-0.011224</td>\n",
       "      <td>0.040876</td>\n",
       "      <td>0.018097</td>\n",
       "      <td>-0.051652</td>\n",
       "      <td>0.001416</td>\n",
       "      <td>0.011282</td>\n",
       "      <td>22.000000</td>\n",
       "    </tr>\n",
       "    <tr>\n",
       "      <th>75%</th>\n",
       "      <td>139280.250000</td>\n",
       "      <td>1.315499</td>\n",
       "      <td>0.800914</td>\n",
       "      <td>1.025809</td>\n",
       "      <td>0.741202</td>\n",
       "      <td>0.615075</td>\n",
       "      <td>0.395555</td>\n",
       "      <td>0.570292</td>\n",
       "      <td>0.326579</td>\n",
       "      <td>0.595683</td>\n",
       "      <td>...</td>\n",
       "      <td>0.133300</td>\n",
       "      <td>0.185553</td>\n",
       "      <td>0.526754</td>\n",
       "      <td>0.147413</td>\n",
       "      <td>0.438874</td>\n",
       "      <td>0.351714</td>\n",
       "      <td>0.241420</td>\n",
       "      <td>0.091126</td>\n",
       "      <td>0.078354</td>\n",
       "      <td>77.340000</td>\n",
       "    </tr>\n",
       "    <tr>\n",
       "      <th>max</th>\n",
       "      <td>172792.000000</td>\n",
       "      <td>2.454930</td>\n",
       "      <td>22.057729</td>\n",
       "      <td>9.382558</td>\n",
       "      <td>16.875344</td>\n",
       "      <td>34.801666</td>\n",
       "      <td>73.301626</td>\n",
       "      <td>120.589494</td>\n",
       "      <td>19.587773</td>\n",
       "      <td>15.594995</td>\n",
       "      <td>...</td>\n",
       "      <td>39.420904</td>\n",
       "      <td>22.614889</td>\n",
       "      <td>10.503090</td>\n",
       "      <td>22.528412</td>\n",
       "      <td>4.584549</td>\n",
       "      <td>7.519589</td>\n",
       "      <td>3.517346</td>\n",
       "      <td>31.612198</td>\n",
       "      <td>33.847808</td>\n",
       "      <td>25691.160000</td>\n",
       "    </tr>\n",
       "  </tbody>\n",
       "</table>\n",
       "<p>8 rows × 30 columns</p>\n",
       "</div>"
      ],
      "text/plain": [
       "                Time             V1             V2             V3  \\\n",
       "count  226980.000000  226980.000000  226980.000000  226980.000000   \n",
       "mean    94784.824844       0.004318      -0.002854       0.001375   \n",
       "std     47495.137144       1.948313       1.649149       1.512782   \n",
       "min         0.000000     -56.407510     -72.715728     -48.325589   \n",
       "25%     54168.000000      -0.917838      -0.599484      -0.889918   \n",
       "50%     84659.500000       0.020075       0.064758       0.181658   \n",
       "75%    139280.250000       1.315499       0.800914       1.025809   \n",
       "max    172792.000000       2.454930      22.057729       9.382558   \n",
       "\n",
       "                  V4             V5             V6             V7  \\\n",
       "count  226980.000000  226980.000000  226980.000000  226980.000000   \n",
       "mean       -0.002222       0.002471      -0.001759       0.001506   \n",
       "std         1.415649       1.388556       1.335118       1.240837   \n",
       "min        -5.683171    -113.743307     -26.160506     -43.557242   \n",
       "25%        -0.849764      -0.688236      -0.769480      -0.551961   \n",
       "50%        -0.022311      -0.052946      -0.276387       0.039933   \n",
       "75%         0.741202       0.615075       0.395555       0.570292   \n",
       "max        16.875344      34.801666      73.301626     120.589494   \n",
       "\n",
       "                  V8             V9  ...            V20            V21  \\\n",
       "count  226980.000000  226980.000000  ...  226980.000000  226980.000000   \n",
       "mean        0.000444      -0.001922  ...       0.000378      -0.000333   \n",
       "std         1.179931       1.095950  ...       0.768462       0.722405   \n",
       "min       -73.216718     -13.434066  ...     -54.497720     -34.830382   \n",
       "25%        -0.208703      -0.644291  ...      -0.211497      -0.228571   \n",
       "50%         0.022225      -0.052643  ...      -0.062343      -0.029433   \n",
       "75%         0.326579       0.595683  ...       0.133300       0.185553   \n",
       "max        19.587773      15.594995  ...      39.420904      22.614889   \n",
       "\n",
       "                 V22            V23            V24            V25  \\\n",
       "count  226980.000000  226980.000000  226980.000000  226980.000000   \n",
       "mean       -0.001297       0.000156       0.000080       0.000601   \n",
       "std         0.724749       0.628932       0.604963       0.521937   \n",
       "min       -10.933144     -44.807735      -2.836627     -10.295397   \n",
       "25%        -0.543165      -0.161774      -0.353833      -0.317411   \n",
       "50%         0.005883      -0.011224       0.040876       0.018097   \n",
       "75%         0.526754       0.147413       0.438874       0.351714   \n",
       "max        10.503090      22.528412       4.584549       7.519589   \n",
       "\n",
       "                 V26            V27            V28         Amount  \n",
       "count  226980.000000  226980.000000  226980.000000  226980.000000  \n",
       "mean        0.000566       0.001978       0.000719      88.504929  \n",
       "std         0.483391       0.396996       0.327816     252.411543  \n",
       "min        -2.604551     -22.565679     -15.430084       0.000000  \n",
       "25%        -0.327384      -0.070644      -0.052843       5.600000  \n",
       "50%        -0.051652       0.001416       0.011282      22.000000  \n",
       "75%         0.241420       0.091126       0.078354      77.340000  \n",
       "max         3.517346      31.612198      33.847808   25691.160000  \n",
       "\n",
       "[8 rows x 30 columns]"
      ]
     },
     "execution_count": 10,
     "metadata": {},
     "output_type": "execute_result"
    }
   ],
   "source": [
    "X_train.describe()"
   ]
  },
  {
   "cell_type": "code",
   "execution_count": 11,
   "id": "fde134df",
   "metadata": {},
   "outputs": [
    {
     "data": {
      "text/html": [
       "<div>\n",
       "<style scoped>\n",
       "    .dataframe tbody tr th:only-of-type {\n",
       "        vertical-align: middle;\n",
       "    }\n",
       "\n",
       "    .dataframe tbody tr th {\n",
       "        vertical-align: top;\n",
       "    }\n",
       "\n",
       "    .dataframe thead th {\n",
       "        text-align: right;\n",
       "    }\n",
       "</style>\n",
       "<table border=\"1\" class=\"dataframe\">\n",
       "  <thead>\n",
       "    <tr style=\"text-align: right;\">\n",
       "      <th></th>\n",
       "      <th>Time</th>\n",
       "      <th>V1</th>\n",
       "      <th>V2</th>\n",
       "      <th>V3</th>\n",
       "      <th>V4</th>\n",
       "      <th>V5</th>\n",
       "      <th>V6</th>\n",
       "      <th>V7</th>\n",
       "      <th>V8</th>\n",
       "      <th>V9</th>\n",
       "      <th>...</th>\n",
       "      <th>V20</th>\n",
       "      <th>V21</th>\n",
       "      <th>V22</th>\n",
       "      <th>V23</th>\n",
       "      <th>V24</th>\n",
       "      <th>V25</th>\n",
       "      <th>V26</th>\n",
       "      <th>V27</th>\n",
       "      <th>V28</th>\n",
       "      <th>Amount</th>\n",
       "    </tr>\n",
       "  </thead>\n",
       "  <tbody>\n",
       "    <tr>\n",
       "      <th>count</th>\n",
       "      <td>56746.000000</td>\n",
       "      <td>56746.000000</td>\n",
       "      <td>56746.000000</td>\n",
       "      <td>56746.000000</td>\n",
       "      <td>56746.000000</td>\n",
       "      <td>56746.000000</td>\n",
       "      <td>56746.000000</td>\n",
       "      <td>56746.000000</td>\n",
       "      <td>56746.000000</td>\n",
       "      <td>56746.000000</td>\n",
       "      <td>...</td>\n",
       "      <td>56746.000000</td>\n",
       "      <td>56746.000000</td>\n",
       "      <td>56746.000000</td>\n",
       "      <td>56746.000000</td>\n",
       "      <td>56746.000000</td>\n",
       "      <td>56746.000000</td>\n",
       "      <td>56746.000000</td>\n",
       "      <td>56746.000000</td>\n",
       "      <td>56746.000000</td>\n",
       "      <td>56746.000000</td>\n",
       "    </tr>\n",
       "    <tr>\n",
       "      <th>mean</th>\n",
       "      <td>94916.086773</td>\n",
       "      <td>0.012313</td>\n",
       "      <td>-0.009258</td>\n",
       "      <td>0.002564</td>\n",
       "      <td>-0.005944</td>\n",
       "      <td>-0.000746</td>\n",
       "      <td>0.001340</td>\n",
       "      <td>0.002981</td>\n",
       "      <td>-0.006047</td>\n",
       "      <td>-0.000293</td>\n",
       "      <td>...</td>\n",
       "      <td>-0.000577</td>\n",
       "      <td>-0.000520</td>\n",
       "      <td>0.005114</td>\n",
       "      <td>0.000367</td>\n",
       "      <td>0.000750</td>\n",
       "      <td>-0.003564</td>\n",
       "      <td>-0.001515</td>\n",
       "      <td>0.000903</td>\n",
       "      <td>-0.000139</td>\n",
       "      <td>88.343723</td>\n",
       "    </tr>\n",
       "    <tr>\n",
       "      <th>std</th>\n",
       "      <td>47424.922811</td>\n",
       "      <td>1.946881</td>\n",
       "      <td>1.636887</td>\n",
       "      <td>1.492180</td>\n",
       "      <td>1.408316</td>\n",
       "      <td>1.329826</td>\n",
       "      <td>1.319112</td>\n",
       "      <td>1.173503</td>\n",
       "      <td>1.175538</td>\n",
       "      <td>1.093670</td>\n",
       "      <td>...</td>\n",
       "      <td>0.776050</td>\n",
       "      <td>0.729903</td>\n",
       "      <td>0.723738</td>\n",
       "      <td>0.602336</td>\n",
       "      <td>0.608279</td>\n",
       "      <td>0.518334</td>\n",
       "      <td>0.476665</td>\n",
       "      <td>0.390699</td>\n",
       "      <td>0.328870</td>\n",
       "      <td>242.186176</td>\n",
       "    </tr>\n",
       "    <tr>\n",
       "      <th>min</th>\n",
       "      <td>4.000000</td>\n",
       "      <td>-40.470142</td>\n",
       "      <td>-42.172688</td>\n",
       "      <td>-31.103685</td>\n",
       "      <td>-5.600607</td>\n",
       "      <td>-25.791132</td>\n",
       "      <td>-20.367836</td>\n",
       "      <td>-21.922811</td>\n",
       "      <td>-50.420090</td>\n",
       "      <td>-6.912076</td>\n",
       "      <td>...</td>\n",
       "      <td>-21.387122</td>\n",
       "      <td>-22.889347</td>\n",
       "      <td>-8.887017</td>\n",
       "      <td>-22.575000</td>\n",
       "      <td>-2.822684</td>\n",
       "      <td>-4.781606</td>\n",
       "      <td>-1.773575</td>\n",
       "      <td>-8.839766</td>\n",
       "      <td>-8.464609</td>\n",
       "      <td>0.000000</td>\n",
       "    </tr>\n",
       "    <tr>\n",
       "      <th>25%</th>\n",
       "      <td>54320.250000</td>\n",
       "      <td>-0.908962</td>\n",
       "      <td>-0.603852</td>\n",
       "      <td>-0.887955</td>\n",
       "      <td>-0.851132</td>\n",
       "      <td>-0.696158</td>\n",
       "      <td>-0.767616</td>\n",
       "      <td>-0.554126</td>\n",
       "      <td>-0.209278</td>\n",
       "      <td>-0.643979</td>\n",
       "      <td>...</td>\n",
       "      <td>-0.211339</td>\n",
       "      <td>-0.227043</td>\n",
       "      <td>-0.540690</td>\n",
       "      <td>-0.161326</td>\n",
       "      <td>-0.356714</td>\n",
       "      <td>-0.317702</td>\n",
       "      <td>-0.324430</td>\n",
       "      <td>-0.070592</td>\n",
       "      <td>-0.052743</td>\n",
       "      <td>5.630000</td>\n",
       "    </tr>\n",
       "    <tr>\n",
       "      <th>50%</th>\n",
       "      <td>84856.000000</td>\n",
       "      <td>0.021525</td>\n",
       "      <td>0.059928</td>\n",
       "      <td>0.173975</td>\n",
       "      <td>-0.021964</td>\n",
       "      <td>-0.056065</td>\n",
       "      <td>-0.270871</td>\n",
       "      <td>0.043727</td>\n",
       "      <td>0.020641</td>\n",
       "      <td>-0.051905</td>\n",
       "      <td>...</td>\n",
       "      <td>-0.062393</td>\n",
       "      <td>-0.029527</td>\n",
       "      <td>0.009561</td>\n",
       "      <td>-0.010851</td>\n",
       "      <td>0.041461</td>\n",
       "      <td>0.009981</td>\n",
       "      <td>-0.054103</td>\n",
       "      <td>0.001778</td>\n",
       "      <td>0.011314</td>\n",
       "      <td>22.000000</td>\n",
       "    </tr>\n",
       "    <tr>\n",
       "      <th>75%</th>\n",
       "      <td>139383.000000</td>\n",
       "      <td>1.318048</td>\n",
       "      <td>0.796954</td>\n",
       "      <td>1.031859</td>\n",
       "      <td>0.733680</td>\n",
       "      <td>0.601452</td>\n",
       "      <td>0.399627</td>\n",
       "      <td>0.571267</td>\n",
       "      <td>0.322375</td>\n",
       "      <td>0.596890</td>\n",
       "      <td>...</td>\n",
       "      <td>0.133028</td>\n",
       "      <td>0.188953</td>\n",
       "      <td>0.534261</td>\n",
       "      <td>0.149069</td>\n",
       "      <td>0.443143</td>\n",
       "      <td>0.346665</td>\n",
       "      <td>0.235793</td>\n",
       "      <td>0.091456</td>\n",
       "      <td>0.077813</td>\n",
       "      <td>78.000000</td>\n",
       "    </tr>\n",
       "    <tr>\n",
       "      <th>max</th>\n",
       "      <td>172782.000000</td>\n",
       "      <td>2.430507</td>\n",
       "      <td>16.713389</td>\n",
       "      <td>4.040465</td>\n",
       "      <td>13.143668</td>\n",
       "      <td>29.162172</td>\n",
       "      <td>16.493227</td>\n",
       "      <td>25.235195</td>\n",
       "      <td>20.007208</td>\n",
       "      <td>9.234623</td>\n",
       "      <td>...</td>\n",
       "      <td>26.237391</td>\n",
       "      <td>27.202839</td>\n",
       "      <td>7.248763</td>\n",
       "      <td>18.364472</td>\n",
       "      <td>4.022866</td>\n",
       "      <td>5.473885</td>\n",
       "      <td>3.067907</td>\n",
       "      <td>9.200883</td>\n",
       "      <td>16.129609</td>\n",
       "      <td>12910.930000</td>\n",
       "    </tr>\n",
       "  </tbody>\n",
       "</table>\n",
       "<p>8 rows × 30 columns</p>\n",
       "</div>"
      ],
      "text/plain": [
       "                Time            V1            V2            V3            V4  \\\n",
       "count   56746.000000  56746.000000  56746.000000  56746.000000  56746.000000   \n",
       "mean    94916.086773      0.012313     -0.009258      0.002564     -0.005944   \n",
       "std     47424.922811      1.946881      1.636887      1.492180      1.408316   \n",
       "min         4.000000    -40.470142    -42.172688    -31.103685     -5.600607   \n",
       "25%     54320.250000     -0.908962     -0.603852     -0.887955     -0.851132   \n",
       "50%     84856.000000      0.021525      0.059928      0.173975     -0.021964   \n",
       "75%    139383.000000      1.318048      0.796954      1.031859      0.733680   \n",
       "max    172782.000000      2.430507     16.713389      4.040465     13.143668   \n",
       "\n",
       "                 V5            V6            V7            V8            V9  \\\n",
       "count  56746.000000  56746.000000  56746.000000  56746.000000  56746.000000   \n",
       "mean      -0.000746      0.001340      0.002981     -0.006047     -0.000293   \n",
       "std        1.329826      1.319112      1.173503      1.175538      1.093670   \n",
       "min      -25.791132    -20.367836    -21.922811    -50.420090     -6.912076   \n",
       "25%       -0.696158     -0.767616     -0.554126     -0.209278     -0.643979   \n",
       "50%       -0.056065     -0.270871      0.043727      0.020641     -0.051905   \n",
       "75%        0.601452      0.399627      0.571267      0.322375      0.596890   \n",
       "max       29.162172     16.493227     25.235195     20.007208      9.234623   \n",
       "\n",
       "       ...           V20           V21           V22           V23  \\\n",
       "count  ...  56746.000000  56746.000000  56746.000000  56746.000000   \n",
       "mean   ...     -0.000577     -0.000520      0.005114      0.000367   \n",
       "std    ...      0.776050      0.729903      0.723738      0.602336   \n",
       "min    ...    -21.387122    -22.889347     -8.887017    -22.575000   \n",
       "25%    ...     -0.211339     -0.227043     -0.540690     -0.161326   \n",
       "50%    ...     -0.062393     -0.029527      0.009561     -0.010851   \n",
       "75%    ...      0.133028      0.188953      0.534261      0.149069   \n",
       "max    ...     26.237391     27.202839      7.248763     18.364472   \n",
       "\n",
       "                V24           V25           V26           V27           V28  \\\n",
       "count  56746.000000  56746.000000  56746.000000  56746.000000  56746.000000   \n",
       "mean       0.000750     -0.003564     -0.001515      0.000903     -0.000139   \n",
       "std        0.608279      0.518334      0.476665      0.390699      0.328870   \n",
       "min       -2.822684     -4.781606     -1.773575     -8.839766     -8.464609   \n",
       "25%       -0.356714     -0.317702     -0.324430     -0.070592     -0.052743   \n",
       "50%        0.041461      0.009981     -0.054103      0.001778      0.011314   \n",
       "75%        0.443143      0.346665      0.235793      0.091456      0.077813   \n",
       "max        4.022866      5.473885      3.067907      9.200883     16.129609   \n",
       "\n",
       "             Amount  \n",
       "count  56746.000000  \n",
       "mean      88.343723  \n",
       "std      242.186176  \n",
       "min        0.000000  \n",
       "25%        5.630000  \n",
       "50%       22.000000  \n",
       "75%       78.000000  \n",
       "max    12910.930000  \n",
       "\n",
       "[8 rows x 30 columns]"
      ]
     },
     "execution_count": 11,
     "metadata": {},
     "output_type": "execute_result"
    }
   ],
   "source": [
    "X_test.describe()"
   ]
  },
  {
   "cell_type": "code",
   "execution_count": 12,
   "id": "069af68f",
   "metadata": {},
   "outputs": [
    {
     "data": {
      "text/plain": [
       "count    226980.000000\n",
       "mean          0.001687\n",
       "std           0.041043\n",
       "min           0.000000\n",
       "25%           0.000000\n",
       "50%           0.000000\n",
       "75%           0.000000\n",
       "max           1.000000\n",
       "Name: Class, dtype: float64"
      ]
     },
     "execution_count": 12,
     "metadata": {},
     "output_type": "execute_result"
    }
   ],
   "source": [
    "y_train.describe()"
   ]
  },
  {
   "cell_type": "code",
   "execution_count": 13,
   "id": "77b972e3",
   "metadata": {},
   "outputs": [
    {
     "data": {
      "text/plain": [
       "count    56746.000000\n",
       "mean         0.001586\n",
       "std          0.039794\n",
       "min          0.000000\n",
       "25%          0.000000\n",
       "50%          0.000000\n",
       "75%          0.000000\n",
       "max          1.000000\n",
       "Name: Class, dtype: float64"
      ]
     },
     "execution_count": 13,
     "metadata": {},
     "output_type": "execute_result"
    }
   ],
   "source": [
    "y_test.describe()"
   ]
  },
  {
   "cell_type": "markdown",
   "id": "d8673589",
   "metadata": {},
   "source": [
    "В целом, параметры для генеральной и тестовой выборок похожи."
   ]
  },
  {
   "cell_type": "markdown",
   "id": "703af65d",
   "metadata": {},
   "source": [
    "## 2 Методы классификации \n",
    "\n",
    "\n",
    "### 2.1 Применение метода - дерево решений"
   ]
  },
  {
   "cell_type": "code",
   "execution_count": 14,
   "id": "9a87f6ff",
   "metadata": {},
   "outputs": [
    {
     "name": "stdout",
     "output_type": "stream",
     "text": [
      "[[56625    31]\n",
      " [   25    65]]\n",
      "              precision    recall  f1-score   support\n",
      "\n",
      "           0       1.00      1.00      1.00     56656\n",
      "           1       0.68      0.72      0.70        90\n",
      "\n",
      "    accuracy                           1.00     56746\n",
      "   macro avg       0.84      0.86      0.85     56746\n",
      "weighted avg       1.00      1.00      1.00     56746\n",
      "\n"
     ]
    }
   ],
   "source": [
    "from sklearn.tree import DecisionTreeClassifier\n",
    "from sklearn.metrics import classification_report, confusion_matrix\n",
    "\n",
    "classifier_DTC = DecisionTreeClassifier()\n",
    "classifier_DTC.fit(X_train, y_train)\n",
    "\n",
    "y_pred_DTC=classifier_DTC.predict(X_test)\n",
    "\n",
    "\n",
    "print(confusion_matrix(y_test, y_pred_DTC))\n",
    "print(classification_report(y_test, y_pred_DTC))\n",
    "\n"
   ]
  },
  {
   "cell_type": "code",
   "execution_count": 15,
   "id": "babb0603",
   "metadata": {},
   "outputs": [
    {
     "data": {
      "text/plain": [
       "<AxesSubplot:>"
      ]
     },
     "execution_count": 15,
     "metadata": {},
     "output_type": "execute_result"
    },
    {
     "data": {
      "image/png": "[encoded data removed]",
      "text/plain": [
       "<Figure size 432x288 with 2 Axes>"
      ]
     },
     "metadata": {
      "needs_background": "light"
     },
     "output_type": "display_data"
    }
   ],
   "source": [
    "classes_names = ['Обычные','Мошенники']\n",
    "cm = pd.DataFrame(confusion_matrix(y_test, y_pred_DTC), \n",
    "                  columns=classes_names, index = classes_names)\n",
    "                  \n",
    "sns.heatmap(cm, annot=True, fmt='d')"
   ]
  },
  {
   "cell_type": "markdown",
   "id": "da2f0625",
   "metadata": {},
   "source": [
    "### 2.2 KNN-метод ближайших соседей"
   ]
  },
  {
   "cell_type": "code",
   "execution_count": 16,
   "id": "d90ccdd5",
   "metadata": {},
   "outputs": [
    {
     "name": "stdout",
     "output_type": "stream",
     "text": [
      "[[56656     0]\n",
      " [   84     6]]\n",
      "              precision    recall  f1-score   support\n",
      "\n",
      "           0       1.00      1.00      1.00     56656\n",
      "           1       1.00      0.07      0.12        90\n",
      "\n",
      "    accuracy                           1.00     56746\n",
      "   macro avg       1.00      0.53      0.56     56746\n",
      "weighted avg       1.00      1.00      1.00     56746\n",
      "\n"
     ]
    }
   ],
   "source": [
    "from sklearn.neighbors import KNeighborsClassifier\n",
    "\n",
    "classifier_KNN= KNeighborsClassifier(n_neighbors=3)\n",
    "classifier_KNN.fit(X_train, y_train)\n",
    "\n",
    "y_pred_KNN=classifier_KNN.predict(X_test)\n",
    "\n",
    "print(confusion_matrix(y_test, y_pred_KNN))\n",
    "print(classification_report(y_test, y_pred_KNN))"
   ]
  },
  {
   "cell_type": "code",
   "execution_count": 17,
   "id": "d743fd6a",
   "metadata": {},
   "outputs": [
    {
     "data": {
      "text/plain": [
       "<AxesSubplot:>"
      ]
     },
     "execution_count": 17,
     "metadata": {},
     "output_type": "execute_result"
    },
    {
     "data": {
      "image/png": "[encoded data removed]",
      "text/plain": [
       "<Figure size 432x288 with 2 Axes>"
      ]
     },
     "metadata": {
      "needs_background": "light"
     },
     "output_type": "display_data"
    }
   ],
   "source": [
    "classes_names = ['Обычные','Мошенники']\n",
    "cm = pd.DataFrame(confusion_matrix(y_test, y_pred_KNN), \n",
    "                  columns=classes_names, index = classes_names)\n",
    "                  \n",
    "sns.heatmap(cm, annot=True, fmt='d')"
   ]
  },
  {
   "cell_type": "markdown",
   "id": "6d98499a",
   "metadata": {},
   "source": [
    "### 2.3 SVM- метод опорных векторов"
   ]
  },
  {
   "cell_type": "code",
   "execution_count": 18,
   "id": "e22f0d72",
   "metadata": {},
   "outputs": [
    {
     "name": "stdout",
     "output_type": "stream",
     "text": [
      "[[56641    15]\n",
      " [   70    20]]\n",
      "              precision    recall  f1-score   support\n",
      "\n",
      "           0       1.00      1.00      1.00     56656\n",
      "           1       0.57      0.22      0.32        90\n",
      "\n",
      "    accuracy                           1.00     56746\n",
      "   macro avg       0.79      0.61      0.66     56746\n",
      "weighted avg       1.00      1.00      1.00     56746\n",
      "\n"
     ]
    }
   ],
   "source": [
    "from sklearn import svm\n",
    "\n",
    "C=1\n",
    "classifier_SVM=svm.SVC(kernel='linear',C=C).fit(X_train,y_train)\n",
    "\n",
    "y_pred_SVM=classifier_SVM.predict(X_test)\n",
    "\n",
    "print(confusion_matrix(y_test, y_pred_SVM))\n",
    "print(classification_report(y_test, y_pred_SVM))"
   ]
  },
  {
   "cell_type": "code",
   "execution_count": 19,
   "id": "c2bdf2ef",
   "metadata": {},
   "outputs": [
    {
     "data": {
      "text/plain": [
       "<AxesSubplot:>"
      ]
     },
     "execution_count": 19,
     "metadata": {},
     "output_type": "execute_result"
    },
    {
     "data": {
      "image/png": "[encoded data removed]",
      "text/plain": [
       "<Figure size 432x288 with 2 Axes>"
      ]
     },
     "metadata": {
      "needs_background": "light"
     },
     "output_type": "display_data"
    }
   ],
   "source": [
    "classes_names = ['Обычные','Мошенники']\n",
    "cm = pd.DataFrame(confusion_matrix(y_test, y_pred_SVM), \n",
    "                  columns=classes_names, index = classes_names)\n",
    "                  \n",
    "sns.heatmap(cm, annot=True, fmt='d')"
   ]
  },
  {
   "cell_type": "markdown",
   "id": "2575ac42",
   "metadata": {},
   "source": [
    "По итогу исследований на несбалансированных данных можно сказать, что лучший результат был достигнут Методом Деревьев: 66 правильно определенных мошеннических транзакций."
   ]
  },
  {
   "cell_type": "markdown",
   "id": "417fb3d9",
   "metadata": {},
   "source": [
    "# Работа со сбалансированными данными\n",
    "\n",
    "## 1. Балансировка\n",
    "\n",
    "### 1.1 Random Oversampling"
   ]
  },
  {
   "cell_type": "code",
   "execution_count": 18,
   "id": "c8b75716",
   "metadata": {},
   "outputs": [
    {
     "name": "stdout",
     "output_type": "stream",
     "text": [
      "Обычные транзакции: 50.00%\n",
      "Мошеннические транзакции: 50.00%\n",
      "\n",
      "Число обычных: 226597\n",
      "Число мошеннических: 226597\n"
     ]
    }
   ],
   "source": [
    "from imblearn.over_sampling import RandomOverSampler\n",
    "\n",
    "ros=RandomOverSampler(random_state=42)\n",
    "X_over, y_over = ros.fit_resample(X_train, y_train)\n",
    "\n",
    "zeros_count = (y_over == 0).sum()\n",
    "ones_count = (y_over == 1).sum()\n",
    "total_count = len(y_over)\n",
    "\n",
    "zeros_percentage = (zeros_count / total_count) * 100\n",
    "ones_percentage = (ones_count / total_count) * 100\n",
    "\n",
    "print(f\"Обычные транзакции: {zeros_percentage:.2f}%\")\n",
    "print(f\"Мошеннические транзакции: {ones_percentage:.2f}%\\n\")\n",
    "print(\"Число обычных:\", zeros_count)\n",
    "print(\"Число мошеннических:\", ones_count)\n",
    "\n"
   ]
  },
  {
   "cell_type": "markdown",
   "id": "a503fd65",
   "metadata": {},
   "source": [
    "### Сразу применим методы классификации\n"
   ]
  },
  {
   "cell_type": "code",
   "execution_count": 19,
   "id": "644b1798",
   "metadata": {},
   "outputs": [],
   "source": [
    "X=X_over\n",
    "y=y_over\n",
    "\n",
    "X_train_over, X_test_over, y_train_over, y_test_over = train_test_split(X, y, test_size=0.2, random_state=42)"
   ]
  },
  {
   "cell_type": "markdown",
   "id": "6291bfb3",
   "metadata": {},
   "source": [
    "- ###  Метод деревьев"
   ]
  },
  {
   "cell_type": "code",
   "execution_count": 20,
   "id": "360828a2",
   "metadata": {},
   "outputs": [
    {
     "name": "stdout",
     "output_type": "stream",
     "text": [
      "[[45208    28]\n",
      " [    0 45403]]\n",
      "              precision    recall  f1-score   support\n",
      "\n",
      "           0       1.00      1.00      1.00     45236\n",
      "           1       1.00      1.00      1.00     45403\n",
      "\n",
      "    accuracy                           1.00     90639\n",
      "   macro avg       1.00      1.00      1.00     90639\n",
      "weighted avg       1.00      1.00      1.00     90639\n",
      "\n"
     ]
    }
   ],
   "source": [
    "classifier_DTC_over = DecisionTreeClassifier()\n",
    "classifier_DTC_over.fit(X_train_over, y_train_over)\n",
    "\n",
    "y_pred_DTC_over=classifier_DTC_over.predict(X_test_over)\n",
    "\n",
    "\n",
    "print(confusion_matrix(y_test_over, y_pred_DTC_over))\n",
    "print(classification_report(y_test_over, y_pred_DTC_over))\n"
   ]
  },
  {
   "cell_type": "code",
   "execution_count": 21,
   "id": "e4fdfa5f",
   "metadata": {},
   "outputs": [
    {
     "data": {
      "text/plain": [
       "<AxesSubplot:>"
      ]
     },
     "execution_count": 21,
     "metadata": {},
     "output_type": "execute_result"
    },
    {
     "data": {
      "image/png": "[encoded data removed]",
      "text/plain": [
       "<Figure size 432x288 with 2 Axes>"
      ]
     },
     "metadata": {
      "needs_background": "light"
     },
     "output_type": "display_data"
    }
   ],
   "source": [
    "classes_names = ['Обычные','Мошенники']\n",
    "cm = pd.DataFrame(confusion_matrix(y_test_over, y_pred_DTC_over), \n",
    "                  columns=classes_names, index = classes_names)\n",
    "                  \n",
    "sns.heatmap(cm, annot=True, fmt='d')"
   ]
  },
  {
   "cell_type": "markdown",
   "id": "5a454e45",
   "metadata": {},
   "source": [
    "- ### Метод KNN"
   ]
  },
  {
   "cell_type": "code",
   "execution_count": 24,
   "id": "77cf2030",
   "metadata": {},
   "outputs": [
    {
     "name": "stdout",
     "output_type": "stream",
     "text": [
      "[[45165    71]\n",
      " [    0 45403]]\n",
      "              precision    recall  f1-score   support\n",
      "\n",
      "           0       1.00      1.00      1.00     45236\n",
      "           1       1.00      1.00      1.00     45403\n",
      "\n",
      "    accuracy                           1.00     90639\n",
      "   macro avg       1.00      1.00      1.00     90639\n",
      "weighted avg       1.00      1.00      1.00     90639\n",
      "\n"
     ]
    }
   ],
   "source": [
    "classifier_KNN_over = KNeighborsClassifier(n_neighbors=3)\n",
    "classifier_KNN_over.fit(X_train_over, y_train_over)\n",
    "\n",
    "y_pred_KNN_over=classifier_KNN_over.predict(X_test_over)\n",
    "\n",
    "\n",
    "print(confusion_matrix(y_test_over, y_pred_KNN_over))\n",
    "print(classification_report(y_test_over, y_pred_KNN_over))\n"
   ]
  },
  {
   "cell_type": "code",
   "execution_count": 25,
   "id": "cfb0f36b",
   "metadata": {},
   "outputs": [
    {
     "data": {
      "text/plain": [
       "<AxesSubplot:>"
      ]
     },
     "execution_count": 25,
     "metadata": {},
     "output_type": "execute_result"
    },
    {
     "data": {
      "image/png": "[encoded data removed]",
      "text/plain": [
       "<Figure size 432x288 with 2 Axes>"
      ]
     },
     "metadata": {
      "needs_background": "light"
     },
     "output_type": "display_data"
    }
   ],
   "source": [
    "classes_names = ['Обычные','Мошенники']\n",
    "cm = pd.DataFrame(confusion_matrix(y_test_over, y_pred_KNN_over), \n",
    "                  columns=classes_names, index = classes_names)\n",
    "                  \n",
    "sns.heatmap(cm, annot=True, fmt='d')"
   ]
  },
  {
   "cell_type": "markdown",
   "id": "81ca1a8e",
   "metadata": {},
   "source": [
    "- ### Метод SVM"
   ]
  },
  {
   "cell_type": "code",
   "execution_count": null,
   "id": "15eb5657",
   "metadata": {},
   "outputs": [],
   "source": [
    "# C=1\n",
    "# classifier_SVM_=svm.SVC(kernel='linear',C=C).fit(X_train_over,y_train_over)\n",
    "\n",
    "# y_pred_SVM_over=classifier_SVM.predict(X_test_over)\n",
    "\n",
    "# print(confusion_matrix(y_test_over, y_pred_SVM_over))\n",
    "# print(classification_report(y_test_over, y_pred_SVM_over))"
   ]
  },
  {
   "cell_type": "code",
   "execution_count": null,
   "id": "73f235b4",
   "metadata": {},
   "outputs": [],
   "source": [
    "# classes_names = ['Обычные','Мошенники']\n",
    "# cm = pd.DataFrame(confusion_matrix(y_test_over, y_pred_SVM_over), \n",
    "#                   columns=classes_names, index = classes_names)\n",
    "                  \n",
    "# sns.heatmap(cm, annot=True, fmt='d')"
   ]
  },
  {
   "cell_type": "markdown",
   "id": "b08cf481",
   "metadata": {},
   "source": [
    "Ну что тут сказать. При over-сэмплинге появляется огромное количество данных для обработки, а этот метод и так не быстрый. В общем за час с лишним он так и не посчитался. Я его на ночь оставлю и, если что добавлю прогруженный вариант на гит."
   ]
  },
  {
   "cell_type": "markdown",
   "id": "1c964f62",
   "metadata": {},
   "source": [
    "### 1.2 Random Undersampling"
   ]
  },
  {
   "cell_type": "code",
   "execution_count": 22,
   "id": "4b9d4edd",
   "metadata": {},
   "outputs": [
    {
     "name": "stdout",
     "output_type": "stream",
     "text": [
      "Обычные транзакции: 50.00%\n",
      "Мошеннические транзакции: 50.00%\n",
      "\n",
      "Число обычных: 383\n",
      "Число мошеннических: 383\n"
     ]
    }
   ],
   "source": [
    "from imblearn.under_sampling import RandomUnderSampler\n",
    "\n",
    "rus = RandomUnderSampler(sampling_strategy='auto')\n",
    "X_under, y_under = rus.fit_resample(X_train, y_train)\n",
    "\n",
    "zeros_count = (y_under == 0).sum()\n",
    "ones_count = (y_under == 1).sum()\n",
    "total_count = len(y_under)\n",
    "\n",
    "zeros_percentage = (zeros_count / total_count) * 100\n",
    "ones_percentage = (ones_count / total_count) * 100\n",
    "\n",
    "print(f\"Обычные транзакции: {zeros_percentage:.2f}%\")\n",
    "print(f\"Мошеннические транзакции: {ones_percentage:.2f}%\\n\")\n",
    "print(\"Число обычных:\", zeros_count)\n",
    "print(\"Число мошеннических:\", ones_count)"
   ]
  },
  {
   "cell_type": "code",
   "execution_count": 23,
   "id": "1d9d1c0a",
   "metadata": {},
   "outputs": [],
   "source": [
    "X_u=X_under\n",
    "y_u=y_under\n",
    "\n",
    "X_train_under, X_test_under, y_train_under, y_test_under = train_test_split(X_u, y_u, test_size=0.2, random_state=42)\n"
   ]
  },
  {
   "cell_type": "markdown",
   "id": "5a87c08c",
   "metadata": {},
   "source": [
    "- ### Метод деревьев"
   ]
  },
  {
   "cell_type": "code",
   "execution_count": 24,
   "id": "a9fcefaf",
   "metadata": {},
   "outputs": [
    {
     "name": "stdout",
     "output_type": "stream",
     "text": [
      "[[73  5]\n",
      " [ 7 69]]\n",
      "              precision    recall  f1-score   support\n",
      "\n",
      "           0       0.91      0.94      0.92        78\n",
      "           1       0.93      0.91      0.92        76\n",
      "\n",
      "    accuracy                           0.92       154\n",
      "   macro avg       0.92      0.92      0.92       154\n",
      "weighted avg       0.92      0.92      0.92       154\n",
      "\n"
     ]
    }
   ],
   "source": [
    "classifier_DTC_under = DecisionTreeClassifier()\n",
    "classifier_DTC_under.fit(X_train_under, y_train_under)\n",
    "\n",
    "y_pred_DTC_under=classifier_DTC_under.predict(X_test_under)\n",
    "\n",
    "\n",
    "print(confusion_matrix(y_test_under, y_pred_DTC_under))\n",
    "print(classification_report(y_test_under, y_pred_DTC_under))"
   ]
  },
  {
   "cell_type": "code",
   "execution_count": 25,
   "id": "116ed333",
   "metadata": {},
   "outputs": [
    {
     "data": {
      "text/plain": [
       "<AxesSubplot:>"
      ]
     },
     "execution_count": 25,
     "metadata": {},
     "output_type": "execute_result"
    },
    {
     "data": {
      "image/png": "[encoded data removed]",
      "text/plain": [
       "<Figure size 432x288 with 2 Axes>"
      ]
     },
     "metadata": {
      "needs_background": "light"
     },
     "output_type": "display_data"
    }
   ],
   "source": [
    "classes_names = ['Обычные','Мошенники']\n",
    "cm = pd.DataFrame(confusion_matrix(y_test_under, y_pred_DTC_under), \n",
    "                  columns=classes_names, index = classes_names)\n",
    "                  \n",
    "sns.heatmap(cm, annot=True, fmt='d')"
   ]
  },
  {
   "cell_type": "markdown",
   "id": "561f3d6d",
   "metadata": {},
   "source": [
    "- ### KNN"
   ]
  },
  {
   "cell_type": "code",
   "execution_count": 26,
   "id": "4e588a99",
   "metadata": {},
   "outputs": [
    {
     "name": "stdout",
     "output_type": "stream",
     "text": [
      "[[51 27]\n",
      " [26 50]]\n",
      "              precision    recall  f1-score   support\n",
      "\n",
      "           0       0.66      0.65      0.66        78\n",
      "           1       0.65      0.66      0.65        76\n",
      "\n",
      "    accuracy                           0.66       154\n",
      "   macro avg       0.66      0.66      0.66       154\n",
      "weighted avg       0.66      0.66      0.66       154\n",
      "\n"
     ]
    }
   ],
   "source": [
    "classifier_KNN_under = KNeighborsClassifier(n_neighbors=3)\n",
    "classifier_KNN_under.fit(X_train_under, y_train_under)\n",
    "\n",
    "y_pred_KNN_under=classifier_KNN_under.predict(X_test_under)\n",
    "\n",
    "\n",
    "print(confusion_matrix(y_test_under, y_pred_KNN_under))\n",
    "print(classification_report(y_test_under, y_pred_KNN_under))"
   ]
  },
  {
   "cell_type": "code",
   "execution_count": 27,
   "id": "fe1fd593",
   "metadata": {},
   "outputs": [
    {
     "data": {
      "text/plain": [
       "<AxesSubplot:>"
      ]
     },
     "execution_count": 27,
     "metadata": {},
     "output_type": "execute_result"
    },
    {
     "data": {
      "image/png": "[encoded data removed]",
      "text/plain": [
       "<Figure size 432x288 with 2 Axes>"
      ]
     },
     "metadata": {
      "needs_background": "light"
     },
     "output_type": "display_data"
    }
   ],
   "source": [
    "classes_names = ['Обычные','Мошенники']\n",
    "cm = pd.DataFrame(confusion_matrix(y_test_under, y_pred_KNN_under), \n",
    "                  columns=classes_names, index = classes_names)\n",
    "                  \n",
    "sns.heatmap(cm, annot=True, fmt='d')"
   ]
  },
  {
   "cell_type": "markdown",
   "id": "7c6db9f7",
   "metadata": {},
   "source": [
    "- ### SVM"
   ]
  },
  {
   "cell_type": "code",
   "execution_count": 30,
   "id": "1010dd4d",
   "metadata": {},
   "outputs": [
    {
     "name": "stdout",
     "output_type": "stream",
     "text": [
      "[[78  0]\n",
      " [12 64]]\n",
      "              precision    recall  f1-score   support\n",
      "\n",
      "           0       0.87      1.00      0.93        78\n",
      "           1       1.00      0.84      0.91        76\n",
      "\n",
      "    accuracy                           0.92       154\n",
      "   macro avg       0.93      0.92      0.92       154\n",
      "weighted avg       0.93      0.92      0.92       154\n",
      "\n"
     ]
    }
   ],
   "source": [
    "from sklearn import svm\n",
    "C=1\n",
    "classifier_SVM_under=svm.SVC(kernel='linear',C=C).fit(X_train_under,y_train_under)\n",
    "\n",
    "y_pred_SVM_under=classifier_SVM_under.predict(X_test_under)\n",
    "\n",
    "print(confusion_matrix(y_test_under, y_pred_SVM_under))\n",
    "print(classification_report(y_test_under, y_pred_SVM_under))"
   ]
  },
  {
   "cell_type": "code",
   "execution_count": 32,
   "id": "d55240b1",
   "metadata": {},
   "outputs": [
    {
     "data": {
      "text/plain": [
       "<AxesSubplot:>"
      ]
     },
     "execution_count": 32,
     "metadata": {},
     "output_type": "execute_result"
    },
    {
     "data": {
      "image/png": "[encoded data removed]",
      "text/plain": [
       "<Figure size 432x288 with 2 Axes>"
      ]
     },
     "metadata": {
      "needs_background": "light"
     },
     "output_type": "display_data"
    }
   ],
   "source": [
    "classes_names = ['Обычные','Мошенники']\n",
    "cm = pd.DataFrame(confusion_matrix(y_test_under, y_pred_SVM_under), \n",
    "                  columns=classes_names, index = classes_names)\n",
    "                  \n",
    "sns.heatmap(cm, annot=True, fmt='d')"
   ]
  },
  {
   "cell_type": "markdown",
   "id": "5215ee82",
   "metadata": {},
   "source": [
    "# Подведение итогов:\n",
    "- Были применены методы классификации: DecisionTreeClassifier, KNN, SVM. \n",
    "- Сначала методы были реализованы на несбалансированных данных. Точность в данном случае не высокая, что вполне ожидаемо. Лучше всего себя проявил метод DecisionTreeClassifier.\n",
    "- Далее была проведена балансировка данных двумя способами: RandomOverSampler и RandomUnderSampler. Методы остались те же, что и в первом случае с несбалансированными данными. Точность повысилась при обоих способах сэмплирования, но более хороший результат показали методы с over-сэмплированием. \n",
    "- Отдельно стоит отметить, что DecisionTreeClassifier выдавал более высокую точность во всех случаях, по сравнению с другими методами, при этом работал он быстрее, чем KNN и, особенно, SVM."
   ]
  },
  {
   "cell_type": "code",
   "execution_count": null,
   "id": "2feebf9c",
   "metadata": {},
   "outputs": [],
   "source": []
  }
 ],
 "metadata": {
  "kernelspec": {
   "display_name": "Python 3 (ipykernel)",
   "language": "python",
   "name": "python3"
  },
  "language_info": {
   "codemirror_mode": {
    "name": "ipython",
    "version": 3
   },
   "file_extension": ".py",
   "mimetype": "text/x-python",
   "name": "python",
   "nbconvert_exporter": "python",
   "pygments_lexer": "ipython3",
   "version": "3.9.12"
  }
 },
 "nbformat": 4,
 "nbformat_minor": 5
}
